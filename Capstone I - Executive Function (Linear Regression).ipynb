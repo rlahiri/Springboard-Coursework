{
 "cells": [
  {
   "cell_type": "markdown",
   "metadata": {},
   "source": [
    "**Target Variable(s): Executive Function Scores**\n",
    "\n",
    "1. Interference\n",
    "2. Working Memory\n",
    "3. Cognitive Flexibility"
   ]
  },
  {
   "cell_type": "code",
   "execution_count": 47,
   "metadata": {},
   "outputs": [],
   "source": [
    "import pandas as pd\n",
    "import numpy as np\n",
    "import matplotlib.pyplot as plt\n",
    "%matplotlib inline\n",
    "\n",
    "import seaborn as sns\n",
    "\n",
    "import scipy.stats as stats\n",
    "\n",
    "from sklearn.linear_model import LinearRegression\n",
    "from sklearn.model_selection import train_test_split\n",
    "\n",
    "from sklearn.metrics import mean_squared_error\n",
    "\n",
    "from sklearn.model_selection import cross_val_score\n",
    "from sklearn.metrics import r2_score"
   ]
  },
  {
   "cell_type": "code",
   "execution_count": 48,
   "metadata": {},
   "outputs": [],
   "source": [
    "data = pd.ExcelFile('/Users/springboard/Desktop/Capstone-Project/Obesity.xlsx')\n",
    "\n",
    "df = data.parse('Full sample_EF_excel')"
   ]
  },
  {
   "cell_type": "code",
   "execution_count": 49,
   "metadata": {},
   "outputs": [
    {
     "name": "stdout",
     "output_type": "stream",
     "text": [
      "<class 'pandas.core.frame.DataFrame'>\n",
      "Int64Index: 486 entries, 0 to 512\n",
      "Data columns (total 25 columns):\n",
      "Reference_no              486 non-null int64\n",
      "Actual_age_C              486 non-null float64\n",
      "Sex                       486 non-null int64\n",
      "Weight                    486 non-null float64\n",
      "Height_meter              486 non-null float64\n",
      "BMI                       486 non-null float64\n",
      "BMI_for_age               486 non-null float64\n",
      "Physical_fitness_score    486 non-null float64\n",
      "PFS_CAT                   486 non-null int64\n",
      "Breakfast                 486 non-null int64\n",
      "Lunch                     486 non-null int64\n",
      "Dinner                    486 non-null int64\n",
      "PA_total_score            486 non-null float64\n",
      "PA_CAT                    486 non-null int64\n",
      "Sleep_weekdays            486 non-null float64\n",
      "Sleep_weekend             486 non-null float64\n",
      "Sleep_percent             486 non-null float64\n",
      "Global_sleep_CAT          486 non-null int64\n",
      "Household_size            486 non-null float64\n",
      "Income_CAT                486 non-null float64\n",
      "Edu_father                486 non-null float64\n",
      "Edu_mother                486 non-null float64\n",
      "Interference_score_ALL    486 non-null float64\n",
      "WM_total                  486 non-null int64\n",
      "CF_total                  486 non-null float64\n",
      "dtypes: float64(16), int64(9)\n",
      "memory usage: 98.7 KB\n"
     ]
    }
   ],
   "source": [
    "# Drop 27 rows corresponding to 27 missing values\n",
    "\n",
    "df_cleaned = df.dropna()\n",
    "df_cleaned.info()"
   ]
  },
  {
   "cell_type": "markdown",
   "metadata": {},
   "source": [
    "# Linear Regression (using sklearn)"
   ]
  },
  {
   "cell_type": "markdown",
   "metadata": {},
   "source": [
    "**Target Variable #1: Interference**"
   ]
  },
  {
   "cell_type": "code",
   "execution_count": 50,
   "metadata": {},
   "outputs": [],
   "source": [
    "# Create feature and target arrays\n",
    "\n",
    "X = df_cleaned.drop(['Interference_score_ALL', 'WM_total', 'CF_total'], axis=1).values\n",
    "y = df_cleaned['Interference_score_ALL'].values"
   ]
  },
  {
   "cell_type": "code",
   "execution_count": 51,
   "metadata": {},
   "outputs": [],
   "source": [
    "# Split into training and test sets\n",
    "\n",
    "X_train, X_test, y_train, y_test = train_test_split(X, y, test_size=0.2, random_state=50)"
   ]
  },
  {
   "cell_type": "code",
   "execution_count": 52,
   "metadata": {},
   "outputs": [
    {
     "data": {
      "text/plain": [
       "LinearRegression(copy_X=True, fit_intercept=True, n_jobs=None, normalize=True)"
      ]
     },
     "execution_count": 52,
     "metadata": {},
     "output_type": "execute_result"
    }
   ],
   "source": [
    "# Fit the regressor to the training data \n",
    "\n",
    "reg = LinearRegression(normalize=True)\n",
    "reg.fit(X_train, y_train)"
   ]
  },
  {
   "cell_type": "code",
   "execution_count": 53,
   "metadata": {},
   "outputs": [],
   "source": [
    "# Predict on the test data\n",
    "\n",
    "y_pred = reg.predict(X_test)"
   ]
  },
  {
   "cell_type": "code",
   "execution_count": 54,
   "metadata": {},
   "outputs": [
    {
     "name": "stdout",
     "output_type": "stream",
     "text": [
      "R^2: -0.029322066117877906\n",
      "Root Mean Squared Error: 6.8112600391431934\n"
     ]
    }
   ],
   "source": [
    "# R^2 and RMSE\n",
    "\n",
    "print(\"R^2: {}\".format(reg.score(X_test, y_test)))\n",
    "rmse = np.sqrt(mean_squared_error(y_test, y_pred))\n",
    "print(\"Root Mean Squared Error: {}\".format(rmse))"
   ]
  },
  {
   "cell_type": "code",
   "execution_count": 55,
   "metadata": {},
   "outputs": [
    {
     "name": "stdout",
     "output_type": "stream",
     "text": [
      "Average 5-Fold CV Score for Interference: -0.039754257345681145\n"
     ]
    }
   ],
   "source": [
    "cv_scores_int = cross_val_score(reg, X, y, cv=5)\n",
    "print(\"Average 5-Fold CV Score for Interference: {}\".format(np.mean(cv_scores_int)))"
   ]
  },
  {
   "cell_type": "markdown",
   "metadata": {},
   "source": [
    "**- Lasso Regression**"
   ]
  },
  {
   "cell_type": "code",
   "execution_count": 56,
   "metadata": {},
   "outputs": [
    {
     "data": {
      "text/plain": [
       "-9.938096219164194e-05"
      ]
     },
     "execution_count": 56,
     "metadata": {},
     "output_type": "execute_result"
    }
   ],
   "source": [
    "# Lasso Regression\n",
    "\n",
    "from sklearn.linear_model import Lasso\n",
    "\n",
    "lasso_int = Lasso(alpha=0.1, normalize=True)\n",
    "lasso_int.fit(X_train, y_train)\n",
    "lasso_int_pred = lasso_int.predict(X_test)\n",
    "lasso_int.score(X_test, y_test)"
   ]
  },
  {
   "cell_type": "code",
   "execution_count": 57,
   "metadata": {},
   "outputs": [
    {
     "data": {
      "image/png": "[encoded data removed]",
      "text/plain": [
       "<Figure size 432x288 with 1 Axes>"
      ]
     },
     "metadata": {
      "needs_background": "light"
     },
     "output_type": "display_data"
    }
   ],
   "source": [
    "names = df_cleaned.drop(['Interference_score_ALL', 'WM_total', 'CF_total'], axis=1).columns\n",
    "\n",
    "lasso_graph_1 = Lasso(alpha=0.1)\n",
    "lasso_coef_1 = lasso_graph_1.fit(X, y).coef_\n",
    "_ = plt.plot(range(len(names)), lasso_coef_1)\n",
    "_ = plt.xticks(range(len(names)), names, rotation=100)\n",
    "_ = plt.margins(0.04)\n",
    "plt.show()"
   ]
  },
  {
   "cell_type": "markdown",
   "metadata": {},
   "source": [
    "It appears as if 'PFS_CAT' and 'Income_CAT' are the two most important features when predicting Interference scores."
   ]
  },
  {
   "cell_type": "code",
   "execution_count": 58,
   "metadata": {},
   "outputs": [],
   "source": [
    "# Recreate feature and target arrays (based on Lasso analysis)\n",
    "\n",
    "X_lasso_int = df_cleaned[['PFS_CAT', 'Income_CAT']].values\n",
    "y_lasso_int = df_cleaned['Interference_score_ALL'].values"
   ]
  },
  {
   "cell_type": "code",
   "execution_count": 59,
   "metadata": {},
   "outputs": [],
   "source": [
    "# Split into training and test sets\n",
    "\n",
    "X_train_int, X_test_int, y_train_int, y_test_int = train_test_split(X_lasso_int, y_lasso_int, test_size=0.2, random_state=50)"
   ]
  },
  {
   "cell_type": "code",
   "execution_count": 60,
   "metadata": {},
   "outputs": [
    {
     "data": {
      "text/plain": [
       "LinearRegression(copy_X=True, fit_intercept=True, n_jobs=None, normalize=True)"
      ]
     },
     "execution_count": 60,
     "metadata": {},
     "output_type": "execute_result"
    }
   ],
   "source": [
    "# Fit the regressor to the training data \n",
    "\n",
    "reg_int = LinearRegression(normalize=True)\n",
    "reg_int.fit(X_train_int, y_train_int)"
   ]
  },
  {
   "cell_type": "code",
   "execution_count": 61,
   "metadata": {},
   "outputs": [],
   "source": [
    "# Predict on the test data\n",
    "\n",
    "y_pred_int = reg_int.predict(X_test_int)"
   ]
  },
  {
   "cell_type": "code",
   "execution_count": 62,
   "metadata": {},
   "outputs": [
    {
     "name": "stdout",
     "output_type": "stream",
     "text": [
      "R^2: 0.0179516842666404\n",
      "Root Mean Squared Error: 6.6530110850223565\n"
     ]
    }
   ],
   "source": [
    "# R^2 and RMSE\n",
    "\n",
    "print(\"R^2: {}\".format(reg_int.score(X_test_int, y_test_int)))\n",
    "rmse = np.sqrt(mean_squared_error(y_test_int, y_pred_int))\n",
    "print(\"Root Mean Squared Error: {}\".format(rmse))"
   ]
  },
  {
   "cell_type": "code",
   "execution_count": 63,
   "metadata": {},
   "outputs": [
    {
     "name": "stdout",
     "output_type": "stream",
     "text": [
      "Average 5-Fold CV Score for Interference: 0.003012455371828859\n"
     ]
    }
   ],
   "source": [
    "cv_scores_int1 = cross_val_score(reg_int, X_lasso_int, y_lasso_int, cv=5)\n",
    "print(\"Average 5-Fold CV Score for Interference: {}\".format(np.mean(cv_scores_int1)))"
   ]
  },
  {
   "cell_type": "code",
   "execution_count": 64,
   "metadata": {},
   "outputs": [
    {
     "name": "stdout",
     "output_type": "stream",
     "text": [
      "                              OLS Regression Results                              \n",
      "==================================================================================\n",
      "Dep. Variable:     Interference_score_ALL   R-squared:                       0.023\n",
      "Model:                                OLS   Adj. R-squared:                  0.015\n",
      "Method:                     Least Squares   F-statistic:                     2.846\n",
      "Date:                    Thu, 02 May 2019   Prob (F-statistic):             0.0236\n",
      "Time:                            12:30:32   Log-Likelihood:                -1597.8\n",
      "No. Observations:                     486   AIC:                             3206.\n",
      "Df Residuals:                         481   BIC:                             3227.\n",
      "Df Model:                               4                                         \n",
      "Covariance Type:                nonrobust                                         \n",
      "==============================================================================\n",
      "                 coef    std err          t      P>|t|      [0.025      0.975]\n",
      "------------------------------------------------------------------------------\n",
      "Intercept      5.5950      2.298      2.435      0.015       1.080      10.110\n",
      "BMI           -0.1262      0.060     -2.112      0.035      -0.244      -0.009\n",
      "PFS_CAT       -0.2131      0.311     -0.684      0.494      -0.825       0.399\n",
      "Income_CAT     1.1780      0.435      2.711      0.007       0.324       2.032\n",
      "Edu_father    -1.0204      0.607     -1.681      0.093      -2.213       0.173\n",
      "==============================================================================\n",
      "Omnibus:                       18.817   Durbin-Watson:                   1.887\n",
      "Prob(Omnibus):                  0.000   Jarque-Bera (JB):               28.126\n",
      "Skew:                           0.310   Prob(JB):                     7.81e-07\n",
      "Kurtosis:                       4.002   Cond. No.                         175.\n",
      "==============================================================================\n",
      "\n",
      "Warnings:\n",
      "[1] Standard Errors assume that the covariance matrix of the errors is correctly specified.\n"
     ]
    }
   ],
   "source": [
    "import statsmodels.api as sm\n",
    "from statsmodels.formula.api import ols\n",
    "\n",
    "m_int = ols('Interference_score_ALL ~ BMI + PFS_CAT + Income_CAT + Edu_father',df_cleaned).fit()\n",
    "print(m_int.summary())"
   ]
  },
  {
   "cell_type": "markdown",
   "metadata": {},
   "source": [
    "The p-values (under P>|t| in the coefficient table) for two variables of interest are less than α = 0.05. As such, it can be inferred that BMI and income category are statistically significant predictors of Interference scores. \n",
    "\n",
    "The regression coefficient of -0.126 for BMI means that on average, a one-level increase in BMI is associated with a 0.126-point decrease in Interference score. The confidence interval gives a range of possible values for this average change (a score between 1.080 and 10.110). \n",
    "\n",
    "The regression coefficient of 1.178 for Income_CAT means that on average, a one-level increase in income category is associated with a 1.178-point increase in Interference score. The confidence interval gives a range of possible values for this average change (a score between 0.324 and 2.032). \n",
    "\n",
    "The average interference score, if all independent variables = 0, would be 5.595.\n",
    "\n",
    "The F-statistic = 2.846, and its corresponding p-value = 0.0236. This model is statistically sound. \n",
    "\n",
    "R^2 = 0.023. In general, the R^2 value is the percentage of variance in the response variable. In this case, R^2 signifies that 2.3% of Interference can be explained by BMI and income category. "
   ]
  },
  {
   "cell_type": "code",
   "execution_count": 65,
   "metadata": {},
   "outputs": [
    {
     "data": {
      "image/png": "[encoded data removed]",
      "text/plain": [
       "<Figure size 432x288 with 1 Axes>"
      ]
     },
     "metadata": {
      "needs_background": "light"
     },
     "output_type": "display_data"
    }
   ],
   "source": [
    "plt.scatter(m_int.fittedvalues, m_int.resid)\n",
    "plt.xlabel('Fitted Values')\n",
    "plt.ylabel('Residuals')\n",
    "plt.title('Fitted Values vs. Residuals')\n",
    "\n",
    "plt.show()"
   ]
  },
  {
   "cell_type": "markdown",
   "metadata": {},
   "source": [
    "**Target Variable #2: Working Memory**"
   ]
  },
  {
   "cell_type": "code",
   "execution_count": 66,
   "metadata": {},
   "outputs": [],
   "source": [
    "# Create target array\n",
    "\n",
    "y_WM = df_cleaned['WM_total'].values"
   ]
  },
  {
   "cell_type": "code",
   "execution_count": 67,
   "metadata": {},
   "outputs": [],
   "source": [
    "# Split into training and test sets\n",
    "\n",
    "X_train_WM, X_test_WM, y_train_WM, y_test_WM = train_test_split(X, y_WM, test_size = 0.2, random_state=100)"
   ]
  },
  {
   "cell_type": "code",
   "execution_count": 68,
   "metadata": {},
   "outputs": [
    {
     "data": {
      "text/plain": [
       "LinearRegression(copy_X=True, fit_intercept=True, n_jobs=None, normalize=True)"
      ]
     },
     "execution_count": 68,
     "metadata": {},
     "output_type": "execute_result"
    }
   ],
   "source": [
    "# Fit the regressor to the training data \n",
    "\n",
    "reg_WM = LinearRegression(normalize=True)\n",
    "reg_WM.fit(X_train_WM, y_train_WM)"
   ]
  },
  {
   "cell_type": "code",
   "execution_count": 69,
   "metadata": {},
   "outputs": [],
   "source": [
    "# Predict on the test data\n",
    "\n",
    "y_pred_WM = reg.predict(X_test_WM)"
   ]
  },
  {
   "cell_type": "code",
   "execution_count": 70,
   "metadata": {},
   "outputs": [
    {
     "name": "stdout",
     "output_type": "stream",
     "text": [
      "R^2: 0.10672117878391663\n",
      "Root Mean Squared Error: 16.35041147922245\n"
     ]
    }
   ],
   "source": [
    "# R^2 and RMSE\n",
    "\n",
    "print(\"R^2: {}\".format(reg_WM.score(X_test_WM, y_test_WM)))\n",
    "rmse = np.sqrt(mean_squared_error(y_test_WM, y_pred_WM))\n",
    "print(\"Root Mean Squared Error: {}\".format(rmse))"
   ]
  },
  {
   "cell_type": "code",
   "execution_count": 71,
   "metadata": {},
   "outputs": [
    {
     "name": "stdout",
     "output_type": "stream",
     "text": [
      "Average 5-Fold CV Score for Working Memory: 0.010540435513118984\n"
     ]
    }
   ],
   "source": [
    "cv_scores_WM = cross_val_score(reg_WM, X, y_WM, cv=5)\n",
    "print(\"Average 5-Fold CV Score for Working Memory: {}\".format(np.mean(cv_scores_WM)))"
   ]
  },
  {
   "cell_type": "markdown",
   "metadata": {},
   "source": [
    "**- Lasso Regression**"
   ]
  },
  {
   "cell_type": "code",
   "execution_count": 72,
   "metadata": {},
   "outputs": [
    {
     "data": {
      "text/plain": [
       "-0.0009559612689187258"
      ]
     },
     "execution_count": 72,
     "metadata": {},
     "output_type": "execute_result"
    }
   ],
   "source": [
    "# Lasso Regression\n",
    "\n",
    "lasso_WM = Lasso(alpha=0.1, normalize=True)\n",
    "lasso_WM.fit(X_train_WM, y_train_WM)\n",
    "lasso_WM_pred = lasso_WM.predict(X_test_WM)\n",
    "lasso_WM.score(X_test_WM, y_test_WM)"
   ]
  },
  {
   "cell_type": "code",
   "execution_count": 73,
   "metadata": {},
   "outputs": [
    {
     "data": {
      "image/png": "[encoded data removed]",
      "text/plain": [
       "<Figure size 432x288 with 1 Axes>"
      ]
     },
     "metadata": {
      "needs_background": "light"
     },
     "output_type": "display_data"
    }
   ],
   "source": [
    "lasso_graph_2 = Lasso(alpha=0.1)\n",
    "lasso_coef_2 = lasso_graph_2.fit(X, y_WM).coef_\n",
    "_ = plt.plot(range(len(names)), lasso_coef_2)\n",
    "_ = plt.xticks(range(len(names)), names, rotation=100)\n",
    "_ = plt.margins(0.04)\n",
    "plt.show()"
   ]
  },
  {
   "cell_type": "markdown",
   "metadata": {},
   "source": [
    "It appears as if 'Global_sleep_CAT' and 'Income_CAT' are the two most important features when predicting Working Memory scores."
   ]
  },
  {
   "cell_type": "code",
   "execution_count": 74,
   "metadata": {},
   "outputs": [
    {
     "name": "stdout",
     "output_type": "stream",
     "text": [
      "R^2: 0.09394754879919331\n",
      "Root Mean Squared Error: 4.023163865087655\n"
     ]
    }
   ],
   "source": [
    "# Recreate feature and target arrays (based on Lasso analysis)\n",
    "\n",
    "X_lasso_WM = df_cleaned[['Global_sleep_CAT', 'Income_CAT']].values\n",
    "y_lasso_WM = df_cleaned['WM_total'].values\n",
    "\n",
    "# Split into training and test sets\n",
    "\n",
    "X_train_WM1, X_test_WM1, y_train_WM1, y_test_WM1 = train_test_split(X_lasso_WM, y_lasso_WM, test_size=0.15, random_state=100)\n",
    "\n",
    "# Fit the regressor to the training data \n",
    "\n",
    "reg_WM1 = LinearRegression(normalize=True)\n",
    "reg_WM1.fit(X_train_WM1, y_train_WM1)\n",
    "\n",
    "# Predict on the test data\n",
    "\n",
    "y_pred_WM1 = reg_WM1.predict(X_test_WM1)\n",
    "\n",
    "# R^2 and RMSE\n",
    "\n",
    "print(\"R^2: {}\".format(reg_WM1.score(X_test_WM1, y_test_WM1)))\n",
    "rmse = np.sqrt(mean_squared_error(y_test_WM1, y_pred_WM1))\n",
    "print(\"Root Mean Squared Error: {}\".format(rmse))"
   ]
  },
  {
   "cell_type": "code",
   "execution_count": 75,
   "metadata": {},
   "outputs": [
    {
     "name": "stdout",
     "output_type": "stream",
     "text": [
      "Average 5-Fold CV Score for Working Memory: 0.04277499365946273\n"
     ]
    }
   ],
   "source": [
    "cv_scores_WM1 = cross_val_score(reg_WM1, X_lasso_WM, y_lasso_WM, cv=5)\n",
    "print(\"Average 5-Fold CV Score for Working Memory: {}\".format(np.mean(cv_scores_WM1)))"
   ]
  },
  {
   "cell_type": "code",
   "execution_count": 76,
   "metadata": {},
   "outputs": [
    {
     "name": "stdout",
     "output_type": "stream",
     "text": [
      "                            OLS Regression Results                            \n",
      "==============================================================================\n",
      "Dep. Variable:               WM_total   R-squared:                       0.076\n",
      "Model:                            OLS   Adj. R-squared:                  0.064\n",
      "Method:                 Least Squares   F-statistic:                     6.564\n",
      "Date:                Thu, 02 May 2019   Prob (F-statistic):           1.12e-06\n",
      "Time:                        12:30:32   Log-Likelihood:                -1313.9\n",
      "No. Observations:                 486   AIC:                             2642.\n",
      "Df Residuals:                     479   BIC:                             2671.\n",
      "Df Model:                           6                                         \n",
      "Covariance Type:            nonrobust                                         \n",
      "====================================================================================\n",
      "                       coef    std err          t      P>|t|      [0.025      0.975]\n",
      "------------------------------------------------------------------------------------\n",
      "Intercept           15.2956      1.460     10.479      0.000      12.427      18.164\n",
      "BMI                 -0.0365      0.033     -1.103      0.270      -0.101       0.028\n",
      "Dinner               0.2148      0.075      2.879      0.004       0.068       0.361\n",
      "PA_total_score       0.1684      0.258      0.653      0.514      -0.339       0.675\n",
      "Sleep_weekend        0.0484      0.084      0.577      0.564      -0.117       0.213\n",
      "Global_sleep_CAT    -1.0236      0.377     -2.718      0.007      -1.763      -0.284\n",
      "Income_CAT           0.8065      0.208      3.884      0.000       0.398       1.215\n",
      "==============================================================================\n",
      "Omnibus:                       29.775   Durbin-Watson:                   2.076\n",
      "Prob(Omnibus):                  0.000   Jarque-Bera (JB):               34.118\n",
      "Skew:                           0.588   Prob(JB):                     3.90e-08\n",
      "Kurtosis:                       3.549   Cond. No.                         214.\n",
      "==============================================================================\n",
      "\n",
      "Warnings:\n",
      "[1] Standard Errors assume that the covariance matrix of the errors is correctly specified.\n"
     ]
    }
   ],
   "source": [
    "m_WM = ols('WM_total ~ BMI + Dinner + PA_total_score + Sleep_weekend + Global_sleep_CAT + Income_CAT',df_cleaned).fit()\n",
    "print(m_WM.summary())"
   ]
  },
  {
   "cell_type": "markdown",
   "metadata": {},
   "source": [
    "The p-values (under P>|t| in the coefficient table) for three of six independent variables are less than α = 0.05. \n",
    "As such, it can be inferred that the number of dinners, global sleep category, and income category are statistically significant predictors of Working Memory scores.\n",
    "\n",
    "The regression coefficient of 0.215 for Dinner means that on average, a one-level increase in number of dinners consumed is associated with a 0.215-point increase in Working Memory score. The confidence interval gives a range of possible values for this average change (a score between 0.068 and 0.361).\n",
    "\n",
    "The regression coefficient of -1.024 for Global_sleep_CAT means that on average, a one-level increase in global sleep category is associated with a 1.024-point decrease in Working Memory score. The confidence interval gives a range of possible values for this average change (a score between -1.763 and -0.284).\n",
    "\n",
    "The regression coefficient of 0.807 for Income_CAT means that on average, a one-level increase in income category is associated with a 0.807-point decrease in Working Memory score. The confidence interval gives a range of possible values for this average change (a score between 0.398 and 1.215).\n",
    "\n",
    "The average working memory score, if all independent variables = 0, would be 15.30.\n",
    "\n",
    "The F-statistic = 6.564, and its corresponding p-value = 1.12e-06. This model is statistically sound.\n",
    "\n",
    "R^2 = 0.076. 7.6% of Working Memory can be explained number of dinners, global sleep category, and income category.  "
   ]
  },
  {
   "cell_type": "code",
   "execution_count": 77,
   "metadata": {},
   "outputs": [
    {
     "data": {
      "image/png": "[encoded data removed]",
      "text/plain": [
       "<Figure size 432x288 with 1 Axes>"
      ]
     },
     "metadata": {
      "needs_background": "light"
     },
     "output_type": "display_data"
    }
   ],
   "source": [
    "plt.scatter(m_WM.fittedvalues, m_WM.resid)\n",
    "plt.xlabel('Fitted Values')\n",
    "plt.ylabel('Residuals')\n",
    "plt.title('Fitted Values vs. Residuals')\n",
    "\n",
    "plt.show()"
   ]
  },
  {
   "cell_type": "markdown",
   "metadata": {},
   "source": [
    "**Target Variable #3: Cognitive Flexibility**"
   ]
  },
  {
   "cell_type": "code",
   "execution_count": 78,
   "metadata": {},
   "outputs": [],
   "source": [
    "# Create target array\n",
    "\n",
    "y_CF = df_cleaned['CF_total'].values"
   ]
  },
  {
   "cell_type": "code",
   "execution_count": 79,
   "metadata": {},
   "outputs": [],
   "source": [
    "# Split into training and test sets\n",
    "\n",
    "X_train_CF, X_test_CF, y_train_CF, y_test_CF = train_test_split(X, y_CF, test_size = 0.1, random_state=50)"
   ]
  },
  {
   "cell_type": "code",
   "execution_count": 103,
   "metadata": {},
   "outputs": [
    {
     "data": {
      "text/plain": [
       "LinearRegression(copy_X=True, fit_intercept=True, n_jobs=None, normalize=True)"
      ]
     },
     "execution_count": 103,
     "metadata": {},
     "output_type": "execute_result"
    }
   ],
   "source": [
    "# Fit the regressor to the training data \n",
    "\n",
    "reg_CF = LinearRegression(normalize=True)\n",
    "reg_CF.fit(X_train_CF, y_train_CF)"
   ]
  },
  {
   "cell_type": "code",
   "execution_count": 100,
   "metadata": {},
   "outputs": [],
   "source": [
    "# Predict on the test data\n",
    "\n",
    "y_pred_CF = reg_CF.predict(X_test_CF)"
   ]
  },
  {
   "cell_type": "code",
   "execution_count": 101,
   "metadata": {},
   "outputs": [
    {
     "name": "stdout",
     "output_type": "stream",
     "text": [
      "R^2: -0.022702976365233773\n",
      "Root Mean Squared Error: 19.818366018324106\n"
     ]
    }
   ],
   "source": [
    "# R^2 and RMSE\n",
    "\n",
    "print(\"R^2: {}\".format(reg_CF.score(X_test_CF, y_test_CF)))\n",
    "rmse = np.sqrt(mean_squared_error(y_test_CF, y_pred_CF))\n",
    "print(\"Root Mean Squared Error: {}\".format(rmse))"
   ]
  },
  {
   "cell_type": "code",
   "execution_count": 102,
   "metadata": {},
   "outputs": [
    {
     "name": "stdout",
     "output_type": "stream",
     "text": [
      "Average 5-Fold CV Score for Cognitive Flexibility: -0.1159837997155361\n"
     ]
    }
   ],
   "source": [
    "cv_scores_CF = cross_val_score(reg_CF, X, y_CF, cv=5)\n",
    "print(\"Average 5-Fold CV Score for Cognitive Flexibility: {}\".format(np.mean(cv_scores_CF)))"
   ]
  },
  {
   "cell_type": "markdown",
   "metadata": {},
   "source": [
    "**- Lasso Regression**"
   ]
  },
  {
   "cell_type": "code",
   "execution_count": 84,
   "metadata": {},
   "outputs": [
    {
     "data": {
      "text/plain": [
       "-0.402779691503107"
      ]
     },
     "execution_count": 84,
     "metadata": {},
     "output_type": "execute_result"
    }
   ],
   "source": [
    "# Lasso Regression\n",
    "\n",
    "lasso_CF = Lasso(alpha=0.1, normalize=True)\n",
    "lasso_CF.fit(X_train_CF, y_train_CF)\n",
    "lasso_CF_pred = lasso_CF.predict(X_test_CF)\n",
    "lasso_WM.score(X_test_CF, y_test_CF)"
   ]
  },
  {
   "cell_type": "code",
   "execution_count": 85,
   "metadata": {},
   "outputs": [
    {
     "data": {
      "image/png": "[encoded data removed]",
      "text/plain": [
       "<Figure size 432x288 with 1 Axes>"
      ]
     },
     "metadata": {
      "needs_background": "light"
     },
     "output_type": "display_data"
    }
   ],
   "source": [
    "lasso_graph_3 = Lasso(alpha=0.1)\n",
    "lasso_coef_3 = lasso_graph_3.fit(X, y_CF).coef_\n",
    "_ = plt.plot(range(len(names)), lasso_coef_3)\n",
    "_ = plt.xticks(range(len(names)), names, rotation=75)\n",
    "_ = plt.margins(0.03)\n",
    "plt.show()"
   ]
  },
  {
   "cell_type": "markdown",
   "metadata": {},
   "source": [
    "'Actual_age_C, 'Sex', 'PFS_CAT', 'Household_size', and 'Income_CAT' are the most important features when predicting Cognitive Flexibility scores."
   ]
  },
  {
   "cell_type": "code",
   "execution_count": 86,
   "metadata": {},
   "outputs": [
    {
     "name": "stdout",
     "output_type": "stream",
     "text": [
      "R^2: 0.05322700346960763\n",
      "Root Mean Squared Error: 17.686713727959347\n"
     ]
    }
   ],
   "source": [
    "# Recreate feature and target arrays (based on Lasso analysis)\n",
    "\n",
    "X_lasso_CF = df_cleaned[['Actual_age_C', 'Sex', 'PFS_CAT', 'Household_size', 'Income_CAT']].values\n",
    "y_lasso_CF = df_cleaned['CF_total'].values\n",
    "\n",
    "# Split into training and test sets\n",
    "\n",
    "X_train_CF1, X_test_CF1, y_train_CF1, y_test_CF1 = train_test_split(X_lasso_CF, y_lasso_CF, test_size=0.3, random_state=50)\n",
    "\n",
    "# Fit the regressor to the training data \n",
    "\n",
    "reg_CF1 = LinearRegression(normalize=True)\n",
    "reg_CF1.fit(X_train_CF1, y_train_CF1)\n",
    "\n",
    "# Predict on the test data\n",
    "\n",
    "y_pred_CF1 = reg_CF1.predict(X_test_CF1)\n",
    "\n",
    "# R^2 and RMSE\n",
    "\n",
    "print(\"R^2: {}\".format(reg_CF1.score(X_test_CF1, y_test_CF1)))\n",
    "rmse = np.sqrt(mean_squared_error(y_test_CF1, y_pred_CF1))\n",
    "print(\"Root Mean Squared Error: {}\".format(rmse))"
   ]
  },
  {
   "cell_type": "code",
   "execution_count": 87,
   "metadata": {},
   "outputs": [
    {
     "name": "stdout",
     "output_type": "stream",
     "text": [
      "Average 5-Fold CV Score for Working Memory: -0.05806307633896213\n"
     ]
    }
   ],
   "source": [
    "cv_scores_CF1 = cross_val_score(reg_CF1, X_lasso_CF, y_lasso_CF, cv=10)\n",
    "print(\"Average 5-Fold CV Score for Working Memory: {}\".format(np.mean(cv_scores_CF1)))"
   ]
  },
  {
   "cell_type": "code",
   "execution_count": 88,
   "metadata": {},
   "outputs": [
    {
     "name": "stdout",
     "output_type": "stream",
     "text": [
      "                            OLS Regression Results                            \n",
      "==============================================================================\n",
      "Dep. Variable:               CF_total   R-squared:                       0.046\n",
      "Model:                            OLS   Adj. R-squared:                  0.036\n",
      "Method:                 Least Squares   F-statistic:                     4.610\n",
      "Date:                Thu, 02 May 2019   Prob (F-statistic):           0.000406\n",
      "Time:                        12:30:33   Log-Likelihood:                -2119.9\n",
      "No. Observations:                 486   AIC:                             4252.\n",
      "Df Residuals:                     480   BIC:                             4277.\n",
      "Df Model:                           5                                         \n",
      "Covariance Type:            nonrobust                                         \n",
      "==================================================================================\n",
      "                     coef    std err          t      P>|t|      [0.025      0.975]\n",
      "----------------------------------------------------------------------------------\n",
      "Intercept         62.6695     10.618      5.902      0.000      41.806      83.533\n",
      "Actual_age_C      -2.1004      0.673     -3.122      0.002      -3.422      -0.778\n",
      "Sex               -4.3704      1.976     -2.211      0.027      -8.253      -0.487\n",
      "PFS_CAT           -0.0408      0.981     -0.042      0.967      -1.969       1.887\n",
      "Household_size     1.0447      0.539      1.939      0.053      -0.014       2.103\n",
      "Income_CAT        -2.1572      1.090     -1.980      0.048      -4.298      -0.016\n",
      "==============================================================================\n",
      "Omnibus:                      126.413   Durbin-Watson:                   2.044\n",
      "Prob(Omnibus):                  0.000   Jarque-Bera (JB):              315.807\n",
      "Skew:                           1.299   Prob(JB):                     2.65e-69\n",
      "Kurtosis:                       5.974   Cond. No.                         191.\n",
      "==============================================================================\n",
      "\n",
      "Warnings:\n",
      "[1] Standard Errors assume that the covariance matrix of the errors is correctly specified.\n"
     ]
    }
   ],
   "source": [
    "m_CF = ols('CF_total ~ Actual_age_C + Sex + PFS_CAT + Household_size + Income_CAT',df_cleaned).fit()\n",
    "print(m_CF.summary())"
   ]
  },
  {
   "cell_type": "markdown",
   "metadata": {},
   "source": [
    "The p-values (under P>|t| in the coefficient table) for three of out five independent variables are less than α = 0.05. As such, it can be inferred that age, sex, and income category are statistically significant predictors of Cognitive Flexibility scores.\n",
    "\n",
    "The regression coefficient of -2.10 for Actual_age_C means that on average, a one-year increase in age is associated with a 2.10-point decrease in Cognitive Flexibility score. The confidence interval gives a range of possible values for this average change (a score between -3.422 and -0.778).\n",
    "\n",
    "\n",
    "The regression coefficient of -4.37 for Sex (where 1 = male, 2 = female) means that on average, a one-level increase in sex is associated with a 4.37-point decrease in Cognitive Flexibility score. \n",
    "Another way to word this finding is as follows: females show a 4.37-point decrease in Cognitive Flexibility scores. \n",
    "The confidence interval gives a range of possible values for this average change (a score between -8.253 and -0.487).\n",
    "\n",
    "The regression coefficient of -2.157 for Income_CAT means that on average, a one-level increase in income category is associated with a 2.157-point decrease in Cognitive Flexibility score. The confidence interval gives a range of possible values for this average change (a score between -4.298 and -0.016).\n",
    "\n",
    "The average cognitive flexibility score if all independent variables = 0 would be 62.67.\n",
    "\n",
    "The F-statistic = 4.610, and its corresponding p-value = 0.000406. This model is statistically sound.\n",
    "\n",
    "R^2 = 0.046. 4.6% of Cognitive Flexibility can be explained number of age, sex, and income category."
   ]
  },
  {
   "cell_type": "code",
   "execution_count": 89,
   "metadata": {},
   "outputs": [
    {
     "data": {
      "image/png": "[encoded data removed]",
      "text/plain": [
       "<Figure size 432x288 with 1 Axes>"
      ]
     },
     "metadata": {
      "needs_background": "light"
     },
     "output_type": "display_data"
    }
   ],
   "source": [
    "plt.scatter(m_CF.fittedvalues, m_CF.resid)\n",
    "plt.xlabel('Fitted Values')\n",
    "plt.ylabel('Residuals')\n",
    "plt.title('Fitted Values vs. Residuals')\n",
    "\n",
    "plt.show()"
   ]
  },
  {
   "cell_type": "markdown",
   "metadata": {},
   "source": [
    "# GridSearching"
   ]
  },
  {
   "cell_type": "code",
   "execution_count": 90,
   "metadata": {},
   "outputs": [
    {
     "name": "stdout",
     "output_type": "stream",
     "text": [
      "Best Score (Interference): -0.03427710129945115\n",
      "Best Alpha: 1000.0\n"
     ]
    },
    {
     "name": "stderr",
     "output_type": "stream",
     "text": [
      "/Users/springboard/anaconda3/envs/ProjectEnv/lib/python3.7/site-packages/sklearn/model_selection/_search.py:841: DeprecationWarning: The default of the `iid` parameter will change from True to False in version 0.22 and will be removed in 0.24. This will change numeric results when test-set sizes are unequal.\n",
      "  DeprecationWarning)\n"
     ]
    }
   ],
   "source": [
    "from sklearn.linear_model import Ridge\n",
    "from sklearn.model_selection import GridSearchCV\n",
    "\n",
    "# Range of alpha values to test \n",
    "\n",
    "alphas = np.array([0.1, 0.01, 0.001, 0.0001, 0, 1, 10, 100, 1000, 10000, 100000])\n",
    "\n",
    "# GridSearch - Interference Score\n",
    "\n",
    "ridge_obj = Ridge()\n",
    "grid_INT = GridSearchCV(estimator=ridge_obj, param_grid=dict(alpha=alphas), cv=5)\n",
    "grid_INT.fit(X_train, y_train)\n",
    "\n",
    "print('Best Score (Interference): ' + str(grid_INT.best_score_))\n",
    "print('Best Alpha: ' + str(grid_INT.best_estimator_.alpha))"
   ]
  },
  {
   "cell_type": "code",
   "execution_count": 98,
   "metadata": {},
   "outputs": [
    {
     "name": "stderr",
     "output_type": "stream",
     "text": [
      "/Users/springboard/anaconda3/envs/ProjectEnv/lib/python3.7/site-packages/sklearn/linear_model/coordinate_descent.py:492: ConvergenceWarning: Objective did not converge. You might want to increase the number of iterations. Fitting data with very small alpha may cause precision problems.\n",
      "  ConvergenceWarning)\n",
      "/Users/springboard/anaconda3/envs/ProjectEnv/lib/python3.7/site-packages/sklearn/linear_model/coordinate_descent.py:492: ConvergenceWarning: Objective did not converge. You might want to increase the number of iterations. Fitting data with very small alpha may cause precision problems.\n",
      "  ConvergenceWarning)\n",
      "/Users/springboard/anaconda3/envs/ProjectEnv/lib/python3.7/site-packages/sklearn/linear_model/coordinate_descent.py:492: ConvergenceWarning: Objective did not converge. You might want to increase the number of iterations. Fitting data with very small alpha may cause precision problems.\n",
      "  ConvergenceWarning)\n",
      "/Users/springboard/anaconda3/envs/ProjectEnv/lib/python3.7/site-packages/sklearn/linear_model/coordinate_descent.py:492: ConvergenceWarning: Objective did not converge. You might want to increase the number of iterations. Fitting data with very small alpha may cause precision problems.\n",
      "  ConvergenceWarning)\n",
      "/Users/springboard/anaconda3/envs/ProjectEnv/lib/python3.7/site-packages/sklearn/linear_model/coordinate_descent.py:492: ConvergenceWarning: Objective did not converge. You might want to increase the number of iterations. Fitting data with very small alpha may cause precision problems.\n",
      "  ConvergenceWarning)\n",
      "/Users/springboard/anaconda3/envs/ProjectEnv/lib/python3.7/site-packages/sklearn/linear_model/coordinate_descent.py:492: ConvergenceWarning: Objective did not converge. You might want to increase the number of iterations. Fitting data with very small alpha may cause precision problems.\n",
      "  ConvergenceWarning)\n",
      "/Users/springboard/anaconda3/envs/ProjectEnv/lib/python3.7/site-packages/sklearn/linear_model/coordinate_descent.py:492: ConvergenceWarning: Objective did not converge. You might want to increase the number of iterations. Fitting data with very small alpha may cause precision problems.\n",
      "  ConvergenceWarning)\n",
      "/Users/springboard/anaconda3/envs/ProjectEnv/lib/python3.7/site-packages/sklearn/linear_model/coordinate_descent.py:492: ConvergenceWarning: Objective did not converge. You might want to increase the number of iterations. Fitting data with very small alpha may cause precision problems.\n",
      "  ConvergenceWarning)\n",
      "/Users/springboard/anaconda3/envs/ProjectEnv/lib/python3.7/site-packages/sklearn/linear_model/coordinate_descent.py:492: ConvergenceWarning: Objective did not converge. You might want to increase the number of iterations. Fitting data with very small alpha may cause precision problems.\n",
      "  ConvergenceWarning)\n",
      "/Users/springboard/anaconda3/envs/ProjectEnv/lib/python3.7/site-packages/sklearn/model_selection/_validation.py:528: UserWarning: With alpha=0, this algorithm does not converge well. You are advised to use the LinearRegression estimator\n",
      "  estimator.fit(X_train, y_train, **fit_params)\n",
      "/Users/springboard/anaconda3/envs/ProjectEnv/lib/python3.7/site-packages/sklearn/linear_model/coordinate_descent.py:478: UserWarning: Coordinate descent with no regularization may lead to unexpected results and is discouraged.\n",
      "  positive)\n",
      "/Users/springboard/anaconda3/envs/ProjectEnv/lib/python3.7/site-packages/sklearn/linear_model/coordinate_descent.py:492: ConvergenceWarning: Objective did not converge. You might want to increase the number of iterations. Fitting data with very small alpha may cause precision problems.\n",
      "  ConvergenceWarning)\n",
      "/Users/springboard/anaconda3/envs/ProjectEnv/lib/python3.7/site-packages/sklearn/model_selection/_validation.py:528: UserWarning: With alpha=0, this algorithm does not converge well. You are advised to use the LinearRegression estimator\n",
      "  estimator.fit(X_train, y_train, **fit_params)\n",
      "/Users/springboard/anaconda3/envs/ProjectEnv/lib/python3.7/site-packages/sklearn/linear_model/coordinate_descent.py:478: UserWarning: Coordinate descent with no regularization may lead to unexpected results and is discouraged.\n",
      "  positive)\n",
      "/Users/springboard/anaconda3/envs/ProjectEnv/lib/python3.7/site-packages/sklearn/linear_model/coordinate_descent.py:492: ConvergenceWarning: Objective did not converge. You might want to increase the number of iterations. Fitting data with very small alpha may cause precision problems.\n",
      "  ConvergenceWarning)\n",
      "/Users/springboard/anaconda3/envs/ProjectEnv/lib/python3.7/site-packages/sklearn/model_selection/_validation.py:528: UserWarning: With alpha=0, this algorithm does not converge well. You are advised to use the LinearRegression estimator\n",
      "  estimator.fit(X_train, y_train, **fit_params)\n",
      "/Users/springboard/anaconda3/envs/ProjectEnv/lib/python3.7/site-packages/sklearn/linear_model/coordinate_descent.py:478: UserWarning: Coordinate descent with no regularization may lead to unexpected results and is discouraged.\n",
      "  positive)\n",
      "/Users/springboard/anaconda3/envs/ProjectEnv/lib/python3.7/site-packages/sklearn/linear_model/coordinate_descent.py:492: ConvergenceWarning: Objective did not converge. You might want to increase the number of iterations. Fitting data with very small alpha may cause precision problems.\n",
      "  ConvergenceWarning)\n",
      "/Users/springboard/anaconda3/envs/ProjectEnv/lib/python3.7/site-packages/sklearn/model_selection/_validation.py:528: UserWarning: With alpha=0, this algorithm does not converge well. You are advised to use the LinearRegression estimator\n",
      "  estimator.fit(X_train, y_train, **fit_params)\n",
      "/Users/springboard/anaconda3/envs/ProjectEnv/lib/python3.7/site-packages/sklearn/linear_model/coordinate_descent.py:478: UserWarning: Coordinate descent with no regularization may lead to unexpected results and is discouraged.\n",
      "  positive)\n",
      "/Users/springboard/anaconda3/envs/ProjectEnv/lib/python3.7/site-packages/sklearn/linear_model/coordinate_descent.py:492: ConvergenceWarning: Objective did not converge. You might want to increase the number of iterations. Fitting data with very small alpha may cause precision problems.\n",
      "  ConvergenceWarning)\n",
      "/Users/springboard/anaconda3/envs/ProjectEnv/lib/python3.7/site-packages/sklearn/model_selection/_validation.py:528: UserWarning: With alpha=0, this algorithm does not converge well. You are advised to use the LinearRegression estimator\n",
      "  estimator.fit(X_train, y_train, **fit_params)\n",
      "/Users/springboard/anaconda3/envs/ProjectEnv/lib/python3.7/site-packages/sklearn/linear_model/coordinate_descent.py:478: UserWarning: Coordinate descent with no regularization may lead to unexpected results and is discouraged.\n",
      "  positive)\n",
      "/Users/springboard/anaconda3/envs/ProjectEnv/lib/python3.7/site-packages/sklearn/linear_model/coordinate_descent.py:492: ConvergenceWarning: Objective did not converge. You might want to increase the number of iterations. Fitting data with very small alpha may cause precision problems.\n",
      "  ConvergenceWarning)\n"
     ]
    },
    {
     "name": "stdout",
     "output_type": "stream",
     "text": [
      "Best Score (Interference): -0.03206492756417301\n",
      "Best Alpha: 100.0\n"
     ]
    },
    {
     "name": "stderr",
     "output_type": "stream",
     "text": [
      "/Users/springboard/anaconda3/envs/ProjectEnv/lib/python3.7/site-packages/sklearn/model_selection/_search.py:841: DeprecationWarning: The default of the `iid` parameter will change from True to False in version 0.22 and will be removed in 0.24. This will change numeric results when test-set sizes are unequal.\n",
      "  DeprecationWarning)\n"
     ]
    }
   ],
   "source": [
    "from sklearn.linear_model import Lasso\n",
    "from sklearn.model_selection import GridSearchCV\n",
    "\n",
    "# Range of alpha values to test \n",
    "\n",
    "alphas = np.array([0.1, 0.01, 0.001, 0.0001, 0, 1, 10, 100, 1000, 10000, 100000])\n",
    "\n",
    "# GridSearch - Interference Score\n",
    "\n",
    "lasso_obj = Lasso(normalize=False)\n",
    "grid_INT = GridSearchCV(estimator=lasso_obj, param_grid=dict(alpha=alphas), cv=5)\n",
    "grid_INT.fit(X_train, y_train)\n",
    "\n",
    "print('Best Score (Interference): ' + str(grid_INT.best_score_))\n",
    "print('Best Alpha: ' + str(grid_INT.best_estimator_.alpha))"
   ]
  },
  {
   "cell_type": "code",
   "execution_count": 94,
   "metadata": {},
   "outputs": [
    {
     "data": {
      "text/plain": [
       "array([-0., -0., -0., -0.,  0., -0., -0.,  0.,  0.,  0., -0.,  0., -0.,\n",
       "       -0., -0., -0.,  0., -0., -0.,  0., -0.,  0.])"
      ]
     },
     "execution_count": 94,
     "metadata": {},
     "output_type": "execute_result"
    }
   ],
   "source": [
    "grid_INT.best_estimator_.coef_"
   ]
  },
  {
   "cell_type": "code",
   "execution_count": 97,
   "metadata": {},
   "outputs": [
    {
     "data": {
      "text/plain": [
       "-6.334234098881453e-05"
      ]
     },
     "execution_count": 97,
     "metadata": {},
     "output_type": "execute_result"
    }
   ],
   "source": [
    "from sklearn.metrics import r2_score\n",
    "\n",
    "r2_score(y_true=y_test, y_pred=[y.mean() for _ in y_test])"
   ]
  },
  {
   "cell_type": "code",
   "execution_count": null,
   "metadata": {},
   "outputs": [],
   "source": [
    "from sklearn.linear_model import Lasso\n",
    "from sklearn.model_selection import GridSearchCV\n",
    "\n",
    "# Range of alpha values to test \n",
    "\n",
    "alphas = np.array([0.1, 0.01, 0.001, 0.0001, 0, 1, 10, 100, 1000, 10000, 100000])\n",
    "\n",
    "# GridSearch - Interference Score\n",
    "\n",
    "lasso_obj = Lasso(normalize=False)\n",
    "grid_INT = GridSearchCV(estimator=lasso_obj, param_grid=dict(alpha=alphas), cv=5)\n",
    "grid_INT.fit(X_train, y_train)\n",
    "\n",
    "print('Best Score (Interference): ' + str(grid_INT.best_score_))\n",
    "print('Best Alpha: ' + str(grid_INT.best_estimator_.alpha))"
   ]
  },
  {
   "cell_type": "markdown",
   "metadata": {},
   "source": [
    "# Random Forest Regression"
   ]
  },
  {
   "cell_type": "code",
   "execution_count": 91,
   "metadata": {},
   "outputs": [],
   "source": [
    "from sklearn.model_selection import cross_val_predict, GridSearchCV\n",
    "from sklearn.ensemble import RandomForestRegressor\n",
    "from sklearn.preprocessing import MinMaxScaler"
   ]
  },
  {
   "cell_type": "code",
   "execution_count": 107,
   "metadata": {},
   "outputs": [
    {
     "name": "stderr",
     "output_type": "stream",
     "text": [
      "/Users/springboard/anaconda3/envs/ProjectEnv/lib/python3.7/site-packages/sklearn/model_selection/_search.py:841: DeprecationWarning: The default of the `iid` parameter will change from True to False in version 0.22 and will be removed in 0.24. This will change numeric results when test-set sizes are unequal.\n",
      "  DeprecationWarning)\n"
     ]
    },
    {
     "name": "stdout",
     "output_type": "stream",
     "text": [
      "Best Score (Interference): -0.040081015586138725\n",
      "Best Alpha: 2\n"
     ]
    }
   ],
   "source": [
    "from sklearn.linear_model import Lasso\n",
    "from sklearn.model_selection import GridSearchCV\n",
    "\n",
    "# Range of alpha values to test \n",
    "\n",
    "max_depth = np.array([2, 3, 5, 10])\n",
    "\n",
    "# GridSearch - Interference Score\n",
    "\n",
    "rf_obj = RandomForestRegressor()\n",
    "rf_INT = GridSearchCV(estimator=rf_obj, param_grid=dict(max_depth=max_depth, n_estimators=[10, 50, 100, 200]), cv=5)\n",
    "rf_INT.fit(X_train, y_train)\n",
    "\n",
    "print('Best Score (Interference): ' + str(rf_INT.best_score_))\n",
    "print('Best Alpha: ' + str(rf_INT.best_estimator_.max_depth))"
   ]
  },
  {
   "cell_type": "code",
   "execution_count": 108,
   "metadata": {},
   "outputs": [
    {
     "name": "stderr",
     "output_type": "stream",
     "text": [
      "/Users/springboard/anaconda3/envs/ProjectEnv/lib/python3.7/site-packages/sklearn/utils/deprecation.py:125: FutureWarning: You are accessing a training score ('split0_train_score'), which will not be available by default any more in 0.21. If you need training scores, please set return_train_score=True\n",
      "  warnings.warn(*warn_args, **warn_kwargs)\n",
      "/Users/springboard/anaconda3/envs/ProjectEnv/lib/python3.7/site-packages/sklearn/utils/deprecation.py:125: FutureWarning: You are accessing a training score ('split1_train_score'), which will not be available by default any more in 0.21. If you need training scores, please set return_train_score=True\n",
      "  warnings.warn(*warn_args, **warn_kwargs)\n",
      "/Users/springboard/anaconda3/envs/ProjectEnv/lib/python3.7/site-packages/sklearn/utils/deprecation.py:125: FutureWarning: You are accessing a training score ('split2_train_score'), which will not be available by default any more in 0.21. If you need training scores, please set return_train_score=True\n",
      "  warnings.warn(*warn_args, **warn_kwargs)\n",
      "/Users/springboard/anaconda3/envs/ProjectEnv/lib/python3.7/site-packages/sklearn/utils/deprecation.py:125: FutureWarning: You are accessing a training score ('split3_train_score'), which will not be available by default any more in 0.21. If you need training scores, please set return_train_score=True\n",
      "  warnings.warn(*warn_args, **warn_kwargs)\n",
      "/Users/springboard/anaconda3/envs/ProjectEnv/lib/python3.7/site-packages/sklearn/utils/deprecation.py:125: FutureWarning: You are accessing a training score ('split4_train_score'), which will not be available by default any more in 0.21. If you need training scores, please set return_train_score=True\n",
      "  warnings.warn(*warn_args, **warn_kwargs)\n",
      "/Users/springboard/anaconda3/envs/ProjectEnv/lib/python3.7/site-packages/sklearn/utils/deprecation.py:125: FutureWarning: You are accessing a training score ('mean_train_score'), which will not be available by default any more in 0.21. If you need training scores, please set return_train_score=True\n",
      "  warnings.warn(*warn_args, **warn_kwargs)\n",
      "/Users/springboard/anaconda3/envs/ProjectEnv/lib/python3.7/site-packages/sklearn/utils/deprecation.py:125: FutureWarning: You are accessing a training score ('std_train_score'), which will not be available by default any more in 0.21. If you need training scores, please set return_train_score=True\n",
      "  warnings.warn(*warn_args, **warn_kwargs)\n"
     ]
    },
    {
     "data": {
      "text/plain": [
       "{'mean_fit_time': array([0.01835289, 0.07399397, 0.14250736, 0.27721114, 0.01708112,\n",
       "        0.07753067, 0.15277534, 0.30561218, 0.01992631, 0.09743967,\n",
       "        0.1931891 , 0.39501696, 0.03146763, 0.14678273, 0.2889914 ,\n",
       "        0.60620375]),\n",
       " 'std_fit_time': array([0.01030698, 0.01080188, 0.00557082, 0.01252871, 0.00311198,\n",
       "        0.0080892 , 0.00681986, 0.0095649 , 0.0017918 , 0.00525791,\n",
       "        0.00700959, 0.00587992, 0.00476021, 0.002886  , 0.00752868,\n",
       "        0.02213852]),\n",
       " 'mean_score_time': array([0.0018888 , 0.00503507, 0.01376433, 0.01352367, 0.00126448,\n",
       "        0.00384493, 0.00804706, 0.01625757, 0.00171185, 0.00310941,\n",
       "        0.00588613, 0.01419373, 0.00177822, 0.00442004, 0.00735073,\n",
       "        0.01449757]),\n",
       " 'std_score_time': array([0.00051511, 0.00243025, 0.00684458, 0.00252797, 0.0001236 ,\n",
       "        0.00139865, 0.0017241 , 0.00399198, 0.00057759, 0.0001304 ,\n",
       "        0.00040953, 0.00188144, 0.00056289, 0.00128092, 0.0017389 ,\n",
       "        0.0025055 ]),\n",
       " 'param_max_depth': masked_array(data=[2, 2, 2, 2, 3, 3, 3, 3, 5, 5, 5, 5, 10, 10, 10, 10],\n",
       "              mask=[False, False, False, False, False, False, False, False,\n",
       "                    False, False, False, False, False, False, False, False],\n",
       "        fill_value='?',\n",
       "             dtype=object),\n",
       " 'param_n_estimators': masked_array(data=[10, 50, 100, 200, 10, 50, 100, 200, 10, 50, 100, 200,\n",
       "                    10, 50, 100, 200],\n",
       "              mask=[False, False, False, False, False, False, False, False,\n",
       "                    False, False, False, False, False, False, False, False],\n",
       "        fill_value='?',\n",
       "             dtype=object),\n",
       " 'params': [{'max_depth': 2, 'n_estimators': 10},\n",
       "  {'max_depth': 2, 'n_estimators': 50},\n",
       "  {'max_depth': 2, 'n_estimators': 100},\n",
       "  {'max_depth': 2, 'n_estimators': 200},\n",
       "  {'max_depth': 3, 'n_estimators': 10},\n",
       "  {'max_depth': 3, 'n_estimators': 50},\n",
       "  {'max_depth': 3, 'n_estimators': 100},\n",
       "  {'max_depth': 3, 'n_estimators': 200},\n",
       "  {'max_depth': 5, 'n_estimators': 10},\n",
       "  {'max_depth': 5, 'n_estimators': 50},\n",
       "  {'max_depth': 5, 'n_estimators': 100},\n",
       "  {'max_depth': 5, 'n_estimators': 200},\n",
       "  {'max_depth': 10, 'n_estimators': 10},\n",
       "  {'max_depth': 10, 'n_estimators': 50},\n",
       "  {'max_depth': 10, 'n_estimators': 100},\n",
       "  {'max_depth': 10, 'n_estimators': 200}],\n",
       " 'split0_test_score': array([-0.0608466 , -0.06829696, -0.06507792, -0.05465028, -0.08509817,\n",
       "        -0.08135247, -0.08572088, -0.08789333, -0.13296554, -0.11240684,\n",
       "        -0.10994307, -0.11883942, -0.33257584, -0.12935853, -0.17748454,\n",
       "        -0.18217923]),\n",
       " 'split1_test_score': array([-0.11044577, -0.12842228, -0.12174261, -0.12541693, -0.08872859,\n",
       "        -0.12550803, -0.12205139, -0.11406017, -0.26951012, -0.16080404,\n",
       "        -0.13722529, -0.12592886, -0.28793635, -0.20504286, -0.13105588,\n",
       "        -0.16113237]),\n",
       " 'split2_test_score': array([-1.45809875e-02,  7.47170301e-05, -1.56906779e-02, -1.01555156e-02,\n",
       "        -6.33851787e-02, -2.89443297e-02, -4.24228324e-02, -4.49891563e-02,\n",
       "        -1.43662401e-01, -1.16777257e-01, -1.17406762e-01, -8.13518397e-02,\n",
       "        -2.82728880e-01, -2.30195877e-01, -1.93024547e-01, -1.39564654e-01]),\n",
       " 'split3_test_score': array([-3.22080276e-02,  1.82518960e-02,  1.09230876e-03,  6.28475222e-03,\n",
       "        -1.08234616e-01, -5.82824579e-02, -5.74259802e-03,  1.51493425e-02,\n",
       "        -6.28765693e-02, -1.81341292e-02, -8.59616970e-03,  1.69731252e-05,\n",
       "        -1.16027745e-01, -4.53613029e-02,  5.95988750e-04, -2.60472155e-02]),\n",
       " 'split4_test_score': array([-0.1063911 , -0.05140687, -0.02656573, -0.01555828, -0.04685841,\n",
       "        -0.02122883, -0.03309836, -0.01683183, -0.0133238 , -0.02129901,\n",
       "        -0.04626736, -0.03904263,  0.0044851 , -0.09423668, -0.11075101,\n",
       "        -0.09686383]),\n",
       " 'mean_test_score': array([-0.06487179, -0.04611136, -0.04576631, -0.04008102, -0.07846571,\n",
       "        -0.06318337, -0.05800508, -0.04997701, -0.12491288, -0.08622533,\n",
       "        -0.08417874, -0.07330501, -0.20371543, -0.14120524, -0.12269073,\n",
       "        -0.1214652 ]),\n",
       " 'std_test_score': array([0.03851072, 0.05212931, 0.043888  , 0.0472507 , 0.02120997,\n",
       "        0.03790769, 0.04114621, 0.04668327, 0.08672862, 0.05657082,\n",
       "        0.0483739 , 0.04781648, 0.1270729 , 0.06855872, 0.06824085,\n",
       "        0.05522828]),\n",
       " 'rank_test_score': array([ 7,  3,  2,  1,  9,  6,  5,  4, 14, 11, 10,  8, 16, 15, 13, 12],\n",
       "       dtype=int32),\n",
       " 'split0_train_score': array([0.12547716, 0.14364897, 0.13816797, 0.1437695 , 0.22117024,\n",
       "        0.22819407, 0.22949099, 0.22834282, 0.37323363, 0.41876443,\n",
       "        0.42042534, 0.43405102, 0.72917133, 0.77123477, 0.77101036,\n",
       "        0.7685108 ]),\n",
       " 'split1_train_score': array([0.1319517 , 0.13940678, 0.1398653 , 0.14279264, 0.21897562,\n",
       "        0.24043198, 0.23080937, 0.23758535, 0.3879863 , 0.4190468 ,\n",
       "        0.43287723, 0.4353358 , 0.73712487, 0.76366737, 0.77675512,\n",
       "        0.78526568]),\n",
       " 'split2_train_score': array([0.13777317, 0.14907959, 0.15227663, 0.14837999, 0.25982017,\n",
       "        0.24632732, 0.2572858 , 0.2503921 , 0.42113648, 0.47455775,\n",
       "        0.47907648, 0.48047739, 0.73829643, 0.79994101, 0.81084788,\n",
       "        0.80873718]),\n",
       " 'split3_train_score': array([0.11285958, 0.12425485, 0.12577029, 0.13124311, 0.21114365,\n",
       "        0.20858278, 0.20551119, 0.21897457, 0.40752589, 0.40877952,\n",
       "        0.39724776, 0.41110733, 0.74011   , 0.75779038, 0.750741  ,\n",
       "        0.76356274]),\n",
       " 'split4_train_score': array([0.10867071, 0.1192775 , 0.12805186, 0.12526111, 0.16812857,\n",
       "        0.20935486, 0.21478785, 0.21407328, 0.29199338, 0.39250427,\n",
       "        0.41532315, 0.41356067, 0.71292389, 0.77648079, 0.76466708,\n",
       "        0.77653152]),\n",
       " 'mean_train_score': array([0.12334646, 0.13513354, 0.13682641, 0.13828927, 0.21584765,\n",
       "        0.2265782 , 0.22757704, 0.22987362, 0.37637514, 0.42273055,\n",
       "        0.42898999, 0.43490644, 0.7315253 , 0.77382287, 0.77480429,\n",
       "        0.78052158]),\n",
       " 'std_train_score': array([0.01106411, 0.01144574, 0.00947601, 0.00861995, 0.02922648,\n",
       "        0.01552446, 0.01759083, 0.01304808, 0.04525244, 0.02765364,\n",
       "        0.02753714, 0.02489846, 0.01002451, 0.01453338, 0.01999573,\n",
       "        0.01591482])}"
      ]
     },
     "execution_count": 108,
     "metadata": {},
     "output_type": "execute_result"
    }
   ],
   "source": [
    "rf_INT.cv_results_"
   ]
  },
  {
   "cell_type": "code",
   "execution_count": null,
   "metadata": {},
   "outputs": [],
   "source": []
  }
 ],
 "metadata": {
  "kernelspec": {
   "display_name": "Python 3",
   "language": "python",
   "name": "python3"
  },
  "language_info": {
   "codemirror_mode": {
    "name": "ipython",
    "version": 3
   },
   "file_extension": ".py",
   "mimetype": "text/x-python",
   "name": "python",
   "nbconvert_exporter": "python",
   "pygments_lexer": "ipython3",
   "version": "3.7.3"
  }
 },
 "nbformat": 4,
 "nbformat_minor": 2
}
