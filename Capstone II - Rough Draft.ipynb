{
 "cells": [
  {
   "cell_type": "markdown",
   "metadata": {},
   "source": [
    "**Target Variable: Readmission (Binary)**\n",
    "\n",
    "- Yes: Readmitted '< 30'\n",
    "- No: 'NO'"
   ]
  },
  {
   "cell_type": "markdown",
   "metadata": {},
   "source": [
    "# Data Import + Wrangling"
   ]
  },
  {
   "cell_type": "code",
   "execution_count": 1,
   "metadata": {},
   "outputs": [
    {
     "data": {
      "text/plain": [
       "(101766, 50)"
      ]
     },
     "execution_count": 1,
     "metadata": {},
     "output_type": "execute_result"
    }
   ],
   "source": [
    "# Import packages\n",
    "\n",
    "import numpy as np\n",
    "import pandas as pd\n",
    "\n",
    "import matplotlib.pyplot as plt\n",
    "%matplotlib inline\n",
    "plt.style.use('ggplot')\n",
    "\n",
    "import seaborn as sns\n",
    "\n",
    "import warnings\n",
    "warnings.filterwarnings(action='once')\n",
    "\n",
    "# Import dataset as DataFrame\n",
    "\n",
    "df = pd.read_csv('/Users/springboard/Desktop/Capstone-II/diabetic_data.csv')\n",
    "df.shape"
   ]
  },
  {
   "cell_type": "code",
   "execution_count": 2,
   "metadata": {
    "scrolled": true
   },
   "outputs": [
    {
     "name": "stdout",
     "output_type": "stream",
     "text": [
      "<class 'pandas.core.frame.DataFrame'>\n",
      "RangeIndex: 101766 entries, 0 to 101765\n",
      "Data columns (total 50 columns):\n",
      "encounter_id                101766 non-null int64\n",
      "patient_nbr                 101766 non-null int64\n",
      "race                        101766 non-null object\n",
      "gender                      101766 non-null object\n",
      "age                         101766 non-null object\n",
      "weight                      101766 non-null object\n",
      "admission_type_id           101766 non-null int64\n",
      "discharge_disposition_id    101766 non-null int64\n",
      "admission_source_id         101766 non-null int64\n",
      "time_in_hospital            101766 non-null int64\n",
      "payer_code                  101766 non-null object\n",
      "medical_specialty           101766 non-null object\n",
      "num_lab_procedures          101766 non-null int64\n",
      "num_procedures              101766 non-null int64\n",
      "num_medications             101766 non-null int64\n",
      "number_outpatient           101766 non-null int64\n",
      "number_emergency            101766 non-null int64\n",
      "number_inpatient            101766 non-null int64\n",
      "diag_1                      101766 non-null object\n",
      "diag_2                      101766 non-null object\n",
      "diag_3                      101766 non-null object\n",
      "number_diagnoses            101766 non-null int64\n",
      "max_glu_serum               101766 non-null object\n",
      "A1Cresult                   101766 non-null object\n",
      "metformin                   101766 non-null object\n",
      "repaglinide                 101766 non-null object\n",
      "nateglinide                 101766 non-null object\n",
      "chlorpropamide              101766 non-null object\n",
      "glimepiride                 101766 non-null object\n",
      "acetohexamide               101766 non-null object\n",
      "glipizide                   101766 non-null object\n",
      "glyburide                   101766 non-null object\n",
      "tolbutamide                 101766 non-null object\n",
      "pioglitazone                101766 non-null object\n",
      "rosiglitazone               101766 non-null object\n",
      "acarbose                    101766 non-null object\n",
      "miglitol                    101766 non-null object\n",
      "troglitazone                101766 non-null object\n",
      "tolazamide                  101766 non-null object\n",
      "examide                     101766 non-null object\n",
      "citoglipton                 101766 non-null object\n",
      "insulin                     101766 non-null object\n",
      "glyburide-metformin         101766 non-null object\n",
      "glipizide-metformin         101766 non-null object\n",
      "glimepiride-pioglitazone    101766 non-null object\n",
      "metformin-rosiglitazone     101766 non-null object\n",
      "metformin-pioglitazone      101766 non-null object\n",
      "change                      101766 non-null object\n",
      "diabetesMed                 101766 non-null object\n",
      "readmitted                  101766 non-null object\n",
      "dtypes: int64(13), object(37)\n",
      "memory usage: 38.8+ MB\n"
     ]
    }
   ],
   "source": [
    "df.info()"
   ]
  },
  {
   "cell_type": "code",
   "execution_count": 3,
   "metadata": {},
   "outputs": [
    {
     "data": {
      "text/plain": [
       "(71518, 48)"
      ]
     },
     "execution_count": 3,
     "metadata": {},
     "output_type": "execute_result"
    }
   ],
   "source": [
    "# Drop patient duplicates and retain data corresponding to first instance\n",
    "\n",
    "df = df.drop_duplicates(subset='patient_nbr', keep='first')\n",
    "\n",
    "# Drop 'ID' columns\n",
    "\n",
    "df = df.drop(columns=['encounter_id', 'patient_nbr'], axis=1)\n",
    "df.shape"
   ]
  },
  {
   "cell_type": "code",
   "execution_count": 4,
   "metadata": {},
   "outputs": [
    {
     "data": {
      "text/html": [
       "<div>\n",
       "<style scoped>\n",
       "    .dataframe tbody tr th:only-of-type {\n",
       "        vertical-align: middle;\n",
       "    }\n",
       "\n",
       "    .dataframe tbody tr th {\n",
       "        vertical-align: top;\n",
       "    }\n",
       "\n",
       "    .dataframe thead th {\n",
       "        text-align: right;\n",
       "    }\n",
       "</style>\n",
       "<table border=\"1\" class=\"dataframe\">\n",
       "  <thead>\n",
       "    <tr style=\"text-align: right;\">\n",
       "      <th></th>\n",
       "      <th>race</th>\n",
       "      <th>gender</th>\n",
       "      <th>age</th>\n",
       "      <th>weight</th>\n",
       "      <th>admission_type_id</th>\n",
       "      <th>discharge_disposition_id</th>\n",
       "      <th>admission_source_id</th>\n",
       "      <th>time_in_hospital</th>\n",
       "      <th>payer_code</th>\n",
       "      <th>medical_specialty</th>\n",
       "      <th>...</th>\n",
       "      <th>insulin</th>\n",
       "      <th>glyburide-metformin</th>\n",
       "      <th>glipizide-metformin</th>\n",
       "      <th>glimepiride-pioglitazone</th>\n",
       "      <th>metformin-rosiglitazone</th>\n",
       "      <th>metformin-pioglitazone</th>\n",
       "      <th>change</th>\n",
       "      <th>diabetesMed</th>\n",
       "      <th>readmitted</th>\n",
       "      <th>Target</th>\n",
       "    </tr>\n",
       "  </thead>\n",
       "  <tbody>\n",
       "    <tr>\n",
       "      <th>0</th>\n",
       "      <td>Caucasian</td>\n",
       "      <td>Female</td>\n",
       "      <td>[50-60)</td>\n",
       "      <td>?</td>\n",
       "      <td>2</td>\n",
       "      <td>1</td>\n",
       "      <td>1</td>\n",
       "      <td>8</td>\n",
       "      <td>?</td>\n",
       "      <td>Cardiology</td>\n",
       "      <td>...</td>\n",
       "      <td>Steady</td>\n",
       "      <td>No</td>\n",
       "      <td>No</td>\n",
       "      <td>No</td>\n",
       "      <td>No</td>\n",
       "      <td>No</td>\n",
       "      <td>Ch</td>\n",
       "      <td>Yes</td>\n",
       "      <td>&lt;30</td>\n",
       "      <td>1</td>\n",
       "    </tr>\n",
       "    <tr>\n",
       "      <th>2</th>\n",
       "      <td>Caucasian</td>\n",
       "      <td>Female</td>\n",
       "      <td>[50-60)</td>\n",
       "      <td>?</td>\n",
       "      <td>3</td>\n",
       "      <td>1</td>\n",
       "      <td>1</td>\n",
       "      <td>2</td>\n",
       "      <td>?</td>\n",
       "      <td>Surgery-Neuro</td>\n",
       "      <td>...</td>\n",
       "      <td>No</td>\n",
       "      <td>No</td>\n",
       "      <td>No</td>\n",
       "      <td>No</td>\n",
       "      <td>No</td>\n",
       "      <td>No</td>\n",
       "      <td>No</td>\n",
       "      <td>No</td>\n",
       "      <td>NO</td>\n",
       "      <td>0</td>\n",
       "    </tr>\n",
       "    <tr>\n",
       "      <th>3</th>\n",
       "      <td>Caucasian</td>\n",
       "      <td>Female</td>\n",
       "      <td>[80-90)</td>\n",
       "      <td>?</td>\n",
       "      <td>1</td>\n",
       "      <td>3</td>\n",
       "      <td>7</td>\n",
       "      <td>4</td>\n",
       "      <td>MC</td>\n",
       "      <td>InternalMedicine</td>\n",
       "      <td>...</td>\n",
       "      <td>No</td>\n",
       "      <td>No</td>\n",
       "      <td>No</td>\n",
       "      <td>No</td>\n",
       "      <td>No</td>\n",
       "      <td>No</td>\n",
       "      <td>No</td>\n",
       "      <td>Yes</td>\n",
       "      <td>NO</td>\n",
       "      <td>0</td>\n",
       "    </tr>\n",
       "    <tr>\n",
       "      <th>4</th>\n",
       "      <td>Caucasian</td>\n",
       "      <td>Female</td>\n",
       "      <td>[80-90)</td>\n",
       "      <td>?</td>\n",
       "      <td>1</td>\n",
       "      <td>1</td>\n",
       "      <td>7</td>\n",
       "      <td>3</td>\n",
       "      <td>?</td>\n",
       "      <td>InternalMedicine</td>\n",
       "      <td>...</td>\n",
       "      <td>No</td>\n",
       "      <td>No</td>\n",
       "      <td>No</td>\n",
       "      <td>No</td>\n",
       "      <td>No</td>\n",
       "      <td>No</td>\n",
       "      <td>Ch</td>\n",
       "      <td>Yes</td>\n",
       "      <td>NO</td>\n",
       "      <td>0</td>\n",
       "    </tr>\n",
       "    <tr>\n",
       "      <th>5</th>\n",
       "      <td>AfricanAmerican</td>\n",
       "      <td>Female</td>\n",
       "      <td>[30-40)</td>\n",
       "      <td>?</td>\n",
       "      <td>1</td>\n",
       "      <td>1</td>\n",
       "      <td>7</td>\n",
       "      <td>5</td>\n",
       "      <td>?</td>\n",
       "      <td>InternalMedicine</td>\n",
       "      <td>...</td>\n",
       "      <td>No</td>\n",
       "      <td>No</td>\n",
       "      <td>No</td>\n",
       "      <td>No</td>\n",
       "      <td>No</td>\n",
       "      <td>No</td>\n",
       "      <td>No</td>\n",
       "      <td>Yes</td>\n",
       "      <td>NO</td>\n",
       "      <td>0</td>\n",
       "    </tr>\n",
       "  </tbody>\n",
       "</table>\n",
       "<p>5 rows × 49 columns</p>\n",
       "</div>"
      ],
      "text/plain": [
       "              race  gender      age weight  admission_type_id  \\\n",
       "0        Caucasian  Female  [50-60)      ?                  2   \n",
       "2        Caucasian  Female  [50-60)      ?                  3   \n",
       "3        Caucasian  Female  [80-90)      ?                  1   \n",
       "4        Caucasian  Female  [80-90)      ?                  1   \n",
       "5  AfricanAmerican  Female  [30-40)      ?                  1   \n",
       "\n",
       "   discharge_disposition_id  admission_source_id  time_in_hospital payer_code  \\\n",
       "0                         1                    1                 8          ?   \n",
       "2                         1                    1                 2          ?   \n",
       "3                         3                    7                 4         MC   \n",
       "4                         1                    7                 3          ?   \n",
       "5                         1                    7                 5          ?   \n",
       "\n",
       "  medical_specialty  ...  insulin  glyburide-metformin  glipizide-metformin  \\\n",
       "0        Cardiology  ...   Steady                   No                   No   \n",
       "2     Surgery-Neuro  ...       No                   No                   No   \n",
       "3  InternalMedicine  ...       No                   No                   No   \n",
       "4  InternalMedicine  ...       No                   No                   No   \n",
       "5  InternalMedicine  ...       No                   No                   No   \n",
       "\n",
       "   glimepiride-pioglitazone  metformin-rosiglitazone  metformin-pioglitazone  \\\n",
       "0                        No                       No                      No   \n",
       "2                        No                       No                      No   \n",
       "3                        No                       No                      No   \n",
       "4                        No                       No                      No   \n",
       "5                        No                       No                      No   \n",
       "\n",
       "  change diabetesMed readmitted  Target  \n",
       "0     Ch         Yes        <30       1  \n",
       "2     No          No         NO       0  \n",
       "3     No         Yes         NO       0  \n",
       "4     Ch         Yes         NO       0  \n",
       "5     No         Yes         NO       0  \n",
       "\n",
       "[5 rows x 49 columns]"
      ]
     },
     "execution_count": 4,
     "metadata": {},
     "output_type": "execute_result"
    }
   ],
   "source": [
    "# Create a target variable column from values in 'readmitted'\n",
    "\n",
    "## Drop all instances of readmission '>30' \n",
    "\n",
    "df = df[df.readmitted != '>30']\n",
    "\n",
    "## New column for target variable \n",
    "\n",
    "def func(row):\n",
    "    if row['readmitted'] == '<30':\n",
    "        return 1\n",
    "    else:\n",
    "        return 0\n",
    "\n",
    "df['Target'] = df.apply(func, axis=1)\n",
    "\n",
    "df.head()"
   ]
  },
  {
   "cell_type": "code",
   "execution_count": 5,
   "metadata": {},
   "outputs": [
    {
     "data": {
      "text/plain": [
       "(49293, 49)"
      ]
     },
     "execution_count": 5,
     "metadata": {},
     "output_type": "execute_result"
    }
   ],
   "source": [
    "df.shape"
   ]
  },
  {
   "cell_type": "markdown",
   "metadata": {},
   "source": [
    "**Value Counts**"
   ]
  },
  {
   "cell_type": "code",
   "execution_count": 6,
   "metadata": {},
   "outputs": [
    {
     "data": {
      "text/plain": [
       "Caucasian          36400\n",
       "AfricanAmerican     9018\n",
       "?                   1514\n",
       "Hispanic            1104\n",
       "Other                867\n",
       "Asian                390\n",
       "Name: race, dtype: int64"
      ]
     },
     "execution_count": 6,
     "metadata": {},
     "output_type": "execute_result"
    }
   ],
   "source": [
    "df.race.value_counts()"
   ]
  },
  {
   "cell_type": "code",
   "execution_count": 7,
   "metadata": {},
   "outputs": [
    {
     "data": {
      "text/plain": [
       "Female             25939\n",
       "Male               23351\n",
       "Unknown/Invalid        3\n",
       "Name: gender, dtype: int64"
      ]
     },
     "execution_count": 7,
     "metadata": {},
     "output_type": "execute_result"
    }
   ],
   "source": [
    "df.gender.value_counts()"
   ]
  },
  {
   "cell_type": "code",
   "execution_count": 8,
   "metadata": {},
   "outputs": [
    {
     "data": {
      "text/plain": [
       "[70-80)     12080\n",
       "[60-70)     11013\n",
       "[50-60)      8733\n",
       "[80-90)      7727\n",
       "[40-50)      4935\n",
       "[30-40)      2009\n",
       "[90-100)     1423\n",
       "[20-30)       850\n",
       "[10-20)       393\n",
       "[0-10)        130\n",
       "Name: age, dtype: int64"
      ]
     },
     "execution_count": 8,
     "metadata": {},
     "output_type": "execute_result"
    }
   ],
   "source": [
    "df.age.value_counts()"
   ]
  },
  {
   "cell_type": "code",
   "execution_count": 9,
   "metadata": {},
   "outputs": [
    {
     "data": {
      "text/plain": [
       "?            47739\n",
       "[75-100)       634\n",
       "[50-75)        454\n",
       "[100-125)      305\n",
       "[125-150)       74\n",
       "[25-50)         50\n",
       "[150-175)       18\n",
       "[0-25)          14\n",
       "[175-200)        5\n",
       "Name: weight, dtype: int64"
      ]
     },
     "execution_count": 9,
     "metadata": {},
     "output_type": "execute_result"
    }
   ],
   "source": [
    "df.weight.value_counts()"
   ]
  },
  {
   "cell_type": "code",
   "execution_count": 10,
   "metadata": {},
   "outputs": [
    {
     "data": {
      "text/plain": [
       "1    25049\n",
       "3    10188\n",
       "2     8957\n",
       "6     2714\n",
       "5     2135\n",
       "8      222\n",
       "7       21\n",
       "4        7\n",
       "Name: admission_type_id, dtype: int64"
      ]
     },
     "execution_count": 10,
     "metadata": {},
     "output_type": "execute_result"
    }
   ],
   "source": [
    "df.admission_type_id.value_counts()"
   ]
  },
  {
   "cell_type": "code",
   "execution_count": 11,
   "metadata": {},
   "outputs": [
    {
     "data": {
      "text/plain": [
       "(44222, 49)"
      ]
     },
     "execution_count": 11,
     "metadata": {},
     "output_type": "execute_result"
    }
   ],
   "source": [
    "# Admission type - remove all instances of 'Not Available', 'NULL', and 'Not Mapped'\n",
    "\n",
    "df = df[df.admission_type_id != 5]\n",
    "df = df[df.admission_type_id != 6]\n",
    "df = df[df.admission_type_id != 8]\n",
    "\n",
    "df.shape"
   ]
  },
  {
   "cell_type": "code",
   "execution_count": 12,
   "metadata": {},
   "outputs": [
    {
     "data": {
      "text/plain": [
       "1     27624\n",
       "3      5191\n",
       "6      4551\n",
       "18     1916\n",
       "22     1045\n",
       "11      968\n",
       "2       966\n",
       "5       597\n",
       "4       371\n",
       "7       262\n",
       "13      222\n",
       "14      171\n",
       "23      166\n",
       "28       50\n",
       "8        40\n",
       "15       28\n",
       "24       21\n",
       "25       16\n",
       "19        6\n",
       "9         5\n",
       "27        3\n",
       "12        2\n",
       "17        1\n",
       "Name: discharge_disposition_id, dtype: int64"
      ]
     },
     "execution_count": 12,
     "metadata": {},
     "output_type": "execute_result"
    }
   ],
   "source": [
    "df.discharge_disposition_id.value_counts()"
   ]
  },
  {
   "cell_type": "code",
   "execution_count": 13,
   "metadata": {},
   "outputs": [
    {
     "data": {
      "text/plain": [
       "(40773, 49)"
      ]
     },
     "execution_count": 13,
     "metadata": {},
     "output_type": "execute_result"
    }
   ],
   "source": [
    "# Discharge type - remove insignificant discharge types\n",
    "\n",
    "df = df[df.discharge_disposition_id != 28]\n",
    "df = df[df.discharge_disposition_id != 8]\n",
    "df = df[df.discharge_disposition_id != 15]\n",
    "df = df[df.discharge_disposition_id != 24]\n",
    "df = df[df.discharge_disposition_id != 9]\n",
    "df = df[df.discharge_disposition_id != 27]\n",
    "df = df[df.discharge_disposition_id != 12]\n",
    "df = df[df.discharge_disposition_id != 17]\n",
    "\n",
    "# Remove all instances of patient expiry, discharge to hospice care, and missing discharge reasons\n",
    "\n",
    "df = df[df.discharge_disposition_id != 11]\n",
    "df = df[df.discharge_disposition_id != 13]\n",
    "df = df[df.discharge_disposition_id != 14]\n",
    "df = df[df.discharge_disposition_id != 18]\n",
    "df = df[df.discharge_disposition_id != 19]\n",
    "df = df[df.discharge_disposition_id != 20]\n",
    "df = df[df.discharge_disposition_id != 21]\n",
    "df = df[df.discharge_disposition_id != 25]\n",
    "\n",
    "df.shape"
   ]
  },
  {
   "cell_type": "code",
   "execution_count": 14,
   "metadata": {},
   "outputs": [
    {
     "data": {
      "text/plain": [
       "7     22606\n",
       "1     13503\n",
       "4      1680\n",
       "6      1471\n",
       "2       591\n",
       "17      376\n",
       "5       304\n",
       "9        87\n",
       "20       77\n",
       "3        54\n",
       "8         9\n",
       "10        5\n",
       "22        4\n",
       "14        2\n",
       "25        2\n",
       "11        1\n",
       "13        1\n",
       "Name: admission_source_id, dtype: int64"
      ]
     },
     "execution_count": 14,
     "metadata": {},
     "output_type": "execute_result"
    }
   ],
   "source": [
    "df.admission_source_id.value_counts()"
   ]
  },
  {
   "cell_type": "code",
   "execution_count": 15,
   "metadata": {},
   "outputs": [
    {
     "data": {
      "text/plain": [
       "(40209, 49)"
      ]
     },
     "execution_count": 15,
     "metadata": {},
     "output_type": "execute_result"
    }
   ],
   "source": [
    "# Admission source - remove all instances of 'Not Available', 'NULL', and 'Not Mapped' (% of dataset)\n",
    "\n",
    "df = df[df.admission_source_id != 9]\n",
    "df = df[df.admission_source_id != 15]\n",
    "df = df[df.admission_source_id != 17]\n",
    "df = df[df.admission_source_id != 20]\n",
    "df = df[df.admission_source_id != 21]\n",
    "\n",
    "# Admission source - remove insignificant categories (% of data)\n",
    "\n",
    "df = df[df.admission_source_id != 8]\n",
    "df = df[df.admission_source_id != 10]\n",
    "df = df[df.admission_source_id != 22]\n",
    "df = df[df.admission_source_id != 14]\n",
    "df = df[df.admission_source_id != 25]\n",
    "df = df[df.admission_source_id != 11]\n",
    "df = df[df.admission_source_id != 13]\n",
    "\n",
    "df.shape"
   ]
  },
  {
   "cell_type": "code",
   "execution_count": 16,
   "metadata": {
    "scrolled": false
   },
   "outputs": [
    {
     "data": {
      "text/plain": [
       "2     7244\n",
       "3     7226\n",
       "1     6278\n",
       "4     5311\n",
       "5     3796\n",
       "6     2829\n",
       "7     2188\n",
       "8     1577\n",
       "9     1039\n",
       "10     825\n",
       "11     639\n",
       "12     499\n",
       "13     419\n",
       "14     339\n",
       "Name: time_in_hospital, dtype: int64"
      ]
     },
     "execution_count": 16,
     "metadata": {},
     "output_type": "execute_result"
    }
   ],
   "source": [
    "df.time_in_hospital.value_counts()"
   ]
  },
  {
   "cell_type": "code",
   "execution_count": 17,
   "metadata": {
    "scrolled": false
   },
   "outputs": [
    {
     "data": {
      "text/plain": [
       "?     14534\n",
       "MC    12170\n",
       "BC     2491\n",
       "HM     2458\n",
       "SP     2202\n",
       "MD     1455\n",
       "CP     1344\n",
       "UN     1335\n",
       "CM      901\n",
       "OG      475\n",
       "PO      356\n",
       "DM      236\n",
       "WC       93\n",
       "CH       90\n",
       "OT       42\n",
       "MP       22\n",
       "SI        4\n",
       "FR        1\n",
       "Name: payer_code, dtype: int64"
      ]
     },
     "execution_count": 17,
     "metadata": {},
     "output_type": "execute_result"
    }
   ],
   "source": [
    "df.payer_code.value_counts()"
   ]
  },
  {
   "cell_type": "code",
   "execution_count": 18,
   "metadata": {
    "scrolled": true
   },
   "outputs": [
    {
     "data": {
      "text/plain": [
       "?                                       18687\n",
       "InternalMedicine                         6560\n",
       "Emergency/Trauma                         2855\n",
       "Family/GeneralPractice                   2490\n",
       "Cardiology                               2220\n",
       "Surgery-General                          1251\n",
       "Orthopedics                               736\n",
       "Radiologist                               575\n",
       "Orthopedics-Reconstructive                500\n",
       "ObstetricsandGynecology                   433\n",
       "Nephrology                                401\n",
       "Surgery-Cardiovascular/Thoracic           390\n",
       "Psychiatry                                371\n",
       "Urology                                   326\n",
       "Pulmonology                               319\n",
       "Surgery-Neuro                             293\n",
       "Surgery-Vascular                          221\n",
       "Gastroenterology                          214\n",
       "Oncology                                  143\n",
       "Neurology                                 133\n",
       "Pediatrics-Endocrinology                  119\n",
       "PhysicalMedicineandRehabilitation         119\n",
       "Pediatrics                                110\n",
       "Surgery-Cardiovascular                     67\n",
       "Otolaryngology                             67\n",
       "Endocrinology                              63\n",
       "Surgery-Thoracic                           52\n",
       "Pediatrics-CriticalCare                    49\n",
       "Gynecology                                 46\n",
       "Psychology                                 39\n",
       "                                        ...  \n",
       "Ophthalmology                              23\n",
       "Osteopath                                  19\n",
       "InfectiousDiseases                         19\n",
       "Hematology                                 19\n",
       "Surgery-Plastic                            19\n",
       "SurgicalSpecialty                          18\n",
       "Obsterics&Gynecology-GynecologicOnco       13\n",
       "Anesthesiology-Pediatric                    9\n",
       "Rheumatology                                8\n",
       "Obstetrics                                  7\n",
       "OutreachServices                            6\n",
       "Endocrinology-Metabolism                    6\n",
       "Surgery-Colon&Rectal                        6\n",
       "Anesthesiology                              5\n",
       "Surgery-Maxillofacial                       5\n",
       "Pediatrics-Neurology                        4\n",
       "Psychiatry-Child/Adolescent                 4\n",
       "Surgery-Pediatric                           4\n",
       "DCPTEAM                                     4\n",
       "Pathology                                   3\n",
       "Pediatrics-Hematology-Oncology              3\n",
       "PhysicianNotFound                           3\n",
       "Cardiology-Pediatric                        3\n",
       "Pediatrics-EmergencyMedicine                2\n",
       "Proctology                                  1\n",
       "Perinatology                                1\n",
       "Neurophysiology                             1\n",
       "Pediatrics-Pulmonology                      1\n",
       "Dentistry                                   1\n",
       "Psychiatry-Addictive                        1\n",
       "Name: medical_specialty, Length: 65, dtype: int64"
      ]
     },
     "execution_count": 18,
     "metadata": {},
     "output_type": "execute_result"
    }
   ],
   "source": [
    "df.medical_specialty.value_counts()"
   ]
  },
  {
   "cell_type": "code",
   "execution_count": 19,
   "metadata": {
    "scrolled": false
   },
   "outputs": [
    {
     "data": {
      "text/plain": [
       "0    36089\n",
       "1     2255\n",
       "2      842\n",
       "3      483\n",
       "4      246\n",
       "5      116\n",
       "6       54\n",
       "7       31\n",
       "8       30\n",
       "9       19\n",
       "Name: number_outpatient, dtype: int64"
      ]
     },
     "execution_count": 19,
     "metadata": {},
     "output_type": "execute_result"
    }
   ],
   "source": [
    "df.number_outpatient.value_counts().head(10)"
   ]
  },
  {
   "cell_type": "code",
   "execution_count": 20,
   "metadata": {},
   "outputs": [
    {
     "data": {
      "text/plain": [
       "0     37805\n",
       "1      1900\n",
       "2       326\n",
       "3       101\n",
       "4        41\n",
       "5        14\n",
       "6        10\n",
       "8         4\n",
       "11        2\n",
       "7         2\n",
       "Name: number_emergency, dtype: int64"
      ]
     },
     "execution_count": 20,
     "metadata": {},
     "output_type": "execute_result"
    }
   ],
   "source": [
    "df.number_emergency.value_counts().head(10)"
   ]
  },
  {
   "cell_type": "code",
   "execution_count": 21,
   "metadata": {},
   "outputs": [
    {
     "data": {
      "text/plain": [
       "0     36415\n",
       "1      2801\n",
       "2       627\n",
       "3       189\n",
       "4        89\n",
       "5        37\n",
       "6        27\n",
       "7         7\n",
       "10        5\n",
       "8         5\n",
       "Name: number_inpatient, dtype: int64"
      ]
     },
     "execution_count": 21,
     "metadata": {},
     "output_type": "execute_result"
    }
   ],
   "source": [
    "df.number_inpatient.value_counts().head(10)"
   ]
  },
  {
   "cell_type": "code",
   "execution_count": 22,
   "metadata": {
    "scrolled": true
   },
   "outputs": [
    {
     "data": {
      "text/plain": [
       "414    3039\n",
       "428    1858\n",
       "786    1658\n",
       "410    1647\n",
       "486    1243\n",
       "715    1128\n",
       "427    1126\n",
       "434     944\n",
       "682     805\n",
       "780     804\n",
       "Name: diag_1, dtype: int64"
      ]
     },
     "execution_count": 22,
     "metadata": {},
     "output_type": "execute_result"
    }
   ],
   "source": [
    "df.diag_1.value_counts(dropna=False).head(10)"
   ]
  },
  {
   "cell_type": "code",
   "execution_count": 23,
   "metadata": {},
   "outputs": [
    {
     "data": {
      "text/plain": [
       "250       3061\n",
       "276       2603\n",
       "428       2138\n",
       "401       1928\n",
       "427       1901\n",
       "599       1272\n",
       "496       1138\n",
       "414       1131\n",
       "411       1124\n",
       "250.02     908\n",
       "Name: diag_2, dtype: int64"
      ]
     },
     "execution_count": 23,
     "metadata": {},
     "output_type": "execute_result"
    }
   ],
   "source": [
    "df.diag_2.value_counts(dropna=False).head(10)"
   ]
  },
  {
   "cell_type": "code",
   "execution_count": 24,
   "metadata": {},
   "outputs": [
    {
     "data": {
      "text/plain": [
       "250    5379\n",
       "401    4032\n",
       "276    1967\n",
       "414    1472\n",
       "428    1456\n",
       "427    1359\n",
       "272     989\n",
       "496     831\n",
       "?       806\n",
       "599     701\n",
       "Name: diag_3, dtype: int64"
      ]
     },
     "execution_count": 24,
     "metadata": {},
     "output_type": "execute_result"
    }
   ],
   "source": [
    "df.diag_3.value_counts(dropna=False).head(10)"
   ]
  },
  {
   "cell_type": "code",
   "execution_count": 25,
   "metadata": {},
   "outputs": [
    {
     "data": {
      "text/plain": [
       "(39403, 49)"
      ]
     },
     "execution_count": 25,
     "metadata": {},
     "output_type": "execute_result"
    }
   ],
   "source": [
    "df = df[df.diag_3 != '?']\n",
    "df.shape"
   ]
  },
  {
   "cell_type": "code",
   "execution_count": 26,
   "metadata": {},
   "outputs": [
    {
     "data": {
      "text/plain": [
       "250    5379\n",
       "401    4032\n",
       "276    1967\n",
       "414    1472\n",
       "428    1456\n",
       "427    1359\n",
       "272     989\n",
       "496     831\n",
       "599     701\n",
       "403     636\n",
       "Name: diag_3, dtype: int64"
      ]
     },
     "execution_count": 26,
     "metadata": {},
     "output_type": "execute_result"
    }
   ],
   "source": [
    "df.diag_3.value_counts(dropna=False).head(10)"
   ]
  },
  {
   "cell_type": "code",
   "execution_count": 27,
   "metadata": {},
   "outputs": [
    {
     "data": {
      "text/plain": [
       "9     17536\n",
       "5      5620\n",
       "7      4096\n",
       "8      4091\n",
       "6      3973\n",
       "4      2637\n",
       "3      1397\n",
       "16       24\n",
       "13        7\n",
       "10        7\n",
       "15        5\n",
       "12        4\n",
       "14        3\n",
       "11        3\n",
       "Name: number_diagnoses, dtype: int64"
      ]
     },
     "execution_count": 27,
     "metadata": {},
     "output_type": "execute_result"
    }
   ],
   "source": [
    "df.number_diagnoses.value_counts()"
   ]
  },
  {
   "cell_type": "code",
   "execution_count": 28,
   "metadata": {
    "scrolled": true
   },
   "outputs": [
    {
     "data": {
      "text/plain": [
       "None    39338\n",
       ">300       49\n",
       "Norm       12\n",
       ">200        4\n",
       "Name: max_glu_serum, dtype: int64"
      ]
     },
     "execution_count": 28,
     "metadata": {},
     "output_type": "execute_result"
    }
   ],
   "source": [
    "df.max_glu_serum.value_counts()"
   ]
  },
  {
   "cell_type": "code",
   "execution_count": 29,
   "metadata": {},
   "outputs": [
    {
     "data": {
      "text/plain": [
       "None    31862\n",
       ">8       3440\n",
       "Norm     2399\n",
       ">7       1702\n",
       "Name: A1Cresult, dtype: int64"
      ]
     },
     "execution_count": 29,
     "metadata": {},
     "output_type": "execute_result"
    }
   ],
   "source": [
    "df.A1Cresult.value_counts()"
   ]
  },
  {
   "cell_type": "code",
   "execution_count": 30,
   "metadata": {},
   "outputs": [
    {
     "data": {
      "text/plain": [
       "No        30737\n",
       "Steady     7945\n",
       "Up          477\n",
       "Down        244\n",
       "Name: metformin, dtype: int64"
      ]
     },
     "execution_count": 30,
     "metadata": {},
     "output_type": "execute_result"
    }
   ],
   "source": [
    "df.metformin.value_counts()"
   ]
  },
  {
   "cell_type": "code",
   "execution_count": 31,
   "metadata": {},
   "outputs": [
    {
     "data": {
      "text/plain": [
       "No    21728\n",
       "Ch    17675\n",
       "Name: change, dtype: int64"
      ]
     },
     "execution_count": 31,
     "metadata": {},
     "output_type": "execute_result"
    }
   ],
   "source": [
    "df.change.value_counts()"
   ]
  },
  {
   "cell_type": "code",
   "execution_count": 32,
   "metadata": {},
   "outputs": [
    {
     "data": {
      "text/plain": [
       "Yes    29739\n",
       "No      9664\n",
       "Name: diabetesMed, dtype: int64"
      ]
     },
     "execution_count": 32,
     "metadata": {},
     "output_type": "execute_result"
    }
   ],
   "source": [
    "df.diabetesMed.value_counts()"
   ]
  },
  {
   "cell_type": "code",
   "execution_count": 33,
   "metadata": {},
   "outputs": [
    {
     "data": {
      "text/plain": [
       "0    34295\n",
       "1     5108\n",
       "Name: Target, dtype: int64"
      ]
     },
     "execution_count": 33,
     "metadata": {},
     "output_type": "execute_result"
    }
   ],
   "source": [
    "df.Target.value_counts()"
   ]
  },
  {
   "cell_type": "code",
   "execution_count": 34,
   "metadata": {},
   "outputs": [
    {
     "data": {
      "text/plain": [
       "(39403, 45)"
      ]
     },
     "execution_count": 34,
     "metadata": {},
     "output_type": "execute_result"
    }
   ],
   "source": [
    "# Drop columns with too many missing values, retaining A1C result due to relevance\n",
    "\n",
    "df = df.drop(columns=['weight', 'payer_code', 'medical_specialty', 'max_glu_serum'], axis=1)\n",
    "df.shape"
   ]
  },
  {
   "cell_type": "markdown",
   "metadata": {},
   "source": [
    "**Binning**"
   ]
  },
  {
   "cell_type": "code",
   "execution_count": 35,
   "metadata": {},
   "outputs": [
    {
     "name": "stderr",
     "output_type": "stream",
     "text": [
      "/Users/springboard/anaconda3/envs/ProjectEnv/lib/python3.7/site-packages/pandas/core/ops.py:1649: FutureWarning: elementwise comparison failed; returning scalar instead, but in the future will perform elementwise comparison\n",
      "  result = method(y)\n"
     ]
    },
    {
     "data": {
      "text/plain": [
       "(39403, 44)"
      ]
     },
     "execution_count": 35,
     "metadata": {},
     "output_type": "execute_result"
    }
   ],
   "source": [
    "# Drop 'diag_2' and 'diag_3'\n",
    "\n",
    "df = df.drop(columns=['diag_2', 'diag_3'], axis=1)\n",
    "\n",
    "# Convert 'diag_1' to numeric type\n",
    "\n",
    "df['Primary Diagnosis'] = pd.to_numeric(df['diag_1'],errors='coerce')\n",
    "\n",
    "# Drop to avoid binning errors\n",
    "\n",
    "df = df[df['Primary Diagnosis'] != '780']\n",
    "df = df[df['Primary Diagnosis'] != '781']\n",
    "df = df[df['Primary Diagnosis'] != '782']\n",
    "df = df[df['Primary Diagnosis'] != '784']\n",
    "df = df[df['Primary Diagnosis'] != '785']\n",
    "df = df[df['Primary Diagnosis'] != '786']\n",
    "df = df[df['Primary Diagnosis'] != '787']\n",
    "df = df[df['Primary Diagnosis'] != '788']\n",
    "\n",
    "df.shape"
   ]
  },
  {
   "cell_type": "code",
   "execution_count": 36,
   "metadata": {},
   "outputs": [
    {
     "data": {
      "text/html": [
       "<div>\n",
       "<style scoped>\n",
       "    .dataframe tbody tr th:only-of-type {\n",
       "        vertical-align: middle;\n",
       "    }\n",
       "\n",
       "    .dataframe tbody tr th {\n",
       "        vertical-align: top;\n",
       "    }\n",
       "\n",
       "    .dataframe thead th {\n",
       "        text-align: right;\n",
       "    }\n",
       "</style>\n",
       "<table border=\"1\" class=\"dataframe\">\n",
       "  <thead>\n",
       "    <tr style=\"text-align: right;\">\n",
       "      <th></th>\n",
       "      <th>race</th>\n",
       "      <th>gender</th>\n",
       "      <th>age</th>\n",
       "      <th>admission_type_id</th>\n",
       "      <th>discharge_disposition_id</th>\n",
       "      <th>admission_source_id</th>\n",
       "      <th>time_in_hospital</th>\n",
       "      <th>num_lab_procedures</th>\n",
       "      <th>num_procedures</th>\n",
       "      <th>num_medications</th>\n",
       "      <th>...</th>\n",
       "      <th>glipizide-metformin</th>\n",
       "      <th>glimepiride-pioglitazone</th>\n",
       "      <th>metformin-rosiglitazone</th>\n",
       "      <th>metformin-pioglitazone</th>\n",
       "      <th>change</th>\n",
       "      <th>diabetesMed</th>\n",
       "      <th>readmitted</th>\n",
       "      <th>Target</th>\n",
       "      <th>Primary Diagnosis</th>\n",
       "      <th>Binned</th>\n",
       "    </tr>\n",
       "  </thead>\n",
       "  <tbody>\n",
       "    <tr>\n",
       "      <th>0</th>\n",
       "      <td>Caucasian</td>\n",
       "      <td>Female</td>\n",
       "      <td>[50-60)</td>\n",
       "      <td>2</td>\n",
       "      <td>1</td>\n",
       "      <td>1</td>\n",
       "      <td>8</td>\n",
       "      <td>77</td>\n",
       "      <td>6</td>\n",
       "      <td>33</td>\n",
       "      <td>...</td>\n",
       "      <td>No</td>\n",
       "      <td>No</td>\n",
       "      <td>No</td>\n",
       "      <td>No</td>\n",
       "      <td>Ch</td>\n",
       "      <td>Yes</td>\n",
       "      <td>&lt;30</td>\n",
       "      <td>1</td>\n",
       "      <td>401.00</td>\n",
       "      <td>Circulatory System</td>\n",
       "    </tr>\n",
       "    <tr>\n",
       "      <th>2</th>\n",
       "      <td>Caucasian</td>\n",
       "      <td>Female</td>\n",
       "      <td>[50-60)</td>\n",
       "      <td>3</td>\n",
       "      <td>1</td>\n",
       "      <td>1</td>\n",
       "      <td>2</td>\n",
       "      <td>49</td>\n",
       "      <td>1</td>\n",
       "      <td>11</td>\n",
       "      <td>...</td>\n",
       "      <td>No</td>\n",
       "      <td>No</td>\n",
       "      <td>No</td>\n",
       "      <td>No</td>\n",
       "      <td>No</td>\n",
       "      <td>No</td>\n",
       "      <td>NO</td>\n",
       "      <td>0</td>\n",
       "      <td>722.00</td>\n",
       "      <td>Musculoskeletal System</td>\n",
       "    </tr>\n",
       "    <tr>\n",
       "      <th>3</th>\n",
       "      <td>Caucasian</td>\n",
       "      <td>Female</td>\n",
       "      <td>[80-90)</td>\n",
       "      <td>1</td>\n",
       "      <td>3</td>\n",
       "      <td>7</td>\n",
       "      <td>4</td>\n",
       "      <td>68</td>\n",
       "      <td>2</td>\n",
       "      <td>23</td>\n",
       "      <td>...</td>\n",
       "      <td>No</td>\n",
       "      <td>No</td>\n",
       "      <td>No</td>\n",
       "      <td>No</td>\n",
       "      <td>No</td>\n",
       "      <td>Yes</td>\n",
       "      <td>NO</td>\n",
       "      <td>0</td>\n",
       "      <td>820.00</td>\n",
       "      <td>Injury and poisoning</td>\n",
       "    </tr>\n",
       "    <tr>\n",
       "      <th>4</th>\n",
       "      <td>Caucasian</td>\n",
       "      <td>Female</td>\n",
       "      <td>[80-90)</td>\n",
       "      <td>1</td>\n",
       "      <td>1</td>\n",
       "      <td>7</td>\n",
       "      <td>3</td>\n",
       "      <td>46</td>\n",
       "      <td>0</td>\n",
       "      <td>20</td>\n",
       "      <td>...</td>\n",
       "      <td>No</td>\n",
       "      <td>No</td>\n",
       "      <td>No</td>\n",
       "      <td>No</td>\n",
       "      <td>Ch</td>\n",
       "      <td>Yes</td>\n",
       "      <td>NO</td>\n",
       "      <td>0</td>\n",
       "      <td>274.00</td>\n",
       "      <td>Immune System (No DM)</td>\n",
       "    </tr>\n",
       "    <tr>\n",
       "      <th>5</th>\n",
       "      <td>AfricanAmerican</td>\n",
       "      <td>Female</td>\n",
       "      <td>[30-40)</td>\n",
       "      <td>1</td>\n",
       "      <td>1</td>\n",
       "      <td>7</td>\n",
       "      <td>5</td>\n",
       "      <td>49</td>\n",
       "      <td>0</td>\n",
       "      <td>5</td>\n",
       "      <td>...</td>\n",
       "      <td>No</td>\n",
       "      <td>No</td>\n",
       "      <td>No</td>\n",
       "      <td>No</td>\n",
       "      <td>No</td>\n",
       "      <td>Yes</td>\n",
       "      <td>NO</td>\n",
       "      <td>0</td>\n",
       "      <td>590.00</td>\n",
       "      <td>Genitourinary System</td>\n",
       "    </tr>\n",
       "    <tr>\n",
       "      <th>11</th>\n",
       "      <td>Caucasian</td>\n",
       "      <td>Female</td>\n",
       "      <td>[60-70)</td>\n",
       "      <td>3</td>\n",
       "      <td>1</td>\n",
       "      <td>1</td>\n",
       "      <td>9</td>\n",
       "      <td>52</td>\n",
       "      <td>1</td>\n",
       "      <td>16</td>\n",
       "      <td>...</td>\n",
       "      <td>No</td>\n",
       "      <td>No</td>\n",
       "      <td>No</td>\n",
       "      <td>No</td>\n",
       "      <td>No</td>\n",
       "      <td>Yes</td>\n",
       "      <td>NO</td>\n",
       "      <td>0</td>\n",
       "      <td>491.00</td>\n",
       "      <td>Respiratory System</td>\n",
       "    </tr>\n",
       "    <tr>\n",
       "      <th>16</th>\n",
       "      <td>Caucasian</td>\n",
       "      <td>Female</td>\n",
       "      <td>[70-80)</td>\n",
       "      <td>2</td>\n",
       "      <td>3</td>\n",
       "      <td>1</td>\n",
       "      <td>12</td>\n",
       "      <td>47</td>\n",
       "      <td>2</td>\n",
       "      <td>18</td>\n",
       "      <td>...</td>\n",
       "      <td>No</td>\n",
       "      <td>No</td>\n",
       "      <td>No</td>\n",
       "      <td>No</td>\n",
       "      <td>Ch</td>\n",
       "      <td>Yes</td>\n",
       "      <td>NO</td>\n",
       "      <td>0</td>\n",
       "      <td>682.00</td>\n",
       "      <td>Skin Diseases</td>\n",
       "    </tr>\n",
       "    <tr>\n",
       "      <th>17</th>\n",
       "      <td>Caucasian</td>\n",
       "      <td>Male</td>\n",
       "      <td>[60-70)</td>\n",
       "      <td>2</td>\n",
       "      <td>1</td>\n",
       "      <td>1</td>\n",
       "      <td>8</td>\n",
       "      <td>57</td>\n",
       "      <td>6</td>\n",
       "      <td>31</td>\n",
       "      <td>...</td>\n",
       "      <td>No</td>\n",
       "      <td>No</td>\n",
       "      <td>No</td>\n",
       "      <td>No</td>\n",
       "      <td>No</td>\n",
       "      <td>Yes</td>\n",
       "      <td>NO</td>\n",
       "      <td>0</td>\n",
       "      <td>414.00</td>\n",
       "      <td>Circulatory System</td>\n",
       "    </tr>\n",
       "    <tr>\n",
       "      <th>18</th>\n",
       "      <td>Caucasian</td>\n",
       "      <td>Female</td>\n",
       "      <td>[70-80)</td>\n",
       "      <td>3</td>\n",
       "      <td>1</td>\n",
       "      <td>1</td>\n",
       "      <td>1</td>\n",
       "      <td>31</td>\n",
       "      <td>1</td>\n",
       "      <td>9</td>\n",
       "      <td>...</td>\n",
       "      <td>No</td>\n",
       "      <td>No</td>\n",
       "      <td>No</td>\n",
       "      <td>No</td>\n",
       "      <td>No</td>\n",
       "      <td>No</td>\n",
       "      <td>NO</td>\n",
       "      <td>0</td>\n",
       "      <td>722.00</td>\n",
       "      <td>Musculoskeletal System</td>\n",
       "    </tr>\n",
       "    <tr>\n",
       "      <th>25</th>\n",
       "      <td>Caucasian</td>\n",
       "      <td>Female</td>\n",
       "      <td>[80-90)</td>\n",
       "      <td>1</td>\n",
       "      <td>3</td>\n",
       "      <td>7</td>\n",
       "      <td>7</td>\n",
       "      <td>77</td>\n",
       "      <td>0</td>\n",
       "      <td>12</td>\n",
       "      <td>...</td>\n",
       "      <td>No</td>\n",
       "      <td>No</td>\n",
       "      <td>No</td>\n",
       "      <td>No</td>\n",
       "      <td>No</td>\n",
       "      <td>Yes</td>\n",
       "      <td>NO</td>\n",
       "      <td>0</td>\n",
       "      <td>38.00</td>\n",
       "      <td>Infectious Diseases</td>\n",
       "    </tr>\n",
       "    <tr>\n",
       "      <th>26</th>\n",
       "      <td>Caucasian</td>\n",
       "      <td>Female</td>\n",
       "      <td>[60-70)</td>\n",
       "      <td>1</td>\n",
       "      <td>1</td>\n",
       "      <td>7</td>\n",
       "      <td>4</td>\n",
       "      <td>47</td>\n",
       "      <td>4</td>\n",
       "      <td>16</td>\n",
       "      <td>...</td>\n",
       "      <td>No</td>\n",
       "      <td>No</td>\n",
       "      <td>No</td>\n",
       "      <td>No</td>\n",
       "      <td>No</td>\n",
       "      <td>No</td>\n",
       "      <td>NO</td>\n",
       "      <td>0</td>\n",
       "      <td>574.00</td>\n",
       "      <td>Digestive System</td>\n",
       "    </tr>\n",
       "    <tr>\n",
       "      <th>27</th>\n",
       "      <td>Caucasian</td>\n",
       "      <td>Male</td>\n",
       "      <td>[40-50)</td>\n",
       "      <td>1</td>\n",
       "      <td>1</td>\n",
       "      <td>7</td>\n",
       "      <td>1</td>\n",
       "      <td>35</td>\n",
       "      <td>5</td>\n",
       "      <td>13</td>\n",
       "      <td>...</td>\n",
       "      <td>No</td>\n",
       "      <td>No</td>\n",
       "      <td>No</td>\n",
       "      <td>No</td>\n",
       "      <td>Ch</td>\n",
       "      <td>Yes</td>\n",
       "      <td>NO</td>\n",
       "      <td>0</td>\n",
       "      <td>410.00</td>\n",
       "      <td>Circulatory System</td>\n",
       "    </tr>\n",
       "    <tr>\n",
       "      <th>30</th>\n",
       "      <td>AfricanAmerican</td>\n",
       "      <td>Female</td>\n",
       "      <td>[60-70)</td>\n",
       "      <td>3</td>\n",
       "      <td>5</td>\n",
       "      <td>1</td>\n",
       "      <td>4</td>\n",
       "      <td>2</td>\n",
       "      <td>2</td>\n",
       "      <td>20</td>\n",
       "      <td>...</td>\n",
       "      <td>No</td>\n",
       "      <td>No</td>\n",
       "      <td>No</td>\n",
       "      <td>No</td>\n",
       "      <td>Ch</td>\n",
       "      <td>Yes</td>\n",
       "      <td>NO</td>\n",
       "      <td>0</td>\n",
       "      <td>715.00</td>\n",
       "      <td>Musculoskeletal System</td>\n",
       "    </tr>\n",
       "    <tr>\n",
       "      <th>31</th>\n",
       "      <td>Caucasian</td>\n",
       "      <td>Male</td>\n",
       "      <td>[70-80)</td>\n",
       "      <td>3</td>\n",
       "      <td>1</td>\n",
       "      <td>1</td>\n",
       "      <td>6</td>\n",
       "      <td>65</td>\n",
       "      <td>2</td>\n",
       "      <td>19</td>\n",
       "      <td>...</td>\n",
       "      <td>No</td>\n",
       "      <td>No</td>\n",
       "      <td>No</td>\n",
       "      <td>No</td>\n",
       "      <td>No</td>\n",
       "      <td>Yes</td>\n",
       "      <td>NO</td>\n",
       "      <td>0</td>\n",
       "      <td>424.00</td>\n",
       "      <td>Circulatory System</td>\n",
       "    </tr>\n",
       "    <tr>\n",
       "      <th>32</th>\n",
       "      <td>Caucasian</td>\n",
       "      <td>Female</td>\n",
       "      <td>[80-90)</td>\n",
       "      <td>1</td>\n",
       "      <td>1</td>\n",
       "      <td>7</td>\n",
       "      <td>4</td>\n",
       "      <td>51</td>\n",
       "      <td>3</td>\n",
       "      <td>13</td>\n",
       "      <td>...</td>\n",
       "      <td>No</td>\n",
       "      <td>No</td>\n",
       "      <td>No</td>\n",
       "      <td>No</td>\n",
       "      <td>No</td>\n",
       "      <td>No</td>\n",
       "      <td>NO</td>\n",
       "      <td>0</td>\n",
       "      <td>427.00</td>\n",
       "      <td>Circulatory System</td>\n",
       "    </tr>\n",
       "    <tr>\n",
       "      <th>33</th>\n",
       "      <td>Caucasian</td>\n",
       "      <td>Female</td>\n",
       "      <td>[30-40)</td>\n",
       "      <td>1</td>\n",
       "      <td>1</td>\n",
       "      <td>7</td>\n",
       "      <td>1</td>\n",
       "      <td>58</td>\n",
       "      <td>0</td>\n",
       "      <td>5</td>\n",
       "      <td>...</td>\n",
       "      <td>No</td>\n",
       "      <td>No</td>\n",
       "      <td>No</td>\n",
       "      <td>No</td>\n",
       "      <td>No</td>\n",
       "      <td>No</td>\n",
       "      <td>NO</td>\n",
       "      <td>0</td>\n",
       "      <td>250.13</td>\n",
       "      <td>Diabetes Mellitus</td>\n",
       "    </tr>\n",
       "    <tr>\n",
       "      <th>34</th>\n",
       "      <td>Caucasian</td>\n",
       "      <td>Male</td>\n",
       "      <td>[60-70)</td>\n",
       "      <td>1</td>\n",
       "      <td>1</td>\n",
       "      <td>7</td>\n",
       "      <td>1</td>\n",
       "      <td>59</td>\n",
       "      <td>0</td>\n",
       "      <td>12</td>\n",
       "      <td>...</td>\n",
       "      <td>No</td>\n",
       "      <td>No</td>\n",
       "      <td>No</td>\n",
       "      <td>No</td>\n",
       "      <td>Ch</td>\n",
       "      <td>Yes</td>\n",
       "      <td>NO</td>\n",
       "      <td>0</td>\n",
       "      <td>486.00</td>\n",
       "      <td>Respiratory System</td>\n",
       "    </tr>\n",
       "    <tr>\n",
       "      <th>35</th>\n",
       "      <td>Caucasian</td>\n",
       "      <td>Male</td>\n",
       "      <td>[80-90)</td>\n",
       "      <td>2</td>\n",
       "      <td>1</td>\n",
       "      <td>1</td>\n",
       "      <td>2</td>\n",
       "      <td>38</td>\n",
       "      <td>0</td>\n",
       "      <td>8</td>\n",
       "      <td>...</td>\n",
       "      <td>No</td>\n",
       "      <td>No</td>\n",
       "      <td>No</td>\n",
       "      <td>No</td>\n",
       "      <td>No</td>\n",
       "      <td>Yes</td>\n",
       "      <td>NO</td>\n",
       "      <td>0</td>\n",
       "      <td>428.00</td>\n",
       "      <td>Circulatory System</td>\n",
       "    </tr>\n",
       "    <tr>\n",
       "      <th>36</th>\n",
       "      <td>AfricanAmerican</td>\n",
       "      <td>Male</td>\n",
       "      <td>[50-60)</td>\n",
       "      <td>3</td>\n",
       "      <td>1</td>\n",
       "      <td>1</td>\n",
       "      <td>2</td>\n",
       "      <td>64</td>\n",
       "      <td>0</td>\n",
       "      <td>10</td>\n",
       "      <td>...</td>\n",
       "      <td>No</td>\n",
       "      <td>No</td>\n",
       "      <td>No</td>\n",
       "      <td>No</td>\n",
       "      <td>No</td>\n",
       "      <td>Yes</td>\n",
       "      <td>NO</td>\n",
       "      <td>0</td>\n",
       "      <td>572.00</td>\n",
       "      <td>Digestive System</td>\n",
       "    </tr>\n",
       "    <tr>\n",
       "      <th>37</th>\n",
       "      <td>Caucasian</td>\n",
       "      <td>Male</td>\n",
       "      <td>[70-80)</td>\n",
       "      <td>2</td>\n",
       "      <td>1</td>\n",
       "      <td>1</td>\n",
       "      <td>1</td>\n",
       "      <td>33</td>\n",
       "      <td>2</td>\n",
       "      <td>12</td>\n",
       "      <td>...</td>\n",
       "      <td>No</td>\n",
       "      <td>No</td>\n",
       "      <td>No</td>\n",
       "      <td>No</td>\n",
       "      <td>No</td>\n",
       "      <td>Yes</td>\n",
       "      <td>NO</td>\n",
       "      <td>0</td>\n",
       "      <td>600.00</td>\n",
       "      <td>Genitourinary System</td>\n",
       "    </tr>\n",
       "    <tr>\n",
       "      <th>38</th>\n",
       "      <td>AfricanAmerican</td>\n",
       "      <td>Female</td>\n",
       "      <td>[70-80)</td>\n",
       "      <td>3</td>\n",
       "      <td>1</td>\n",
       "      <td>1</td>\n",
       "      <td>4</td>\n",
       "      <td>54</td>\n",
       "      <td>2</td>\n",
       "      <td>3</td>\n",
       "      <td>...</td>\n",
       "      <td>No</td>\n",
       "      <td>No</td>\n",
       "      <td>No</td>\n",
       "      <td>No</td>\n",
       "      <td>No</td>\n",
       "      <td>No</td>\n",
       "      <td>NO</td>\n",
       "      <td>0</td>\n",
       "      <td>599.00</td>\n",
       "      <td>Genitourinary System</td>\n",
       "    </tr>\n",
       "    <tr>\n",
       "      <th>41</th>\n",
       "      <td>AfricanAmerican</td>\n",
       "      <td>Female</td>\n",
       "      <td>[40-50)</td>\n",
       "      <td>2</td>\n",
       "      <td>1</td>\n",
       "      <td>1</td>\n",
       "      <td>2</td>\n",
       "      <td>66</td>\n",
       "      <td>0</td>\n",
       "      <td>9</td>\n",
       "      <td>...</td>\n",
       "      <td>No</td>\n",
       "      <td>No</td>\n",
       "      <td>No</td>\n",
       "      <td>No</td>\n",
       "      <td>No</td>\n",
       "      <td>No</td>\n",
       "      <td>NO</td>\n",
       "      <td>0</td>\n",
       "      <td>435.00</td>\n",
       "      <td>Circulatory System</td>\n",
       "    </tr>\n",
       "    <tr>\n",
       "      <th>45</th>\n",
       "      <td>Caucasian</td>\n",
       "      <td>Male</td>\n",
       "      <td>[70-80)</td>\n",
       "      <td>2</td>\n",
       "      <td>1</td>\n",
       "      <td>1</td>\n",
       "      <td>3</td>\n",
       "      <td>56</td>\n",
       "      <td>0</td>\n",
       "      <td>10</td>\n",
       "      <td>...</td>\n",
       "      <td>No</td>\n",
       "      <td>No</td>\n",
       "      <td>No</td>\n",
       "      <td>No</td>\n",
       "      <td>No</td>\n",
       "      <td>Yes</td>\n",
       "      <td>&lt;30</td>\n",
       "      <td>1</td>\n",
       "      <td>428.00</td>\n",
       "      <td>Circulatory System</td>\n",
       "    </tr>\n",
       "    <tr>\n",
       "      <th>50</th>\n",
       "      <td>Caucasian</td>\n",
       "      <td>Male</td>\n",
       "      <td>[50-60)</td>\n",
       "      <td>1</td>\n",
       "      <td>1</td>\n",
       "      <td>7</td>\n",
       "      <td>13</td>\n",
       "      <td>88</td>\n",
       "      <td>6</td>\n",
       "      <td>45</td>\n",
       "      <td>...</td>\n",
       "      <td>No</td>\n",
       "      <td>No</td>\n",
       "      <td>No</td>\n",
       "      <td>No</td>\n",
       "      <td>No</td>\n",
       "      <td>Yes</td>\n",
       "      <td>NO</td>\n",
       "      <td>0</td>\n",
       "      <td>414.00</td>\n",
       "      <td>Circulatory System</td>\n",
       "    </tr>\n",
       "    <tr>\n",
       "      <th>51</th>\n",
       "      <td>Caucasian</td>\n",
       "      <td>Female</td>\n",
       "      <td>[30-40)</td>\n",
       "      <td>3</td>\n",
       "      <td>1</td>\n",
       "      <td>1</td>\n",
       "      <td>3</td>\n",
       "      <td>57</td>\n",
       "      <td>0</td>\n",
       "      <td>13</td>\n",
       "      <td>...</td>\n",
       "      <td>No</td>\n",
       "      <td>No</td>\n",
       "      <td>No</td>\n",
       "      <td>No</td>\n",
       "      <td>No</td>\n",
       "      <td>No</td>\n",
       "      <td>NO</td>\n",
       "      <td>0</td>\n",
       "      <td>296.00</td>\n",
       "      <td>Mental Disorders</td>\n",
       "    </tr>\n",
       "    <tr>\n",
       "      <th>56</th>\n",
       "      <td>Hispanic</td>\n",
       "      <td>Male</td>\n",
       "      <td>[60-70)</td>\n",
       "      <td>1</td>\n",
       "      <td>1</td>\n",
       "      <td>4</td>\n",
       "      <td>6</td>\n",
       "      <td>10</td>\n",
       "      <td>0</td>\n",
       "      <td>13</td>\n",
       "      <td>...</td>\n",
       "      <td>No</td>\n",
       "      <td>No</td>\n",
       "      <td>No</td>\n",
       "      <td>No</td>\n",
       "      <td>Ch</td>\n",
       "      <td>Yes</td>\n",
       "      <td>NO</td>\n",
       "      <td>0</td>\n",
       "      <td>431.00</td>\n",
       "      <td>Circulatory System</td>\n",
       "    </tr>\n",
       "    <tr>\n",
       "      <th>65</th>\n",
       "      <td>AfricanAmerican</td>\n",
       "      <td>Male</td>\n",
       "      <td>[50-60)</td>\n",
       "      <td>3</td>\n",
       "      <td>1</td>\n",
       "      <td>1</td>\n",
       "      <td>3</td>\n",
       "      <td>48</td>\n",
       "      <td>2</td>\n",
       "      <td>22</td>\n",
       "      <td>...</td>\n",
       "      <td>No</td>\n",
       "      <td>No</td>\n",
       "      <td>No</td>\n",
       "      <td>No</td>\n",
       "      <td>No</td>\n",
       "      <td>No</td>\n",
       "      <td>NO</td>\n",
       "      <td>0</td>\n",
       "      <td>996.00</td>\n",
       "      <td>Injury and poisoning</td>\n",
       "    </tr>\n",
       "    <tr>\n",
       "      <th>66</th>\n",
       "      <td>Caucasian</td>\n",
       "      <td>Male</td>\n",
       "      <td>[70-80)</td>\n",
       "      <td>2</td>\n",
       "      <td>1</td>\n",
       "      <td>7</td>\n",
       "      <td>1</td>\n",
       "      <td>58</td>\n",
       "      <td>0</td>\n",
       "      <td>8</td>\n",
       "      <td>...</td>\n",
       "      <td>No</td>\n",
       "      <td>No</td>\n",
       "      <td>No</td>\n",
       "      <td>No</td>\n",
       "      <td>Ch</td>\n",
       "      <td>Yes</td>\n",
       "      <td>NO</td>\n",
       "      <td>0</td>\n",
       "      <td>276.00</td>\n",
       "      <td>Immune System (No DM)</td>\n",
       "    </tr>\n",
       "    <tr>\n",
       "      <th>68</th>\n",
       "      <td>Caucasian</td>\n",
       "      <td>Male</td>\n",
       "      <td>[80-90)</td>\n",
       "      <td>1</td>\n",
       "      <td>1</td>\n",
       "      <td>7</td>\n",
       "      <td>3</td>\n",
       "      <td>35</td>\n",
       "      <td>0</td>\n",
       "      <td>10</td>\n",
       "      <td>...</td>\n",
       "      <td>No</td>\n",
       "      <td>No</td>\n",
       "      <td>No</td>\n",
       "      <td>No</td>\n",
       "      <td>No</td>\n",
       "      <td>No</td>\n",
       "      <td>NO</td>\n",
       "      <td>0</td>\n",
       "      <td>428.00</td>\n",
       "      <td>Circulatory System</td>\n",
       "    </tr>\n",
       "    <tr>\n",
       "      <th>69</th>\n",
       "      <td>Caucasian</td>\n",
       "      <td>Female</td>\n",
       "      <td>[80-90)</td>\n",
       "      <td>1</td>\n",
       "      <td>1</td>\n",
       "      <td>7</td>\n",
       "      <td>1</td>\n",
       "      <td>44</td>\n",
       "      <td>0</td>\n",
       "      <td>8</td>\n",
       "      <td>...</td>\n",
       "      <td>No</td>\n",
       "      <td>No</td>\n",
       "      <td>No</td>\n",
       "      <td>No</td>\n",
       "      <td>No</td>\n",
       "      <td>No</td>\n",
       "      <td>NO</td>\n",
       "      <td>0</td>\n",
       "      <td>414.00</td>\n",
       "      <td>Circulatory System</td>\n",
       "    </tr>\n",
       "    <tr>\n",
       "      <th>70</th>\n",
       "      <td>Caucasian</td>\n",
       "      <td>Male</td>\n",
       "      <td>[70-80)</td>\n",
       "      <td>2</td>\n",
       "      <td>1</td>\n",
       "      <td>1</td>\n",
       "      <td>2</td>\n",
       "      <td>34</td>\n",
       "      <td>5</td>\n",
       "      <td>20</td>\n",
       "      <td>...</td>\n",
       "      <td>No</td>\n",
       "      <td>No</td>\n",
       "      <td>No</td>\n",
       "      <td>No</td>\n",
       "      <td>Ch</td>\n",
       "      <td>Yes</td>\n",
       "      <td>NO</td>\n",
       "      <td>0</td>\n",
       "      <td>414.00</td>\n",
       "      <td>Circulatory System</td>\n",
       "    </tr>\n",
       "    <tr>\n",
       "      <th>71</th>\n",
       "      <td>Caucasian</td>\n",
       "      <td>Male</td>\n",
       "      <td>[80-90)</td>\n",
       "      <td>1</td>\n",
       "      <td>1</td>\n",
       "      <td>6</td>\n",
       "      <td>7</td>\n",
       "      <td>78</td>\n",
       "      <td>0</td>\n",
       "      <td>16</td>\n",
       "      <td>...</td>\n",
       "      <td>No</td>\n",
       "      <td>No</td>\n",
       "      <td>No</td>\n",
       "      <td>No</td>\n",
       "      <td>No</td>\n",
       "      <td>Yes</td>\n",
       "      <td>NO</td>\n",
       "      <td>0</td>\n",
       "      <td>250.22</td>\n",
       "      <td>Diabetes Mellitus</td>\n",
       "    </tr>\n",
       "    <tr>\n",
       "      <th>72</th>\n",
       "      <td>Caucasian</td>\n",
       "      <td>Male</td>\n",
       "      <td>[60-70)</td>\n",
       "      <td>1</td>\n",
       "      <td>6</td>\n",
       "      <td>7</td>\n",
       "      <td>3</td>\n",
       "      <td>45</td>\n",
       "      <td>0</td>\n",
       "      <td>10</td>\n",
       "      <td>...</td>\n",
       "      <td>No</td>\n",
       "      <td>No</td>\n",
       "      <td>No</td>\n",
       "      <td>No</td>\n",
       "      <td>No</td>\n",
       "      <td>Yes</td>\n",
       "      <td>NO</td>\n",
       "      <td>0</td>\n",
       "      <td>805.00</td>\n",
       "      <td>Injury and poisoning</td>\n",
       "    </tr>\n",
       "    <tr>\n",
       "      <th>73</th>\n",
       "      <td>Caucasian</td>\n",
       "      <td>Male</td>\n",
       "      <td>[50-60)</td>\n",
       "      <td>2</td>\n",
       "      <td>1</td>\n",
       "      <td>1</td>\n",
       "      <td>5</td>\n",
       "      <td>45</td>\n",
       "      <td>0</td>\n",
       "      <td>22</td>\n",
       "      <td>...</td>\n",
       "      <td>No</td>\n",
       "      <td>No</td>\n",
       "      <td>No</td>\n",
       "      <td>No</td>\n",
       "      <td>No</td>\n",
       "      <td>Yes</td>\n",
       "      <td>NO</td>\n",
       "      <td>0</td>\n",
       "      <td>428.00</td>\n",
       "      <td>Circulatory System</td>\n",
       "    </tr>\n",
       "    <tr>\n",
       "      <th>74</th>\n",
       "      <td>AfricanAmerican</td>\n",
       "      <td>Female</td>\n",
       "      <td>[70-80)</td>\n",
       "      <td>2</td>\n",
       "      <td>1</td>\n",
       "      <td>1</td>\n",
       "      <td>5</td>\n",
       "      <td>47</td>\n",
       "      <td>3</td>\n",
       "      <td>12</td>\n",
       "      <td>...</td>\n",
       "      <td>No</td>\n",
       "      <td>No</td>\n",
       "      <td>No</td>\n",
       "      <td>No</td>\n",
       "      <td>No</td>\n",
       "      <td>Yes</td>\n",
       "      <td>NO</td>\n",
       "      <td>0</td>\n",
       "      <td>724.00</td>\n",
       "      <td>Musculoskeletal System</td>\n",
       "    </tr>\n",
       "    <tr>\n",
       "      <th>75</th>\n",
       "      <td>Caucasian</td>\n",
       "      <td>Male</td>\n",
       "      <td>[80-90)</td>\n",
       "      <td>1</td>\n",
       "      <td>3</td>\n",
       "      <td>6</td>\n",
       "      <td>3</td>\n",
       "      <td>38</td>\n",
       "      <td>0</td>\n",
       "      <td>8</td>\n",
       "      <td>...</td>\n",
       "      <td>No</td>\n",
       "      <td>No</td>\n",
       "      <td>No</td>\n",
       "      <td>No</td>\n",
       "      <td>Ch</td>\n",
       "      <td>Yes</td>\n",
       "      <td>NO</td>\n",
       "      <td>0</td>\n",
       "      <td>491.00</td>\n",
       "      <td>Respiratory System</td>\n",
       "    </tr>\n",
       "    <tr>\n",
       "      <th>76</th>\n",
       "      <td>Caucasian</td>\n",
       "      <td>Female</td>\n",
       "      <td>[40-50)</td>\n",
       "      <td>1</td>\n",
       "      <td>1</td>\n",
       "      <td>7</td>\n",
       "      <td>4</td>\n",
       "      <td>57</td>\n",
       "      <td>0</td>\n",
       "      <td>10</td>\n",
       "      <td>...</td>\n",
       "      <td>No</td>\n",
       "      <td>No</td>\n",
       "      <td>No</td>\n",
       "      <td>No</td>\n",
       "      <td>Ch</td>\n",
       "      <td>Yes</td>\n",
       "      <td>NO</td>\n",
       "      <td>0</td>\n",
       "      <td>682.00</td>\n",
       "      <td>Skin Diseases</td>\n",
       "    </tr>\n",
       "    <tr>\n",
       "      <th>77</th>\n",
       "      <td>Caucasian</td>\n",
       "      <td>Male</td>\n",
       "      <td>[60-70)</td>\n",
       "      <td>3</td>\n",
       "      <td>1</td>\n",
       "      <td>1</td>\n",
       "      <td>5</td>\n",
       "      <td>49</td>\n",
       "      <td>0</td>\n",
       "      <td>19</td>\n",
       "      <td>...</td>\n",
       "      <td>No</td>\n",
       "      <td>No</td>\n",
       "      <td>No</td>\n",
       "      <td>No</td>\n",
       "      <td>Ch</td>\n",
       "      <td>Yes</td>\n",
       "      <td>NO</td>\n",
       "      <td>0</td>\n",
       "      <td>601.00</td>\n",
       "      <td>Genitourinary System</td>\n",
       "    </tr>\n",
       "    <tr>\n",
       "      <th>82</th>\n",
       "      <td>AfricanAmerican</td>\n",
       "      <td>Female</td>\n",
       "      <td>[40-50)</td>\n",
       "      <td>1</td>\n",
       "      <td>1</td>\n",
       "      <td>7</td>\n",
       "      <td>4</td>\n",
       "      <td>55</td>\n",
       "      <td>0</td>\n",
       "      <td>11</td>\n",
       "      <td>...</td>\n",
       "      <td>No</td>\n",
       "      <td>No</td>\n",
       "      <td>No</td>\n",
       "      <td>No</td>\n",
       "      <td>Ch</td>\n",
       "      <td>Yes</td>\n",
       "      <td>NO</td>\n",
       "      <td>0</td>\n",
       "      <td>562.00</td>\n",
       "      <td>Digestive System</td>\n",
       "    </tr>\n",
       "    <tr>\n",
       "      <th>83</th>\n",
       "      <td>Caucasian</td>\n",
       "      <td>Male</td>\n",
       "      <td>[80-90)</td>\n",
       "      <td>1</td>\n",
       "      <td>1</td>\n",
       "      <td>7</td>\n",
       "      <td>2</td>\n",
       "      <td>51</td>\n",
       "      <td>0</td>\n",
       "      <td>6</td>\n",
       "      <td>...</td>\n",
       "      <td>No</td>\n",
       "      <td>No</td>\n",
       "      <td>No</td>\n",
       "      <td>No</td>\n",
       "      <td>No</td>\n",
       "      <td>No</td>\n",
       "      <td>NO</td>\n",
       "      <td>0</td>\n",
       "      <td>276.00</td>\n",
       "      <td>Immune System (No DM)</td>\n",
       "    </tr>\n",
       "    <tr>\n",
       "      <th>84</th>\n",
       "      <td>Caucasian</td>\n",
       "      <td>Male</td>\n",
       "      <td>[70-80)</td>\n",
       "      <td>1</td>\n",
       "      <td>1</td>\n",
       "      <td>7</td>\n",
       "      <td>7</td>\n",
       "      <td>49</td>\n",
       "      <td>0</td>\n",
       "      <td>4</td>\n",
       "      <td>...</td>\n",
       "      <td>No</td>\n",
       "      <td>No</td>\n",
       "      <td>No</td>\n",
       "      <td>No</td>\n",
       "      <td>No</td>\n",
       "      <td>No</td>\n",
       "      <td>NO</td>\n",
       "      <td>0</td>\n",
       "      <td>466.00</td>\n",
       "      <td>Respiratory System</td>\n",
       "    </tr>\n",
       "    <tr>\n",
       "      <th>85</th>\n",
       "      <td>AfricanAmerican</td>\n",
       "      <td>Female</td>\n",
       "      <td>[70-80)</td>\n",
       "      <td>1</td>\n",
       "      <td>3</td>\n",
       "      <td>6</td>\n",
       "      <td>2</td>\n",
       "      <td>17</td>\n",
       "      <td>1</td>\n",
       "      <td>10</td>\n",
       "      <td>...</td>\n",
       "      <td>No</td>\n",
       "      <td>No</td>\n",
       "      <td>No</td>\n",
       "      <td>No</td>\n",
       "      <td>No</td>\n",
       "      <td>Yes</td>\n",
       "      <td>NO</td>\n",
       "      <td>0</td>\n",
       "      <td>585.00</td>\n",
       "      <td>Genitourinary System</td>\n",
       "    </tr>\n",
       "    <tr>\n",
       "      <th>90</th>\n",
       "      <td>Caucasian</td>\n",
       "      <td>Male</td>\n",
       "      <td>[80-90)</td>\n",
       "      <td>1</td>\n",
       "      <td>1</td>\n",
       "      <td>7</td>\n",
       "      <td>4</td>\n",
       "      <td>57</td>\n",
       "      <td>0</td>\n",
       "      <td>4</td>\n",
       "      <td>...</td>\n",
       "      <td>No</td>\n",
       "      <td>No</td>\n",
       "      <td>No</td>\n",
       "      <td>No</td>\n",
       "      <td>No</td>\n",
       "      <td>Yes</td>\n",
       "      <td>&lt;30</td>\n",
       "      <td>1</td>\n",
       "      <td>486.00</td>\n",
       "      <td>Respiratory System</td>\n",
       "    </tr>\n",
       "    <tr>\n",
       "      <th>94</th>\n",
       "      <td>AfricanAmerican</td>\n",
       "      <td>Female</td>\n",
       "      <td>[50-60)</td>\n",
       "      <td>1</td>\n",
       "      <td>1</td>\n",
       "      <td>7</td>\n",
       "      <td>2</td>\n",
       "      <td>34</td>\n",
       "      <td>0</td>\n",
       "      <td>16</td>\n",
       "      <td>...</td>\n",
       "      <td>No</td>\n",
       "      <td>No</td>\n",
       "      <td>No</td>\n",
       "      <td>No</td>\n",
       "      <td>No</td>\n",
       "      <td>Yes</td>\n",
       "      <td>NO</td>\n",
       "      <td>0</td>\n",
       "      <td>434.00</td>\n",
       "      <td>Circulatory System</td>\n",
       "    </tr>\n",
       "    <tr>\n",
       "      <th>95</th>\n",
       "      <td>Caucasian</td>\n",
       "      <td>Male</td>\n",
       "      <td>[70-80)</td>\n",
       "      <td>1</td>\n",
       "      <td>1</td>\n",
       "      <td>7</td>\n",
       "      <td>2</td>\n",
       "      <td>44</td>\n",
       "      <td>0</td>\n",
       "      <td>6</td>\n",
       "      <td>...</td>\n",
       "      <td>No</td>\n",
       "      <td>No</td>\n",
       "      <td>No</td>\n",
       "      <td>No</td>\n",
       "      <td>No</td>\n",
       "      <td>Yes</td>\n",
       "      <td>NO</td>\n",
       "      <td>0</td>\n",
       "      <td>784.00</td>\n",
       "      <td>Other</td>\n",
       "    </tr>\n",
       "    <tr>\n",
       "      <th>98</th>\n",
       "      <td>AfricanAmerican</td>\n",
       "      <td>Female</td>\n",
       "      <td>[40-50)</td>\n",
       "      <td>3</td>\n",
       "      <td>1</td>\n",
       "      <td>1</td>\n",
       "      <td>3</td>\n",
       "      <td>52</td>\n",
       "      <td>3</td>\n",
       "      <td>14</td>\n",
       "      <td>...</td>\n",
       "      <td>No</td>\n",
       "      <td>No</td>\n",
       "      <td>No</td>\n",
       "      <td>No</td>\n",
       "      <td>Ch</td>\n",
       "      <td>Yes</td>\n",
       "      <td>NO</td>\n",
       "      <td>0</td>\n",
       "      <td>218.00</td>\n",
       "      <td>Neoplasms</td>\n",
       "    </tr>\n",
       "    <tr>\n",
       "      <th>99</th>\n",
       "      <td>Caucasian</td>\n",
       "      <td>Female</td>\n",
       "      <td>[80-90)</td>\n",
       "      <td>1</td>\n",
       "      <td>1</td>\n",
       "      <td>7</td>\n",
       "      <td>2</td>\n",
       "      <td>48</td>\n",
       "      <td>6</td>\n",
       "      <td>14</td>\n",
       "      <td>...</td>\n",
       "      <td>No</td>\n",
       "      <td>No</td>\n",
       "      <td>No</td>\n",
       "      <td>No</td>\n",
       "      <td>No</td>\n",
       "      <td>No</td>\n",
       "      <td>NO</td>\n",
       "      <td>0</td>\n",
       "      <td>414.00</td>\n",
       "      <td>Circulatory System</td>\n",
       "    </tr>\n",
       "    <tr>\n",
       "      <th>100</th>\n",
       "      <td>AfricanAmerican</td>\n",
       "      <td>Female</td>\n",
       "      <td>[60-70)</td>\n",
       "      <td>1</td>\n",
       "      <td>1</td>\n",
       "      <td>7</td>\n",
       "      <td>8</td>\n",
       "      <td>48</td>\n",
       "      <td>2</td>\n",
       "      <td>14</td>\n",
       "      <td>...</td>\n",
       "      <td>No</td>\n",
       "      <td>No</td>\n",
       "      <td>No</td>\n",
       "      <td>No</td>\n",
       "      <td>No</td>\n",
       "      <td>Yes</td>\n",
       "      <td>NO</td>\n",
       "      <td>0</td>\n",
       "      <td>572.00</td>\n",
       "      <td>Digestive System</td>\n",
       "    </tr>\n",
       "    <tr>\n",
       "      <th>110</th>\n",
       "      <td>Caucasian</td>\n",
       "      <td>Male</td>\n",
       "      <td>[80-90)</td>\n",
       "      <td>2</td>\n",
       "      <td>1</td>\n",
       "      <td>1</td>\n",
       "      <td>8</td>\n",
       "      <td>52</td>\n",
       "      <td>0</td>\n",
       "      <td>14</td>\n",
       "      <td>...</td>\n",
       "      <td>No</td>\n",
       "      <td>No</td>\n",
       "      <td>No</td>\n",
       "      <td>No</td>\n",
       "      <td>No</td>\n",
       "      <td>Yes</td>\n",
       "      <td>NO</td>\n",
       "      <td>0</td>\n",
       "      <td>682.00</td>\n",
       "      <td>Skin Diseases</td>\n",
       "    </tr>\n",
       "    <tr>\n",
       "      <th>111</th>\n",
       "      <td>Caucasian</td>\n",
       "      <td>Male</td>\n",
       "      <td>[70-80)</td>\n",
       "      <td>1</td>\n",
       "      <td>1</td>\n",
       "      <td>7</td>\n",
       "      <td>2</td>\n",
       "      <td>39</td>\n",
       "      <td>0</td>\n",
       "      <td>8</td>\n",
       "      <td>...</td>\n",
       "      <td>No</td>\n",
       "      <td>No</td>\n",
       "      <td>No</td>\n",
       "      <td>No</td>\n",
       "      <td>No</td>\n",
       "      <td>Yes</td>\n",
       "      <td>NO</td>\n",
       "      <td>0</td>\n",
       "      <td>780.00</td>\n",
       "      <td>Other</td>\n",
       "    </tr>\n",
       "  </tbody>\n",
       "</table>\n",
       "<p>50 rows × 45 columns</p>\n",
       "</div>"
      ],
      "text/plain": [
       "                race  gender      age  admission_type_id  \\\n",
       "0          Caucasian  Female  [50-60)                  2   \n",
       "2          Caucasian  Female  [50-60)                  3   \n",
       "3          Caucasian  Female  [80-90)                  1   \n",
       "4          Caucasian  Female  [80-90)                  1   \n",
       "5    AfricanAmerican  Female  [30-40)                  1   \n",
       "11         Caucasian  Female  [60-70)                  3   \n",
       "16         Caucasian  Female  [70-80)                  2   \n",
       "17         Caucasian    Male  [60-70)                  2   \n",
       "18         Caucasian  Female  [70-80)                  3   \n",
       "25         Caucasian  Female  [80-90)                  1   \n",
       "26         Caucasian  Female  [60-70)                  1   \n",
       "27         Caucasian    Male  [40-50)                  1   \n",
       "30   AfricanAmerican  Female  [60-70)                  3   \n",
       "31         Caucasian    Male  [70-80)                  3   \n",
       "32         Caucasian  Female  [80-90)                  1   \n",
       "33         Caucasian  Female  [30-40)                  1   \n",
       "34         Caucasian    Male  [60-70)                  1   \n",
       "35         Caucasian    Male  [80-90)                  2   \n",
       "36   AfricanAmerican    Male  [50-60)                  3   \n",
       "37         Caucasian    Male  [70-80)                  2   \n",
       "38   AfricanAmerican  Female  [70-80)                  3   \n",
       "41   AfricanAmerican  Female  [40-50)                  2   \n",
       "45         Caucasian    Male  [70-80)                  2   \n",
       "50         Caucasian    Male  [50-60)                  1   \n",
       "51         Caucasian  Female  [30-40)                  3   \n",
       "56          Hispanic    Male  [60-70)                  1   \n",
       "65   AfricanAmerican    Male  [50-60)                  3   \n",
       "66         Caucasian    Male  [70-80)                  2   \n",
       "68         Caucasian    Male  [80-90)                  1   \n",
       "69         Caucasian  Female  [80-90)                  1   \n",
       "70         Caucasian    Male  [70-80)                  2   \n",
       "71         Caucasian    Male  [80-90)                  1   \n",
       "72         Caucasian    Male  [60-70)                  1   \n",
       "73         Caucasian    Male  [50-60)                  2   \n",
       "74   AfricanAmerican  Female  [70-80)                  2   \n",
       "75         Caucasian    Male  [80-90)                  1   \n",
       "76         Caucasian  Female  [40-50)                  1   \n",
       "77         Caucasian    Male  [60-70)                  3   \n",
       "82   AfricanAmerican  Female  [40-50)                  1   \n",
       "83         Caucasian    Male  [80-90)                  1   \n",
       "84         Caucasian    Male  [70-80)                  1   \n",
       "85   AfricanAmerican  Female  [70-80)                  1   \n",
       "90         Caucasian    Male  [80-90)                  1   \n",
       "94   AfricanAmerican  Female  [50-60)                  1   \n",
       "95         Caucasian    Male  [70-80)                  1   \n",
       "98   AfricanAmerican  Female  [40-50)                  3   \n",
       "99         Caucasian  Female  [80-90)                  1   \n",
       "100  AfricanAmerican  Female  [60-70)                  1   \n",
       "110        Caucasian    Male  [80-90)                  2   \n",
       "111        Caucasian    Male  [70-80)                  1   \n",
       "\n",
       "     discharge_disposition_id  admission_source_id  time_in_hospital  \\\n",
       "0                           1                    1                 8   \n",
       "2                           1                    1                 2   \n",
       "3                           3                    7                 4   \n",
       "4                           1                    7                 3   \n",
       "5                           1                    7                 5   \n",
       "11                          1                    1                 9   \n",
       "16                          3                    1                12   \n",
       "17                          1                    1                 8   \n",
       "18                          1                    1                 1   \n",
       "25                          3                    7                 7   \n",
       "26                          1                    7                 4   \n",
       "27                          1                    7                 1   \n",
       "30                          5                    1                 4   \n",
       "31                          1                    1                 6   \n",
       "32                          1                    7                 4   \n",
       "33                          1                    7                 1   \n",
       "34                          1                    7                 1   \n",
       "35                          1                    1                 2   \n",
       "36                          1                    1                 2   \n",
       "37                          1                    1                 1   \n",
       "38                          1                    1                 4   \n",
       "41                          1                    1                 2   \n",
       "45                          1                    1                 3   \n",
       "50                          1                    7                13   \n",
       "51                          1                    1                 3   \n",
       "56                          1                    4                 6   \n",
       "65                          1                    1                 3   \n",
       "66                          1                    7                 1   \n",
       "68                          1                    7                 3   \n",
       "69                          1                    7                 1   \n",
       "70                          1                    1                 2   \n",
       "71                          1                    6                 7   \n",
       "72                          6                    7                 3   \n",
       "73                          1                    1                 5   \n",
       "74                          1                    1                 5   \n",
       "75                          3                    6                 3   \n",
       "76                          1                    7                 4   \n",
       "77                          1                    1                 5   \n",
       "82                          1                    7                 4   \n",
       "83                          1                    7                 2   \n",
       "84                          1                    7                 7   \n",
       "85                          3                    6                 2   \n",
       "90                          1                    7                 4   \n",
       "94                          1                    7                 2   \n",
       "95                          1                    7                 2   \n",
       "98                          1                    1                 3   \n",
       "99                          1                    7                 2   \n",
       "100                         1                    7                 8   \n",
       "110                         1                    1                 8   \n",
       "111                         1                    7                 2   \n",
       "\n",
       "     num_lab_procedures  num_procedures  num_medications  ...  \\\n",
       "0                    77               6               33  ...   \n",
       "2                    49               1               11  ...   \n",
       "3                    68               2               23  ...   \n",
       "4                    46               0               20  ...   \n",
       "5                    49               0                5  ...   \n",
       "11                   52               1               16  ...   \n",
       "16                   47               2               18  ...   \n",
       "17                   57               6               31  ...   \n",
       "18                   31               1                9  ...   \n",
       "25                   77               0               12  ...   \n",
       "26                   47               4               16  ...   \n",
       "27                   35               5               13  ...   \n",
       "30                    2               2               20  ...   \n",
       "31                   65               2               19  ...   \n",
       "32                   51               3               13  ...   \n",
       "33                   58               0                5  ...   \n",
       "34                   59               0               12  ...   \n",
       "35                   38               0                8  ...   \n",
       "36                   64               0               10  ...   \n",
       "37                   33               2               12  ...   \n",
       "38                   54               2                3  ...   \n",
       "41                   66               0                9  ...   \n",
       "45                   56               0               10  ...   \n",
       "50                   88               6               45  ...   \n",
       "51                   57               0               13  ...   \n",
       "56                   10               0               13  ...   \n",
       "65                   48               2               22  ...   \n",
       "66                   58               0                8  ...   \n",
       "68                   35               0               10  ...   \n",
       "69                   44               0                8  ...   \n",
       "70                   34               5               20  ...   \n",
       "71                   78               0               16  ...   \n",
       "72                   45               0               10  ...   \n",
       "73                   45               0               22  ...   \n",
       "74                   47               3               12  ...   \n",
       "75                   38               0                8  ...   \n",
       "76                   57               0               10  ...   \n",
       "77                   49               0               19  ...   \n",
       "82                   55               0               11  ...   \n",
       "83                   51               0                6  ...   \n",
       "84                   49               0                4  ...   \n",
       "85                   17               1               10  ...   \n",
       "90                   57               0                4  ...   \n",
       "94                   34               0               16  ...   \n",
       "95                   44               0                6  ...   \n",
       "98                   52               3               14  ...   \n",
       "99                   48               6               14  ...   \n",
       "100                  48               2               14  ...   \n",
       "110                  52               0               14  ...   \n",
       "111                  39               0                8  ...   \n",
       "\n",
       "     glipizide-metformin  glimepiride-pioglitazone  metformin-rosiglitazone  \\\n",
       "0                     No                        No                       No   \n",
       "2                     No                        No                       No   \n",
       "3                     No                        No                       No   \n",
       "4                     No                        No                       No   \n",
       "5                     No                        No                       No   \n",
       "11                    No                        No                       No   \n",
       "16                    No                        No                       No   \n",
       "17                    No                        No                       No   \n",
       "18                    No                        No                       No   \n",
       "25                    No                        No                       No   \n",
       "26                    No                        No                       No   \n",
       "27                    No                        No                       No   \n",
       "30                    No                        No                       No   \n",
       "31                    No                        No                       No   \n",
       "32                    No                        No                       No   \n",
       "33                    No                        No                       No   \n",
       "34                    No                        No                       No   \n",
       "35                    No                        No                       No   \n",
       "36                    No                        No                       No   \n",
       "37                    No                        No                       No   \n",
       "38                    No                        No                       No   \n",
       "41                    No                        No                       No   \n",
       "45                    No                        No                       No   \n",
       "50                    No                        No                       No   \n",
       "51                    No                        No                       No   \n",
       "56                    No                        No                       No   \n",
       "65                    No                        No                       No   \n",
       "66                    No                        No                       No   \n",
       "68                    No                        No                       No   \n",
       "69                    No                        No                       No   \n",
       "70                    No                        No                       No   \n",
       "71                    No                        No                       No   \n",
       "72                    No                        No                       No   \n",
       "73                    No                        No                       No   \n",
       "74                    No                        No                       No   \n",
       "75                    No                        No                       No   \n",
       "76                    No                        No                       No   \n",
       "77                    No                        No                       No   \n",
       "82                    No                        No                       No   \n",
       "83                    No                        No                       No   \n",
       "84                    No                        No                       No   \n",
       "85                    No                        No                       No   \n",
       "90                    No                        No                       No   \n",
       "94                    No                        No                       No   \n",
       "95                    No                        No                       No   \n",
       "98                    No                        No                       No   \n",
       "99                    No                        No                       No   \n",
       "100                   No                        No                       No   \n",
       "110                   No                        No                       No   \n",
       "111                   No                        No                       No   \n",
       "\n",
       "    metformin-pioglitazone  change diabetesMed readmitted Target  \\\n",
       "0                       No      Ch         Yes        <30      1   \n",
       "2                       No      No          No         NO      0   \n",
       "3                       No      No         Yes         NO      0   \n",
       "4                       No      Ch         Yes         NO      0   \n",
       "5                       No      No         Yes         NO      0   \n",
       "11                      No      No         Yes         NO      0   \n",
       "16                      No      Ch         Yes         NO      0   \n",
       "17                      No      No         Yes         NO      0   \n",
       "18                      No      No          No         NO      0   \n",
       "25                      No      No         Yes         NO      0   \n",
       "26                      No      No          No         NO      0   \n",
       "27                      No      Ch         Yes         NO      0   \n",
       "30                      No      Ch         Yes         NO      0   \n",
       "31                      No      No         Yes         NO      0   \n",
       "32                      No      No          No         NO      0   \n",
       "33                      No      No          No         NO      0   \n",
       "34                      No      Ch         Yes         NO      0   \n",
       "35                      No      No         Yes         NO      0   \n",
       "36                      No      No         Yes         NO      0   \n",
       "37                      No      No         Yes         NO      0   \n",
       "38                      No      No          No         NO      0   \n",
       "41                      No      No          No         NO      0   \n",
       "45                      No      No         Yes        <30      1   \n",
       "50                      No      No         Yes         NO      0   \n",
       "51                      No      No          No         NO      0   \n",
       "56                      No      Ch         Yes         NO      0   \n",
       "65                      No      No          No         NO      0   \n",
       "66                      No      Ch         Yes         NO      0   \n",
       "68                      No      No          No         NO      0   \n",
       "69                      No      No          No         NO      0   \n",
       "70                      No      Ch         Yes         NO      0   \n",
       "71                      No      No         Yes         NO      0   \n",
       "72                      No      No         Yes         NO      0   \n",
       "73                      No      No         Yes         NO      0   \n",
       "74                      No      No         Yes         NO      0   \n",
       "75                      No      Ch         Yes         NO      0   \n",
       "76                      No      Ch         Yes         NO      0   \n",
       "77                      No      Ch         Yes         NO      0   \n",
       "82                      No      Ch         Yes         NO      0   \n",
       "83                      No      No          No         NO      0   \n",
       "84                      No      No          No         NO      0   \n",
       "85                      No      No         Yes         NO      0   \n",
       "90                      No      No         Yes        <30      1   \n",
       "94                      No      No         Yes         NO      0   \n",
       "95                      No      No         Yes         NO      0   \n",
       "98                      No      Ch         Yes         NO      0   \n",
       "99                      No      No          No         NO      0   \n",
       "100                     No      No         Yes         NO      0   \n",
       "110                     No      No         Yes         NO      0   \n",
       "111                     No      No         Yes         NO      0   \n",
       "\n",
       "    Primary Diagnosis                  Binned  \n",
       "0              401.00      Circulatory System  \n",
       "2              722.00  Musculoskeletal System  \n",
       "3              820.00    Injury and poisoning  \n",
       "4              274.00   Immune System (No DM)  \n",
       "5              590.00    Genitourinary System  \n",
       "11             491.00      Respiratory System  \n",
       "16             682.00           Skin Diseases  \n",
       "17             414.00      Circulatory System  \n",
       "18             722.00  Musculoskeletal System  \n",
       "25              38.00     Infectious Diseases  \n",
       "26             574.00        Digestive System  \n",
       "27             410.00      Circulatory System  \n",
       "30             715.00  Musculoskeletal System  \n",
       "31             424.00      Circulatory System  \n",
       "32             427.00      Circulatory System  \n",
       "33             250.13       Diabetes Mellitus  \n",
       "34             486.00      Respiratory System  \n",
       "35             428.00      Circulatory System  \n",
       "36             572.00        Digestive System  \n",
       "37             600.00    Genitourinary System  \n",
       "38             599.00    Genitourinary System  \n",
       "41             435.00      Circulatory System  \n",
       "45             428.00      Circulatory System  \n",
       "50             414.00      Circulatory System  \n",
       "51             296.00        Mental Disorders  \n",
       "56             431.00      Circulatory System  \n",
       "65             996.00    Injury and poisoning  \n",
       "66             276.00   Immune System (No DM)  \n",
       "68             428.00      Circulatory System  \n",
       "69             414.00      Circulatory System  \n",
       "70             414.00      Circulatory System  \n",
       "71             250.22       Diabetes Mellitus  \n",
       "72             805.00    Injury and poisoning  \n",
       "73             428.00      Circulatory System  \n",
       "74             724.00  Musculoskeletal System  \n",
       "75             491.00      Respiratory System  \n",
       "76             682.00           Skin Diseases  \n",
       "77             601.00    Genitourinary System  \n",
       "82             562.00        Digestive System  \n",
       "83             276.00   Immune System (No DM)  \n",
       "84             466.00      Respiratory System  \n",
       "85             585.00    Genitourinary System  \n",
       "90             486.00      Respiratory System  \n",
       "94             434.00      Circulatory System  \n",
       "95             784.00                   Other  \n",
       "98             218.00               Neoplasms  \n",
       "99             414.00      Circulatory System  \n",
       "100            572.00        Digestive System  \n",
       "110            682.00           Skin Diseases  \n",
       "111            780.00                   Other  \n",
       "\n",
       "[50 rows x 45 columns]"
      ]
     },
     "execution_count": 36,
     "metadata": {},
     "output_type": "execute_result"
    }
   ],
   "source": [
    "bins = [1, 139, 239, 250.00, 250.99, 279, 289, 319, 359, 389, 459, 519, 579, 629, 679, 709, 739, 759, 799, 999]\n",
    "labels = ['Infectious Diseases', 'Neoplasms', 'Endocrine (No DM)', 'Diabetes Mellitus', 'Immune System (No DM)', \n",
    "          'Blood Diseases', 'Mental Disorders', 'Nervous System', 'Sense Organs', 'Circulatory System',\n",
    "         'Respiratory System', 'Digestive System', 'Genitourinary System', 'Pregnancy Complications', 'Skin Diseases',\n",
    "         'Musculoskeletal System', 'Congenital Anomalies', 'Other', 'Injury and poisoning']\n",
    "\n",
    "df['Binned'] = pd.cut(df['Primary Diagnosis'], bins, labels=labels)\n",
    "df.head(50)"
   ]
  },
  {
   "cell_type": "code",
   "execution_count": 37,
   "metadata": {},
   "outputs": [
    {
     "data": {
      "text/plain": [
       "Circulatory System         11923\n",
       "Digestive System            3591\n",
       "Respiratory System          3377\n",
       "Other                       3045\n",
       "Diabetes Mellitus           2814\n",
       "Injury and poisoning        2801\n",
       "Musculoskeletal System      2371\n",
       "Genitourinary System        2056\n",
       "Neoplasms                   1624\n",
       "Infectious Diseases          993\n",
       "Skin Diseases                963\n",
       "Mental Disorders             913\n",
       "Immune System (No DM)        892\n",
       "Pregnancy Complications      453\n",
       "Nervous System               410\n",
       "Blood Diseases               348\n",
       "Endocrine (No DM)            181\n",
       "Sense Organs                 128\n",
       "Congenital Anomalies          28\n",
       "Name: Binned, dtype: int64"
      ]
     },
     "execution_count": 37,
     "metadata": {},
     "output_type": "execute_result"
    }
   ],
   "source": [
    "df.Binned.value_counts()"
   ]
  },
  {
   "cell_type": "code",
   "execution_count": 38,
   "metadata": {
    "scrolled": true
   },
   "outputs": [
    {
     "name": "stdout",
     "output_type": "stream",
     "text": [
      "<class 'pandas.core.frame.DataFrame'>\n",
      "Int64Index: 39403 entries, 0 to 101765\n",
      "Data columns (total 45 columns):\n",
      "race                        39403 non-null object\n",
      "gender                      39403 non-null object\n",
      "age                         39403 non-null object\n",
      "admission_type_id           39403 non-null int64\n",
      "discharge_disposition_id    39403 non-null int64\n",
      "admission_source_id         39403 non-null int64\n",
      "time_in_hospital            39403 non-null int64\n",
      "num_lab_procedures          39403 non-null int64\n",
      "num_procedures              39403 non-null int64\n",
      "num_medications             39403 non-null int64\n",
      "number_outpatient           39403 non-null int64\n",
      "number_emergency            39403 non-null int64\n",
      "number_inpatient            39403 non-null int64\n",
      "diag_1                      39403 non-null object\n",
      "number_diagnoses            39403 non-null int64\n",
      "A1Cresult                   39403 non-null object\n",
      "metformin                   39403 non-null object\n",
      "repaglinide                 39403 non-null object\n",
      "nateglinide                 39403 non-null object\n",
      "chlorpropamide              39403 non-null object\n",
      "glimepiride                 39403 non-null object\n",
      "acetohexamide               39403 non-null object\n",
      "glipizide                   39403 non-null object\n",
      "glyburide                   39403 non-null object\n",
      "tolbutamide                 39403 non-null object\n",
      "pioglitazone                39403 non-null object\n",
      "rosiglitazone               39403 non-null object\n",
      "acarbose                    39403 non-null object\n",
      "miglitol                    39403 non-null object\n",
      "troglitazone                39403 non-null object\n",
      "tolazamide                  39403 non-null object\n",
      "examide                     39403 non-null object\n",
      "citoglipton                 39403 non-null object\n",
      "insulin                     39403 non-null object\n",
      "glyburide-metformin         39403 non-null object\n",
      "glipizide-metformin         39403 non-null object\n",
      "glimepiride-pioglitazone    39403 non-null object\n",
      "metformin-rosiglitazone     39403 non-null object\n",
      "metformin-pioglitazone      39403 non-null object\n",
      "change                      39403 non-null object\n",
      "diabetesMed                 39403 non-null object\n",
      "readmitted                  39403 non-null object\n",
      "Target                      39403 non-null int64\n",
      "Primary Diagnosis           38911 non-null float64\n",
      "Binned                      38911 non-null category\n",
      "dtypes: category(1), float64(1), int64(12), object(31)\n",
      "memory usage: 13.6+ MB\n"
     ]
    }
   ],
   "source": [
    "df.info()"
   ]
  },
  {
   "cell_type": "code",
   "execution_count": 39,
   "metadata": {
    "scrolled": true
   },
   "outputs": [
    {
     "name": "stdout",
     "output_type": "stream",
     "text": [
      "<class 'pandas.core.frame.DataFrame'>\n",
      "Int64Index: 38911 entries, 0 to 101765\n",
      "Data columns (total 45 columns):\n",
      "race                        38911 non-null object\n",
      "gender                      38911 non-null object\n",
      "age                         38911 non-null object\n",
      "admission_type_id           38911 non-null int64\n",
      "discharge_disposition_id    38911 non-null int64\n",
      "admission_source_id         38911 non-null int64\n",
      "time_in_hospital            38911 non-null int64\n",
      "num_lab_procedures          38911 non-null int64\n",
      "num_procedures              38911 non-null int64\n",
      "num_medications             38911 non-null int64\n",
      "number_outpatient           38911 non-null int64\n",
      "number_emergency            38911 non-null int64\n",
      "number_inpatient            38911 non-null int64\n",
      "diag_1                      38911 non-null object\n",
      "number_diagnoses            38911 non-null int64\n",
      "A1Cresult                   38911 non-null object\n",
      "metformin                   38911 non-null object\n",
      "repaglinide                 38911 non-null object\n",
      "nateglinide                 38911 non-null object\n",
      "chlorpropamide              38911 non-null object\n",
      "glimepiride                 38911 non-null object\n",
      "acetohexamide               38911 non-null object\n",
      "glipizide                   38911 non-null object\n",
      "glyburide                   38911 non-null object\n",
      "tolbutamide                 38911 non-null object\n",
      "pioglitazone                38911 non-null object\n",
      "rosiglitazone               38911 non-null object\n",
      "acarbose                    38911 non-null object\n",
      "miglitol                    38911 non-null object\n",
      "troglitazone                38911 non-null object\n",
      "tolazamide                  38911 non-null object\n",
      "examide                     38911 non-null object\n",
      "citoglipton                 38911 non-null object\n",
      "insulin                     38911 non-null object\n",
      "glyburide-metformin         38911 non-null object\n",
      "glipizide-metformin         38911 non-null object\n",
      "glimepiride-pioglitazone    38911 non-null object\n",
      "metformin-rosiglitazone     38911 non-null object\n",
      "metformin-pioglitazone      38911 non-null object\n",
      "change                      38911 non-null object\n",
      "diabetesMed                 38911 non-null object\n",
      "readmitted                  38911 non-null object\n",
      "Target                      38911 non-null int64\n",
      "Primary Diagnosis           38911 non-null float64\n",
      "Binned                      38911 non-null category\n",
      "dtypes: category(1), float64(1), int64(12), object(31)\n",
      "memory usage: 13.4+ MB\n"
     ]
    }
   ],
   "source": [
    "df_updated = df.dropna()\n",
    "df_updated.info()"
   ]
  },
  {
   "cell_type": "markdown",
   "metadata": {},
   "source": [
    "..."
   ]
  },
  {
   "cell_type": "markdown",
   "metadata": {},
   "source": [
    "# Graphical Exploratory Data Analysis"
   ]
  },
  {
   "cell_type": "markdown",
   "metadata": {},
   "source": [
    "**Box Plots**"
   ]
  },
  {
   "cell_type": "code",
   "execution_count": 40,
   "metadata": {},
   "outputs": [
    {
     "data": {
      "text/plain": [
       "<matplotlib.axes._subplots.AxesSubplot at 0x1a27aef5c0>"
      ]
     },
     "execution_count": 40,
     "metadata": {},
     "output_type": "execute_result"
    },
    {
     "data": {
      "image/png": "[encoded data removed]",
      "text/plain": [
       "<Figure size 432x288 with 1 Axes>"
      ]
     },
     "metadata": {
      "needs_background": "light"
     },
     "output_type": "display_data"
    }
   ],
   "source": [
    "# Number of days between admission and discharge\n",
    "\n",
    "sns.boxplot(x='Target', y='time_in_hospital', data=df_updated)"
   ]
  },
  {
   "cell_type": "code",
   "execution_count": 41,
   "metadata": {},
   "outputs": [
    {
     "data": {
      "text/plain": [
       "<matplotlib.axes._subplots.AxesSubplot at 0x1a27acee48>"
      ]
     },
     "execution_count": 41,
     "metadata": {},
     "output_type": "execute_result"
    },
    {
     "data": {
      "image/png": "[encoded data removed]",
      "text/plain": [
       "<Figure size 432x288 with 1 Axes>"
      ]
     },
     "metadata": {
      "needs_background": "light"
     },
     "output_type": "display_data"
    }
   ],
   "source": [
    "# Number of lab tests performed during encounter\n",
    "\n",
    "sns.boxplot(x='Target', y='num_lab_procedures', data=df_updated)"
   ]
  },
  {
   "cell_type": "code",
   "execution_count": 42,
   "metadata": {},
   "outputs": [
    {
     "data": {
      "text/plain": [
       "<matplotlib.axes._subplots.AxesSubplot at 0x1a24a7a8d0>"
      ]
     },
     "execution_count": 42,
     "metadata": {},
     "output_type": "execute_result"
    },
    {
     "data": {
      "image/png": "[encoded data removed]",
      "text/plain": [
       "<Figure size 432x288 with 1 Axes>"
      ]
     },
     "metadata": {
      "needs_background": "light"
     },
     "output_type": "display_data"
    }
   ],
   "source": [
    "# Number of procedures (other than lab tests) performed during encounter\n",
    "\n",
    "sns.boxplot(x='Target', y='num_procedures', data=df_updated)"
   ]
  },
  {
   "cell_type": "code",
   "execution_count": 43,
   "metadata": {},
   "outputs": [
    {
     "data": {
      "text/plain": [
       "<matplotlib.axes._subplots.AxesSubplot at 0x1a24b7e470>"
      ]
     },
     "execution_count": 43,
     "metadata": {},
     "output_type": "execute_result"
    },
    {
     "data": {
      "image/png": "[encoded data removed]",
      "text/plain": [
       "<Figure size 432x288 with 1 Axes>"
      ]
     },
     "metadata": {
      "needs_background": "light"
     },
     "output_type": "display_data"
    }
   ],
   "source": [
    "# Number of distinct generic names administered during encounter\n",
    "\n",
    "sns.boxplot(x='Target', y='num_medications', data=df_updated)"
   ]
  },
  {
   "cell_type": "code",
   "execution_count": 44,
   "metadata": {},
   "outputs": [
    {
     "data": {
      "text/plain": [
       "<matplotlib.axes._subplots.AxesSubplot at 0x1a244b5940>"
      ]
     },
     "execution_count": 44,
     "metadata": {},
     "output_type": "execute_result"
    },
    {
     "data": {
      "image/png": "[encoded data removed]",
      "text/plain": [
       "<Figure size 432x288 with 1 Axes>"
      ]
     },
     "metadata": {
      "needs_background": "light"
     },
     "output_type": "display_data"
    }
   ],
   "source": [
    "# Number of outpatient visits of the patient in the year preceding encounter\n",
    "\n",
    "sns.boxplot(x='Target', y='number_outpatient', data=df_updated)"
   ]
  },
  {
   "cell_type": "code",
   "execution_count": 45,
   "metadata": {},
   "outputs": [
    {
     "data": {
      "text/plain": [
       "<matplotlib.axes._subplots.AxesSubplot at 0x1a24bdaac8>"
      ]
     },
     "execution_count": 45,
     "metadata": {},
     "output_type": "execute_result"
    },
    {
     "data": {
      "image/png": "[encoded data removed]",
      "text/plain": [
       "<Figure size 432x288 with 1 Axes>"
      ]
     },
     "metadata": {
      "needs_background": "light"
     },
     "output_type": "display_data"
    }
   ],
   "source": [
    "# Number of emergency visits of the patient in the year preceding encounter\n",
    "\n",
    "sns.boxplot(x='Target', y='number_emergency', data=df_updated)"
   ]
  },
  {
   "cell_type": "code",
   "execution_count": 46,
   "metadata": {},
   "outputs": [
    {
     "data": {
      "text/plain": [
       "<matplotlib.axes._subplots.AxesSubplot at 0x1a24f79940>"
      ]
     },
     "execution_count": 46,
     "metadata": {},
     "output_type": "execute_result"
    },
    {
     "data": {
      "image/png": "[encoded data removed]",
      "text/plain": [
       "<Figure size 432x288 with 1 Axes>"
      ]
     },
     "metadata": {
      "needs_background": "light"
     },
     "output_type": "display_data"
    }
   ],
   "source": [
    "# Number of inpatient visits of the patient in the year preceding encounter\n",
    "\n",
    "sns.boxplot(x='Target', y='number_inpatient', data=df_updated)"
   ]
  },
  {
   "cell_type": "code",
   "execution_count": 47,
   "metadata": {},
   "outputs": [
    {
     "data": {
      "text/plain": [
       "<matplotlib.axes._subplots.AxesSubplot at 0x1a25076668>"
      ]
     },
     "execution_count": 47,
     "metadata": {},
     "output_type": "execute_result"
    },
    {
     "data": {
      "image/png": "[encoded data removed]",
      "text/plain": [
       "<Figure size 432x288 with 1 Axes>"
      ]
     },
     "metadata": {
      "needs_background": "light"
     },
     "output_type": "display_data"
    }
   ],
   "source": [
    "# Number of diagnoses entered into the system\n",
    "\n",
    "sns.boxplot(x='Target', y='number_diagnoses', data=df_updated)"
   ]
  },
  {
   "cell_type": "markdown",
   "metadata": {},
   "source": [
    "**Correlation Matrix**"
   ]
  },
  {
   "cell_type": "code",
   "execution_count": 48,
   "metadata": {},
   "outputs": [
    {
     "data": {
      "text/plain": [
       "<matplotlib.axes._subplots.AxesSubplot at 0x1a251e22e8>"
      ]
     },
     "execution_count": 48,
     "metadata": {},
     "output_type": "execute_result"
    },
    {
     "data": {
      "image/png": "[encoded data removed]",
      "text/plain": [
       "<Figure size 432x288 with 2 Axes>"
      ]
     },
     "metadata": {
      "needs_background": "light"
     },
     "output_type": "display_data"
    }
   ],
   "source": [
    "# Correlation Matrix\n",
    "\n",
    "df_corr = df_updated.loc[:, ['time_in_hospital', 'num_lab_procedures', 'num_procedures', 'num_medications',\n",
    "                     'number_outpatient', 'number_emergency', 'number_inpatient', 'number_diagnoses', 'Target']]\n",
    "\n",
    "sns.heatmap(df_corr.corr())"
   ]
  },
  {
   "cell_type": "markdown",
   "metadata": {},
   "source": [
    "..."
   ]
  },
  {
   "cell_type": "markdown",
   "metadata": {},
   "source": [
    "# Inferential Statistics"
   ]
  },
  {
   "cell_type": "code",
   "execution_count": 49,
   "metadata": {},
   "outputs": [],
   "source": [
    "import scipy.stats as stats"
   ]
  },
  {
   "cell_type": "markdown",
   "metadata": {},
   "source": [
    "**Two-Sample T-Tests**"
   ]
  },
  {
   "cell_type": "markdown",
   "metadata": {},
   "source": [
    "- **Gender vs. Readmission**\n",
    "\n",
    "$H_{o}$ : There is no difference in the rate of readmission for males and females ($P_{1}$ - $P_{2}$ = 0)  \n",
    "\n",
    "$H_{a}$ : There is a difference in the rate of readmission for males and females ($P_{1}$ - $P_{2}$ != 0)  \n",
    "\n",
    "α = 0.05"
   ]
  },
  {
   "cell_type": "code",
   "execution_count": 50,
   "metadata": {},
   "outputs": [
    {
     "name": "stdout",
     "output_type": "stream",
     "text": [
      "Total # of Males = 18296\n",
      "Total # of Females = 20612\n",
      "Male Readmission Rate = 0.12527328377787494\n",
      "Female Readmission Rate = 0.1318649330487095\n"
     ]
    },
    {
     "data": {
      "text/plain": [
       "Ttest_indResult(statistic=-1.9375618588738568, pvalue=0.052683927154811905)"
      ]
     },
     "execution_count": 50,
     "metadata": {},
     "output_type": "execute_result"
    }
   ],
   "source": [
    "df = df_updated\n",
    "\n",
    "m = df[df.gender=='Male']\n",
    "f = df[df.gender=='Female']\n",
    "\n",
    "print('Total # of Males = {}'.format(len(m)))\n",
    "print('Total # of Females = {}'.format(len(f)))\n",
    "\n",
    "# Number of males readmitted\n",
    "\n",
    "male_readmit = sum(m.Target)\n",
    "\n",
    "# Number of females readmitted\n",
    "\n",
    "fem_readmit = sum(f.Target)\n",
    "\n",
    "## Readmission Rates\n",
    "\n",
    "print('Male Readmission Rate = {}'.format(male_readmit/len(m)))\n",
    "print('Female Readmission Rate = {}'.format(fem_readmit/len(f)))\n",
    "\n",
    "## 2-sample t-test\n",
    "\n",
    "m_array = df[df.gender=='Male'].Target\n",
    "f_array = df[df.gender=='Female'].Target\n",
    "\n",
    "stats.ttest_ind(m_array, f_array, equal_var=True)"
   ]
  },
  {
   "cell_type": "markdown",
   "metadata": {},
   "source": [
    "There is no difference in the rate of readmission for males and females as p > 0.05. "
   ]
  },
  {
   "cell_type": "markdown",
   "metadata": {},
   "source": [
    "- **Readmission Rates for Patients with Medication Changes vs. No Changes**\n",
    "\n",
    "$H_{o}$ : There is no difference in the rate of readmission for patients ($P_{1}$ - $P_{2}$ = 0)  \n",
    "\n",
    "$H_{a}$ : There is a difference in the rate of readmission for patients ($P_{1}$ - $P_{2}$ != 0)  \n",
    "\n",
    "α = 0.05"
   ]
  },
  {
   "cell_type": "code",
   "execution_count": 51,
   "metadata": {},
   "outputs": [
    {
     "name": "stdout",
     "output_type": "stream",
     "text": [
      "Total # of Changes = 17457\n",
      "Total # of No Changes = 21454\n",
      "Change Readmission Rate = 0.13937102594947587\n",
      "No Change Readmission Rate = 0.12011746061340542\n"
     ]
    },
    {
     "data": {
      "text/plain": [
       "Ttest_indResult(statistic=5.641928775816225, pvalue=1.6932172833324904e-08)"
      ]
     },
     "execution_count": 51,
     "metadata": {},
     "output_type": "execute_result"
    }
   ],
   "source": [
    "change = df[df.change=='Ch']\n",
    "no_change = df[df.change=='No']\n",
    "\n",
    "print('Total # of Changes = {}'.format(len(change)))\n",
    "print('Total # of No Changes = {}'.format(len(no_change)))\n",
    "\n",
    "change_readmit = sum(change.Target)\n",
    "no_change_readmit = sum(no_change.Target)\n",
    "\n",
    "## Readmission Rates\n",
    "\n",
    "print('Change Readmission Rate = {}'.format(change_readmit/len(change)))\n",
    "print('No Change Readmission Rate = {}'.format(no_change_readmit/len(no_change)))\n",
    "\n",
    "## 2-sample t-test\n",
    "\n",
    "c_array = df[df.change=='Ch'].Target\n",
    "nc_array = df[df.change=='No'].Target\n",
    "\n",
    "stats.ttest_ind(c_array, nc_array, equal_var=True)"
   ]
  },
  {
   "cell_type": "markdown",
   "metadata": {},
   "source": [
    "There is a significant difference in the rate of readmission for patients with medication changes vs. no changes."
   ]
  },
  {
   "cell_type": "markdown",
   "metadata": {},
   "source": [
    "- **Readmission Rates for Patients Prescribed with Diabetes Medication vs. Not Prescribed**\n",
    "\n",
    "$H_{o}$ : There is no difference in the rate of readmission for patients ($P_{1}$ - $P_{2}$ = 0)  \n",
    "\n",
    "$H_{a}$ : There is a difference in the rate of readmission for patients ($P_{1}$ - $P_{2}$ != 0)  \n",
    "\n",
    "α = 0.05"
   ]
  },
  {
   "cell_type": "code",
   "execution_count": 52,
   "metadata": {},
   "outputs": [
    {
     "name": "stdout",
     "output_type": "stream",
     "text": [
      "Total # of Prescriptions = 29359\n",
      "Total # of No Prescriptions = 9552\n",
      "Prescription Readmission Rate = 0.13740250008515276\n",
      "No Prescription Readmission Rate = 0.10217755443886097\n"
     ]
    },
    {
     "data": {
      "text/plain": [
       "Ttest_indResult(statistic=8.937444724542619, pvalue=4.1533979892637324e-19)"
      ]
     },
     "execution_count": 52,
     "metadata": {},
     "output_type": "execute_result"
    }
   ],
   "source": [
    "yes = df[df.diabetesMed=='Yes']\n",
    "no = df[df.diabetesMed=='No']\n",
    "\n",
    "print('Total # of Prescriptions = {}'.format(len(yes)))\n",
    "print('Total # of No Prescriptions = {}'.format(len(no)))\n",
    "\n",
    "presc_readmit = sum(yes.Target)\n",
    "no_presc_readmit = sum(no.Target)\n",
    "\n",
    "## Readmission Rates\n",
    "\n",
    "print('Prescription Readmission Rate = {}'.format(presc_readmit/len(yes)))\n",
    "print('No Prescription Readmission Rate = {}'.format(no_presc_readmit/len(no)))\n",
    "\n",
    "## 2-sample t-test\n",
    "\n",
    "yes_array = df[df.diabetesMed=='Yes'].Target\n",
    "no_array = df[df.diabetesMed=='No'].Target\n",
    "\n",
    "stats.ttest_ind(yes_array, no_array, equal_var=True)"
   ]
  },
  {
   "cell_type": "markdown",
   "metadata": {},
   "source": [
    "There is a significant difference in the rate of readmission for patients with diabetes presciptions vs. no prescriptions."
   ]
  },
  {
   "cell_type": "markdown",
   "metadata": {},
   "source": [
    "..."
   ]
  },
  {
   "cell_type": "markdown",
   "metadata": {},
   "source": [
    "# Preprocessing Data + Feature Selection"
   ]
  },
  {
   "cell_type": "code",
   "execution_count": 53,
   "metadata": {
    "scrolled": true
   },
   "outputs": [
    {
     "data": {
      "text/plain": [
       "Index(['race', 'gender', 'age', 'admission_type_id',\n",
       "       'discharge_disposition_id', 'admission_source_id', 'time_in_hospital',\n",
       "       'num_lab_procedures', 'num_procedures', 'num_medications',\n",
       "       'number_outpatient', 'number_emergency', 'number_inpatient', 'diag_1',\n",
       "       'number_diagnoses', 'A1Cresult', 'metformin', 'repaglinide',\n",
       "       'nateglinide', 'chlorpropamide', 'glimepiride', 'acetohexamide',\n",
       "       'glipizide', 'glyburide', 'tolbutamide', 'pioglitazone',\n",
       "       'rosiglitazone', 'acarbose', 'miglitol', 'troglitazone', 'tolazamide',\n",
       "       'examide', 'citoglipton', 'insulin', 'glyburide-metformin',\n",
       "       'glipizide-metformin', 'glimepiride-pioglitazone',\n",
       "       'metformin-rosiglitazone', 'metformin-pioglitazone', 'change',\n",
       "       'diabetesMed', 'readmitted', 'Target', 'Primary Diagnosis', 'Binned'],\n",
       "      dtype='object')"
      ]
     },
     "execution_count": 53,
     "metadata": {},
     "output_type": "execute_result"
    }
   ],
   "source": [
    "df.columns"
   ]
  },
  {
   "cell_type": "code",
   "execution_count": 54,
   "metadata": {},
   "outputs": [],
   "source": [
    "# Drop repeating columns - 'diag_1' and 'readmitted'\n",
    "\n",
    "df = df.drop(columns=['diag_1', 'readmitted'], axis=1)"
   ]
  },
  {
   "cell_type": "code",
   "execution_count": 55,
   "metadata": {
    "scrolled": true
   },
   "outputs": [
    {
     "data": {
      "text/plain": [
       "(38911, 94)"
      ]
     },
     "execution_count": 55,
     "metadata": {},
     "output_type": "execute_result"
    }
   ],
   "source": [
    "df_dummies = pd.get_dummies(df, drop_first=True)\n",
    "df_dummies.shape"
   ]
  },
  {
   "cell_type": "code",
   "execution_count": 56,
   "metadata": {
    "scrolled": true
   },
   "outputs": [
    {
     "data": {
      "text/plain": [
       "{'admission_type_id': 3.0,\n",
       " 'discharge_disposition_id': 1.0,\n",
       " 'admission_source_id': 1.0,\n",
       " 'time_in_hospital': 2.0,\n",
       " 'num_lab_procedures': 49.0,\n",
       " 'num_procedures': 1.0,\n",
       " 'num_medications': 11.0,\n",
       " 'number_outpatient': 0.0,\n",
       " 'number_emergency': 0.0,\n",
       " 'number_inpatient': 0.0,\n",
       " 'number_diagnoses': 3.0,\n",
       " 'Target': 0.0,\n",
       " 'Primary Diagnosis': 722.0,\n",
       " 'race_AfricanAmerican': 0.0,\n",
       " 'race_Asian': 0.0,\n",
       " 'race_Caucasian': 1.0,\n",
       " 'race_Hispanic': 0.0,\n",
       " 'race_Other': 0.0,\n",
       " 'gender_Male': 0.0,\n",
       " 'gender_Unknown/Invalid': 0.0,\n",
       " 'age_[10-20)': 0.0,\n",
       " 'age_[20-30)': 0.0,\n",
       " 'age_[30-40)': 0.0,\n",
       " 'age_[40-50)': 0.0,\n",
       " 'age_[50-60)': 1.0,\n",
       " 'age_[60-70)': 0.0,\n",
       " 'age_[70-80)': 0.0,\n",
       " 'age_[80-90)': 0.0,\n",
       " 'age_[90-100)': 0.0,\n",
       " 'A1Cresult_>8': 0.0,\n",
       " 'A1Cresult_None': 1.0,\n",
       " 'A1Cresult_Norm': 0.0,\n",
       " 'metformin_No': 1.0,\n",
       " 'metformin_Steady': 0.0,\n",
       " 'metformin_Up': 0.0,\n",
       " 'repaglinide_No': 1.0,\n",
       " 'repaglinide_Steady': 0.0,\n",
       " 'repaglinide_Up': 0.0,\n",
       " 'nateglinide_No': 1.0,\n",
       " 'nateglinide_Steady': 0.0,\n",
       " 'nateglinide_Up': 0.0,\n",
       " 'chlorpropamide_No': 1.0,\n",
       " 'chlorpropamide_Steady': 0.0,\n",
       " 'chlorpropamide_Up': 0.0,\n",
       " 'glimepiride_No': 1.0,\n",
       " 'glimepiride_Steady': 0.0,\n",
       " 'glimepiride_Up': 0.0,\n",
       " 'glipizide_No': 1.0,\n",
       " 'glipizide_Steady': 0.0,\n",
       " 'glipizide_Up': 0.0,\n",
       " 'glyburide_No': 1.0,\n",
       " 'glyburide_Steady': 0.0,\n",
       " 'glyburide_Up': 0.0,\n",
       " 'tolbutamide_Steady': 0.0,\n",
       " 'pioglitazone_No': 1.0,\n",
       " 'pioglitazone_Steady': 0.0,\n",
       " 'pioglitazone_Up': 0.0,\n",
       " 'rosiglitazone_No': 1.0,\n",
       " 'rosiglitazone_Steady': 0.0,\n",
       " 'rosiglitazone_Up': 0.0,\n",
       " 'acarbose_Steady': 0.0,\n",
       " 'acarbose_Up': 0.0,\n",
       " 'miglitol_Steady': 0.0,\n",
       " 'troglitazone_Steady': 0.0,\n",
       " 'tolazamide_Steady': 0.0,\n",
       " 'insulin_No': 1.0,\n",
       " 'insulin_Steady': 0.0,\n",
       " 'insulin_Up': 0.0,\n",
       " 'glyburide-metformin_No': 1.0,\n",
       " 'glyburide-metformin_Steady': 0.0,\n",
       " 'glyburide-metformin_Up': 0.0,\n",
       " 'glipizide-metformin_Steady': 0.0,\n",
       " 'metformin-rosiglitazone_Steady': 0.0,\n",
       " 'metformin-pioglitazone_Steady': 0.0,\n",
       " 'change_No': 1.0,\n",
       " 'diabetesMed_Yes': 0.0,\n",
       " 'Binned_Neoplasms': 0.0,\n",
       " 'Binned_Endocrine (No DM)': 0.0,\n",
       " 'Binned_Diabetes Mellitus': 0.0,\n",
       " 'Binned_Immune System (No DM)': 0.0,\n",
       " 'Binned_Blood Diseases': 0.0,\n",
       " 'Binned_Mental Disorders': 0.0,\n",
       " 'Binned_Nervous System': 0.0,\n",
       " 'Binned_Sense Organs': 0.0,\n",
       " 'Binned_Circulatory System': 0.0,\n",
       " 'Binned_Respiratory System': 0.0,\n",
       " 'Binned_Digestive System': 0.0,\n",
       " 'Binned_Genitourinary System': 0.0,\n",
       " 'Binned_Pregnancy Complications': 0.0,\n",
       " 'Binned_Skin Diseases': 0.0,\n",
       " 'Binned_Musculoskeletal System': 1.0,\n",
       " 'Binned_Congenital Anomalies': 0.0,\n",
       " 'Binned_Other': 0.0,\n",
       " 'Binned_Injury and poisoning': 0.0}"
      ]
     },
     "execution_count": 56,
     "metadata": {},
     "output_type": "execute_result"
    }
   ],
   "source": [
    "df_dummies.iloc[1].to_dict()"
   ]
  },
  {
   "cell_type": "code",
   "execution_count": 57,
   "metadata": {
    "scrolled": true
   },
   "outputs": [
    {
     "name": "stderr",
     "output_type": "stream",
     "text": [
      "/Users/springboard/anaconda3/envs/ProjectEnv/lib/python3.7/importlib/_bootstrap.py:219: RuntimeWarning: numpy.ufunc size changed, may indicate binary incompatibility. Expected 192 from C header, got 216 from PyObject\n",
      "  return f(*args, **kwds)\n",
      "/Users/springboard/anaconda3/envs/ProjectEnv/lib/python3.7/importlib/_bootstrap.py:219: RuntimeWarning: numpy.ufunc size changed, may indicate binary incompatibility. Expected 192 from C header, got 216 from PyObject\n",
      "  return f(*args, **kwds)\n",
      "/Users/springboard/anaconda3/envs/ProjectEnv/lib/python3.7/site-packages/sklearn/ensemble/forest.py:246: FutureWarning: The default value of n_estimators will change from 10 in version 0.20 to 100 in 0.22.\n",
      "  \"10 in version 0.20 to 100 in 0.22.\", FutureWarning)\n"
     ]
    },
    {
     "name": "stdout",
     "output_type": "stream",
     "text": [
      "0.8681685797498715\n"
     ]
    },
    {
     "data": {
      "text/html": [
       "<div>\n",
       "<style scoped>\n",
       "    .dataframe tbody tr th:only-of-type {\n",
       "        vertical-align: middle;\n",
       "    }\n",
       "\n",
       "    .dataframe tbody tr th {\n",
       "        vertical-align: top;\n",
       "    }\n",
       "\n",
       "    .dataframe thead th {\n",
       "        text-align: right;\n",
       "    }\n",
       "</style>\n",
       "<table border=\"1\" class=\"dataframe\">\n",
       "  <thead>\n",
       "    <tr style=\"text-align: right;\">\n",
       "      <th></th>\n",
       "      <th>0</th>\n",
       "      <th>1</th>\n",
       "    </tr>\n",
       "  </thead>\n",
       "  <tbody>\n",
       "    <tr>\n",
       "      <th>4</th>\n",
       "      <td>num_lab_procedures</td>\n",
       "      <td>1.049492e-01</td>\n",
       "    </tr>\n",
       "    <tr>\n",
       "      <th>6</th>\n",
       "      <td>num_medications</td>\n",
       "      <td>9.095650e-02</td>\n",
       "    </tr>\n",
       "    <tr>\n",
       "      <th>11</th>\n",
       "      <td>Primary Diagnosis</td>\n",
       "      <td>8.866146e-02</td>\n",
       "    </tr>\n",
       "    <tr>\n",
       "      <th>3</th>\n",
       "      <td>time_in_hospital</td>\n",
       "      <td>6.744990e-02</td>\n",
       "    </tr>\n",
       "    <tr>\n",
       "      <th>5</th>\n",
       "      <td>num_procedures</td>\n",
       "      <td>4.818497e-02</td>\n",
       "    </tr>\n",
       "    <tr>\n",
       "      <th>1</th>\n",
       "      <td>discharge_disposition_id</td>\n",
       "      <td>4.305164e-02</td>\n",
       "    </tr>\n",
       "    <tr>\n",
       "      <th>10</th>\n",
       "      <td>number_diagnoses</td>\n",
       "      <td>4.026858e-02</td>\n",
       "    </tr>\n",
       "    <tr>\n",
       "      <th>9</th>\n",
       "      <td>number_inpatient</td>\n",
       "      <td>3.215616e-02</td>\n",
       "    </tr>\n",
       "    <tr>\n",
       "      <th>0</th>\n",
       "      <td>admission_type_id</td>\n",
       "      <td>2.735468e-02</td>\n",
       "    </tr>\n",
       "    <tr>\n",
       "      <th>2</th>\n",
       "      <td>admission_source_id</td>\n",
       "      <td>2.523343e-02</td>\n",
       "    </tr>\n",
       "    <tr>\n",
       "      <th>17</th>\n",
       "      <td>gender_Male</td>\n",
       "      <td>2.429638e-02</td>\n",
       "    </tr>\n",
       "    <tr>\n",
       "      <th>7</th>\n",
       "      <td>number_outpatient</td>\n",
       "      <td>1.815378e-02</td>\n",
       "    </tr>\n",
       "    <tr>\n",
       "      <th>65</th>\n",
       "      <td>insulin_Steady</td>\n",
       "      <td>1.428466e-02</td>\n",
       "    </tr>\n",
       "    <tr>\n",
       "      <th>8</th>\n",
       "      <td>number_emergency</td>\n",
       "      <td>1.403466e-02</td>\n",
       "    </tr>\n",
       "    <tr>\n",
       "      <th>24</th>\n",
       "      <td>age_[60-70)</td>\n",
       "      <td>1.398733e-02</td>\n",
       "    </tr>\n",
       "    <tr>\n",
       "      <th>83</th>\n",
       "      <td>Binned_Circulatory System</td>\n",
       "      <td>1.374630e-02</td>\n",
       "    </tr>\n",
       "    <tr>\n",
       "      <th>29</th>\n",
       "      <td>A1Cresult_None</td>\n",
       "      <td>1.311379e-02</td>\n",
       "    </tr>\n",
       "    <tr>\n",
       "      <th>73</th>\n",
       "      <td>change_No</td>\n",
       "      <td>1.277050e-02</td>\n",
       "    </tr>\n",
       "    <tr>\n",
       "      <th>25</th>\n",
       "      <td>age_[70-80)</td>\n",
       "      <td>1.276450e-02</td>\n",
       "    </tr>\n",
       "    <tr>\n",
       "      <th>64</th>\n",
       "      <td>insulin_No</td>\n",
       "      <td>1.223240e-02</td>\n",
       "    </tr>\n",
       "    <tr>\n",
       "      <th>14</th>\n",
       "      <td>race_Caucasian</td>\n",
       "      <td>1.211034e-02</td>\n",
       "    </tr>\n",
       "    <tr>\n",
       "      <th>12</th>\n",
       "      <td>race_AfricanAmerican</td>\n",
       "      <td>1.164180e-02</td>\n",
       "    </tr>\n",
       "    <tr>\n",
       "      <th>26</th>\n",
       "      <td>age_[80-90)</td>\n",
       "      <td>1.107157e-02</td>\n",
       "    </tr>\n",
       "    <tr>\n",
       "      <th>31</th>\n",
       "      <td>metformin_No</td>\n",
       "      <td>1.018897e-02</td>\n",
       "    </tr>\n",
       "    <tr>\n",
       "      <th>23</th>\n",
       "      <td>age_[50-60)</td>\n",
       "      <td>1.003606e-02</td>\n",
       "    </tr>\n",
       "    <tr>\n",
       "      <th>47</th>\n",
       "      <td>glipizide_Steady</td>\n",
       "      <td>9.525276e-03</td>\n",
       "    </tr>\n",
       "    <tr>\n",
       "      <th>32</th>\n",
       "      <td>metformin_Steady</td>\n",
       "      <td>9.458266e-03</td>\n",
       "    </tr>\n",
       "    <tr>\n",
       "      <th>66</th>\n",
       "      <td>insulin_Up</td>\n",
       "      <td>8.965627e-03</td>\n",
       "    </tr>\n",
       "    <tr>\n",
       "      <th>85</th>\n",
       "      <td>Binned_Digestive System</td>\n",
       "      <td>8.964481e-03</td>\n",
       "    </tr>\n",
       "    <tr>\n",
       "      <th>46</th>\n",
       "      <td>glipizide_No</td>\n",
       "      <td>8.608810e-03</td>\n",
       "    </tr>\n",
       "    <tr>\n",
       "      <th>...</th>\n",
       "      <td>...</td>\n",
       "      <td>...</td>\n",
       "    </tr>\n",
       "    <tr>\n",
       "      <th>67</th>\n",
       "      <td>glyburide-metformin_No</td>\n",
       "      <td>1.730161e-03</td>\n",
       "    </tr>\n",
       "    <tr>\n",
       "      <th>68</th>\n",
       "      <td>glyburide-metformin_Steady</td>\n",
       "      <td>1.650826e-03</td>\n",
       "    </tr>\n",
       "    <tr>\n",
       "      <th>81</th>\n",
       "      <td>Binned_Nervous System</td>\n",
       "      <td>1.532282e-03</td>\n",
       "    </tr>\n",
       "    <tr>\n",
       "      <th>13</th>\n",
       "      <td>race_Asian</td>\n",
       "      <td>1.330906e-03</td>\n",
       "    </tr>\n",
       "    <tr>\n",
       "      <th>37</th>\n",
       "      <td>nateglinide_No</td>\n",
       "      <td>1.300371e-03</td>\n",
       "    </tr>\n",
       "    <tr>\n",
       "      <th>38</th>\n",
       "      <td>nateglinide_Steady</td>\n",
       "      <td>1.203858e-03</td>\n",
       "    </tr>\n",
       "    <tr>\n",
       "      <th>45</th>\n",
       "      <td>glimepiride_Up</td>\n",
       "      <td>1.141999e-03</td>\n",
       "    </tr>\n",
       "    <tr>\n",
       "      <th>82</th>\n",
       "      <td>Binned_Sense Organs</td>\n",
       "      <td>9.986128e-04</td>\n",
       "    </tr>\n",
       "    <tr>\n",
       "      <th>76</th>\n",
       "      <td>Binned_Endocrine (No DM)</td>\n",
       "      <td>9.576809e-04</td>\n",
       "    </tr>\n",
       "    <tr>\n",
       "      <th>36</th>\n",
       "      <td>repaglinide_Up</td>\n",
       "      <td>9.315759e-04</td>\n",
       "    </tr>\n",
       "    <tr>\n",
       "      <th>58</th>\n",
       "      <td>rosiglitazone_Up</td>\n",
       "      <td>8.975342e-04</td>\n",
       "    </tr>\n",
       "    <tr>\n",
       "      <th>19</th>\n",
       "      <td>age_[10-20)</td>\n",
       "      <td>8.211130e-04</td>\n",
       "    </tr>\n",
       "    <tr>\n",
       "      <th>87</th>\n",
       "      <td>Binned_Pregnancy Complications</td>\n",
       "      <td>7.972887e-04</td>\n",
       "    </tr>\n",
       "    <tr>\n",
       "      <th>55</th>\n",
       "      <td>pioglitazone_Up</td>\n",
       "      <td>7.762359e-04</td>\n",
       "    </tr>\n",
       "    <tr>\n",
       "      <th>59</th>\n",
       "      <td>acarbose_Steady</td>\n",
       "      <td>6.556329e-04</td>\n",
       "    </tr>\n",
       "    <tr>\n",
       "      <th>90</th>\n",
       "      <td>Binned_Congenital Anomalies</td>\n",
       "      <td>3.932290e-04</td>\n",
       "    </tr>\n",
       "    <tr>\n",
       "      <th>40</th>\n",
       "      <td>chlorpropamide_No</td>\n",
       "      <td>2.919078e-04</td>\n",
       "    </tr>\n",
       "    <tr>\n",
       "      <th>63</th>\n",
       "      <td>tolazamide_Steady</td>\n",
       "      <td>2.265064e-04</td>\n",
       "    </tr>\n",
       "    <tr>\n",
       "      <th>41</th>\n",
       "      <td>chlorpropamide_Steady</td>\n",
       "      <td>8.058709e-05</td>\n",
       "    </tr>\n",
       "    <tr>\n",
       "      <th>39</th>\n",
       "      <td>nateglinide_Up</td>\n",
       "      <td>4.796035e-05</td>\n",
       "    </tr>\n",
       "    <tr>\n",
       "      <th>52</th>\n",
       "      <td>tolbutamide_Steady</td>\n",
       "      <td>2.289572e-05</td>\n",
       "    </tr>\n",
       "    <tr>\n",
       "      <th>61</th>\n",
       "      <td>miglitol_Steady</td>\n",
       "      <td>7.881647e-06</td>\n",
       "    </tr>\n",
       "    <tr>\n",
       "      <th>72</th>\n",
       "      <td>metformin-pioglitazone_Steady</td>\n",
       "      <td>5.788522e-06</td>\n",
       "    </tr>\n",
       "    <tr>\n",
       "      <th>71</th>\n",
       "      <td>metformin-rosiglitazone_Steady</td>\n",
       "      <td>1.199913e-06</td>\n",
       "    </tr>\n",
       "    <tr>\n",
       "      <th>60</th>\n",
       "      <td>acarbose_Up</td>\n",
       "      <td>7.311435e-08</td>\n",
       "    </tr>\n",
       "    <tr>\n",
       "      <th>69</th>\n",
       "      <td>glyburide-metformin_Up</td>\n",
       "      <td>7.132755e-08</td>\n",
       "    </tr>\n",
       "    <tr>\n",
       "      <th>70</th>\n",
       "      <td>glipizide-metformin_Steady</td>\n",
       "      <td>0.000000e+00</td>\n",
       "    </tr>\n",
       "    <tr>\n",
       "      <th>62</th>\n",
       "      <td>troglitazone_Steady</td>\n",
       "      <td>0.000000e+00</td>\n",
       "    </tr>\n",
       "    <tr>\n",
       "      <th>42</th>\n",
       "      <td>chlorpropamide_Up</td>\n",
       "      <td>0.000000e+00</td>\n",
       "    </tr>\n",
       "    <tr>\n",
       "      <th>18</th>\n",
       "      <td>gender_Unknown/Invalid</td>\n",
       "      <td>0.000000e+00</td>\n",
       "    </tr>\n",
       "  </tbody>\n",
       "</table>\n",
       "<p>93 rows × 2 columns</p>\n",
       "</div>"
      ],
      "text/plain": [
       "                                 0             1\n",
       "4               num_lab_procedures  1.049492e-01\n",
       "6                  num_medications  9.095650e-02\n",
       "11               Primary Diagnosis  8.866146e-02\n",
       "3                 time_in_hospital  6.744990e-02\n",
       "5                   num_procedures  4.818497e-02\n",
       "1         discharge_disposition_id  4.305164e-02\n",
       "10                number_diagnoses  4.026858e-02\n",
       "9                 number_inpatient  3.215616e-02\n",
       "0                admission_type_id  2.735468e-02\n",
       "2              admission_source_id  2.523343e-02\n",
       "17                     gender_Male  2.429638e-02\n",
       "7                number_outpatient  1.815378e-02\n",
       "65                  insulin_Steady  1.428466e-02\n",
       "8                 number_emergency  1.403466e-02\n",
       "24                     age_[60-70)  1.398733e-02\n",
       "83       Binned_Circulatory System  1.374630e-02\n",
       "29                  A1Cresult_None  1.311379e-02\n",
       "73                       change_No  1.277050e-02\n",
       "25                     age_[70-80)  1.276450e-02\n",
       "64                      insulin_No  1.223240e-02\n",
       "14                  race_Caucasian  1.211034e-02\n",
       "12            race_AfricanAmerican  1.164180e-02\n",
       "26                     age_[80-90)  1.107157e-02\n",
       "31                    metformin_No  1.018897e-02\n",
       "23                     age_[50-60)  1.003606e-02\n",
       "47                glipizide_Steady  9.525276e-03\n",
       "32                metformin_Steady  9.458266e-03\n",
       "66                      insulin_Up  8.965627e-03\n",
       "85         Binned_Digestive System  8.964481e-03\n",
       "46                    glipizide_No  8.608810e-03\n",
       "..                             ...           ...\n",
       "67          glyburide-metformin_No  1.730161e-03\n",
       "68      glyburide-metformin_Steady  1.650826e-03\n",
       "81           Binned_Nervous System  1.532282e-03\n",
       "13                      race_Asian  1.330906e-03\n",
       "37                  nateglinide_No  1.300371e-03\n",
       "38              nateglinide_Steady  1.203858e-03\n",
       "45                  glimepiride_Up  1.141999e-03\n",
       "82             Binned_Sense Organs  9.986128e-04\n",
       "76        Binned_Endocrine (No DM)  9.576809e-04\n",
       "36                  repaglinide_Up  9.315759e-04\n",
       "58                rosiglitazone_Up  8.975342e-04\n",
       "19                     age_[10-20)  8.211130e-04\n",
       "87  Binned_Pregnancy Complications  7.972887e-04\n",
       "55                 pioglitazone_Up  7.762359e-04\n",
       "59                 acarbose_Steady  6.556329e-04\n",
       "90     Binned_Congenital Anomalies  3.932290e-04\n",
       "40               chlorpropamide_No  2.919078e-04\n",
       "63               tolazamide_Steady  2.265064e-04\n",
       "41           chlorpropamide_Steady  8.058709e-05\n",
       "39                  nateglinide_Up  4.796035e-05\n",
       "52              tolbutamide_Steady  2.289572e-05\n",
       "61                 miglitol_Steady  7.881647e-06\n",
       "72   metformin-pioglitazone_Steady  5.788522e-06\n",
       "71  metformin-rosiglitazone_Steady  1.199913e-06\n",
       "60                     acarbose_Up  7.311435e-08\n",
       "69          glyburide-metformin_Up  7.132755e-08\n",
       "70      glipizide-metformin_Steady  0.000000e+00\n",
       "62             troglitazone_Steady  0.000000e+00\n",
       "42               chlorpropamide_Up  0.000000e+00\n",
       "18          gender_Unknown/Invalid  0.000000e+00\n",
       "\n",
       "[93 rows x 2 columns]"
      ]
     },
     "execution_count": 57,
     "metadata": {},
     "output_type": "execute_result"
    }
   ],
   "source": [
    "# Random Forest Feature Importance\n",
    "\n",
    "from sklearn.model_selection import train_test_split\n",
    "from sklearn.ensemble import RandomForestClassifier \n",
    "\n",
    "## Create feature and target DFs\n",
    "X = df_dummies.drop(['Target'], axis=1)\n",
    "y = df_dummies['Target']\n",
    "\n",
    "## Split into training and test sets\n",
    "\n",
    "X_train, X_test, y_train, y_test = train_test_split(X, y, test_size=0.3, random_state=42, stratify=y)\n",
    "\n",
    "rf = RandomForestClassifier() \n",
    "rf.fit(X_train, y_train) \n",
    "print(rf.score(X_test, y_test))\n",
    "\n",
    "feature_importances = pd.DataFrame(rf.feature_importances_,\n",
    "                                    index = X_train.columns,\n",
    "                                   columns=['Importance']).sort_values('Importance', ascending=False)\n",
    "\n",
    "pd.DataFrame(zip(X_train.columns, rf.feature_importances_)).sort_values(1, ascending=False)"
   ]
  },
  {
   "cell_type": "markdown",
   "metadata": {},
   "source": [
    "# ML Run #1 (basic - using RF features)"
   ]
  },
  {
   "cell_type": "code",
   "execution_count": 58,
   "metadata": {},
   "outputs": [
    {
     "data": {
      "text/plain": [
       "(38911, 56)"
      ]
     },
     "execution_count": 58,
     "metadata": {},
     "output_type": "execute_result"
    }
   ],
   "source": [
    "df_run1 = df.loc[:, ['race', 'gender', 'age', 'num_lab_procedures', 'num_medications', 'time_in_hospital', \n",
    "                     'num_procedures', 'discharge_disposition_id', 'number_diagnoses', 'number_inpatient', \n",
    "                     'admission_type_id', 'admission_source_id', 'number_outpatient', 'insulin', 'change', \n",
    "                     'number_emergency', 'A1Cresult', 'Binned', 'metformin', 'Target']]\n",
    "\n",
    "run1_dummies = pd.get_dummies(df_run1, drop_first=True)\n",
    "run1_dummies.shape"
   ]
  },
  {
   "cell_type": "code",
   "execution_count": 59,
   "metadata": {
    "scrolled": true
   },
   "outputs": [
    {
     "data": {
      "text/plain": [
       "{'num_lab_procedures': 49,\n",
       " 'num_medications': 11,\n",
       " 'time_in_hospital': 2,\n",
       " 'num_procedures': 1,\n",
       " 'discharge_disposition_id': 1,\n",
       " 'number_diagnoses': 3,\n",
       " 'number_inpatient': 0,\n",
       " 'admission_type_id': 3,\n",
       " 'admission_source_id': 1,\n",
       " 'number_outpatient': 0,\n",
       " 'number_emergency': 0,\n",
       " 'Target': 0,\n",
       " 'race_AfricanAmerican': 0,\n",
       " 'race_Asian': 0,\n",
       " 'race_Caucasian': 1,\n",
       " 'race_Hispanic': 0,\n",
       " 'race_Other': 0,\n",
       " 'gender_Male': 0,\n",
       " 'gender_Unknown/Invalid': 0,\n",
       " 'age_[10-20)': 0,\n",
       " 'age_[20-30)': 0,\n",
       " 'age_[30-40)': 0,\n",
       " 'age_[40-50)': 0,\n",
       " 'age_[50-60)': 1,\n",
       " 'age_[60-70)': 0,\n",
       " 'age_[70-80)': 0,\n",
       " 'age_[80-90)': 0,\n",
       " 'age_[90-100)': 0,\n",
       " 'insulin_No': 1,\n",
       " 'insulin_Steady': 0,\n",
       " 'insulin_Up': 0,\n",
       " 'change_No': 1,\n",
       " 'A1Cresult_>8': 0,\n",
       " 'A1Cresult_None': 1,\n",
       " 'A1Cresult_Norm': 0,\n",
       " 'Binned_Neoplasms': 0,\n",
       " 'Binned_Endocrine (No DM)': 0,\n",
       " 'Binned_Diabetes Mellitus': 0,\n",
       " 'Binned_Immune System (No DM)': 0,\n",
       " 'Binned_Blood Diseases': 0,\n",
       " 'Binned_Mental Disorders': 0,\n",
       " 'Binned_Nervous System': 0,\n",
       " 'Binned_Sense Organs': 0,\n",
       " 'Binned_Circulatory System': 0,\n",
       " 'Binned_Respiratory System': 0,\n",
       " 'Binned_Digestive System': 0,\n",
       " 'Binned_Genitourinary System': 0,\n",
       " 'Binned_Pregnancy Complications': 0,\n",
       " 'Binned_Skin Diseases': 0,\n",
       " 'Binned_Musculoskeletal System': 1,\n",
       " 'Binned_Congenital Anomalies': 0,\n",
       " 'Binned_Other': 0,\n",
       " 'Binned_Injury and poisoning': 0,\n",
       " 'metformin_No': 1,\n",
       " 'metformin_Steady': 0,\n",
       " 'metformin_Up': 0}"
      ]
     },
     "execution_count": 59,
     "metadata": {},
     "output_type": "execute_result"
    }
   ],
   "source": [
    "run1_dummies.iloc[1].to_dict()"
   ]
  },
  {
   "cell_type": "markdown",
   "metadata": {},
   "source": [
    "**Logistic Regression**"
   ]
  },
  {
   "cell_type": "code",
   "execution_count": 64,
   "metadata": {
    "scrolled": true
   },
   "outputs": [
    {
     "name": "stderr",
     "output_type": "stream",
     "text": [
      "/Users/springboard/anaconda3/envs/ProjectEnv/lib/python3.7/site-packages/sklearn/linear_model/logistic.py:433: FutureWarning: Default solver will be changed to 'lbfgs' in 0.22. Specify a solver to silence this warning.\n",
      "  FutureWarning)\n",
      "/Users/springboard/anaconda3/envs/ProjectEnv/lib/python3.7/site-packages/sklearn/linear_model/logistic.py:433: FutureWarning: Default solver will be changed to 'lbfgs' in 0.22. Specify a solver to silence this warning.\n",
      "  FutureWarning)\n",
      "/Users/springboard/anaconda3/envs/ProjectEnv/lib/python3.7/site-packages/sklearn/linear_model/logistic.py:433: FutureWarning: Default solver will be changed to 'lbfgs' in 0.22. Specify a solver to silence this warning.\n",
      "  FutureWarning)\n",
      "/Users/springboard/anaconda3/envs/ProjectEnv/lib/python3.7/site-packages/sklearn/linear_model/logistic.py:433: FutureWarning: Default solver will be changed to 'lbfgs' in 0.22. Specify a solver to silence this warning.\n",
      "  FutureWarning)\n",
      "/Users/springboard/anaconda3/envs/ProjectEnv/lib/python3.7/site-packages/sklearn/linear_model/logistic.py:433: FutureWarning: Default solver will be changed to 'lbfgs' in 0.22. Specify a solver to silence this warning.\n",
      "  FutureWarning)\n",
      "/Users/springboard/anaconda3/envs/ProjectEnv/lib/python3.7/site-packages/sklearn/linear_model/logistic.py:433: FutureWarning: Default solver will be changed to 'lbfgs' in 0.22. Specify a solver to silence this warning.\n",
      "  FutureWarning)\n",
      "/Users/springboard/anaconda3/envs/ProjectEnv/lib/python3.7/site-packages/sklearn/linear_model/logistic.py:433: FutureWarning: Default solver will be changed to 'lbfgs' in 0.22. Specify a solver to silence this warning.\n",
      "  FutureWarning)\n",
      "/Users/springboard/anaconda3/envs/ProjectEnv/lib/python3.7/site-packages/sklearn/linear_model/logistic.py:433: FutureWarning: Default solver will be changed to 'lbfgs' in 0.22. Specify a solver to silence this warning.\n",
      "  FutureWarning)\n",
      "/Users/springboard/anaconda3/envs/ProjectEnv/lib/python3.7/site-packages/sklearn/linear_model/logistic.py:433: FutureWarning: Default solver will be changed to 'lbfgs' in 0.22. Specify a solver to silence this warning.\n",
      "  FutureWarning)\n",
      "/Users/springboard/anaconda3/envs/ProjectEnv/lib/python3.7/site-packages/sklearn/linear_model/logistic.py:433: FutureWarning: Default solver will be changed to 'lbfgs' in 0.22. Specify a solver to silence this warning.\n",
      "  FutureWarning)\n",
      "/Users/springboard/anaconda3/envs/ProjectEnv/lib/python3.7/site-packages/sklearn/linear_model/logistic.py:433: FutureWarning: Default solver will be changed to 'lbfgs' in 0.22. Specify a solver to silence this warning.\n",
      "  FutureWarning)\n",
      "/Users/springboard/anaconda3/envs/ProjectEnv/lib/python3.7/site-packages/sklearn/linear_model/logistic.py:433: FutureWarning: Default solver will be changed to 'lbfgs' in 0.22. Specify a solver to silence this warning.\n",
      "  FutureWarning)\n",
      "/Users/springboard/anaconda3/envs/ProjectEnv/lib/python3.7/site-packages/sklearn/linear_model/logistic.py:433: FutureWarning: Default solver will be changed to 'lbfgs' in 0.22. Specify a solver to silence this warning.\n",
      "  FutureWarning)\n",
      "/Users/springboard/anaconda3/envs/ProjectEnv/lib/python3.7/site-packages/sklearn/linear_model/logistic.py:433: FutureWarning: Default solver will be changed to 'lbfgs' in 0.22. Specify a solver to silence this warning.\n",
      "  FutureWarning)\n",
      "/Users/springboard/anaconda3/envs/ProjectEnv/lib/python3.7/site-packages/sklearn/linear_model/logistic.py:433: FutureWarning: Default solver will be changed to 'lbfgs' in 0.22. Specify a solver to silence this warning.\n",
      "  FutureWarning)\n",
      "/Users/springboard/anaconda3/envs/ProjectEnv/lib/python3.7/site-packages/sklearn/linear_model/logistic.py:433: FutureWarning: Default solver will be changed to 'lbfgs' in 0.22. Specify a solver to silence this warning.\n",
      "  FutureWarning)\n",
      "/Users/springboard/anaconda3/envs/ProjectEnv/lib/python3.7/site-packages/sklearn/linear_model/logistic.py:433: FutureWarning: Default solver will be changed to 'lbfgs' in 0.22. Specify a solver to silence this warning.\n",
      "  FutureWarning)\n",
      "/Users/springboard/anaconda3/envs/ProjectEnv/lib/python3.7/site-packages/sklearn/linear_model/logistic.py:433: FutureWarning: Default solver will be changed to 'lbfgs' in 0.22. Specify a solver to silence this warning.\n",
      "  FutureWarning)\n",
      "/Users/springboard/anaconda3/envs/ProjectEnv/lib/python3.7/site-packages/sklearn/linear_model/logistic.py:433: FutureWarning: Default solver will be changed to 'lbfgs' in 0.22. Specify a solver to silence this warning.\n",
      "  FutureWarning)\n",
      "/Users/springboard/anaconda3/envs/ProjectEnv/lib/python3.7/site-packages/sklearn/linear_model/logistic.py:433: FutureWarning: Default solver will be changed to 'lbfgs' in 0.22. Specify a solver to silence this warning.\n",
      "  FutureWarning)\n",
      "/Users/springboard/anaconda3/envs/ProjectEnv/lib/python3.7/site-packages/sklearn/linear_model/logistic.py:433: FutureWarning: Default solver will be changed to 'lbfgs' in 0.22. Specify a solver to silence this warning.\n",
      "  FutureWarning)\n",
      "/Users/springboard/anaconda3/envs/ProjectEnv/lib/python3.7/site-packages/sklearn/linear_model/logistic.py:433: FutureWarning: Default solver will be changed to 'lbfgs' in 0.22. Specify a solver to silence this warning.\n",
      "  FutureWarning)\n",
      "/Users/springboard/anaconda3/envs/ProjectEnv/lib/python3.7/site-packages/sklearn/linear_model/logistic.py:433: FutureWarning: Default solver will be changed to 'lbfgs' in 0.22. Specify a solver to silence this warning.\n",
      "  FutureWarning)\n",
      "/Users/springboard/anaconda3/envs/ProjectEnv/lib/python3.7/site-packages/sklearn/linear_model/logistic.py:433: FutureWarning: Default solver will be changed to 'lbfgs' in 0.22. Specify a solver to silence this warning.\n",
      "  FutureWarning)\n",
      "/Users/springboard/anaconda3/envs/ProjectEnv/lib/python3.7/site-packages/sklearn/linear_model/logistic.py:433: FutureWarning: Default solver will be changed to 'lbfgs' in 0.22. Specify a solver to silence this warning.\n",
      "  FutureWarning)\n",
      "/Users/springboard/anaconda3/envs/ProjectEnv/lib/python3.7/site-packages/sklearn/linear_model/logistic.py:433: FutureWarning: Default solver will be changed to 'lbfgs' in 0.22. Specify a solver to silence this warning.\n",
      "  FutureWarning)\n",
      "/Users/springboard/anaconda3/envs/ProjectEnv/lib/python3.7/site-packages/sklearn/linear_model/logistic.py:433: FutureWarning: Default solver will be changed to 'lbfgs' in 0.22. Specify a solver to silence this warning.\n",
      "  FutureWarning)\n",
      "/Users/springboard/anaconda3/envs/ProjectEnv/lib/python3.7/site-packages/sklearn/linear_model/logistic.py:433: FutureWarning: Default solver will be changed to 'lbfgs' in 0.22. Specify a solver to silence this warning.\n",
      "  FutureWarning)\n",
      "/Users/springboard/anaconda3/envs/ProjectEnv/lib/python3.7/site-packages/sklearn/linear_model/logistic.py:433: FutureWarning: Default solver will be changed to 'lbfgs' in 0.22. Specify a solver to silence this warning.\n",
      "  FutureWarning)\n",
      "/Users/springboard/anaconda3/envs/ProjectEnv/lib/python3.7/site-packages/sklearn/linear_model/logistic.py:433: FutureWarning: Default solver will be changed to 'lbfgs' in 0.22. Specify a solver to silence this warning.\n",
      "  FutureWarning)\n",
      "/Users/springboard/anaconda3/envs/ProjectEnv/lib/python3.7/site-packages/sklearn/linear_model/logistic.py:433: FutureWarning: Default solver will be changed to 'lbfgs' in 0.22. Specify a solver to silence this warning.\n",
      "  FutureWarning)\n",
      "/Users/springboard/anaconda3/envs/ProjectEnv/lib/python3.7/site-packages/sklearn/linear_model/logistic.py:433: FutureWarning: Default solver will be changed to 'lbfgs' in 0.22. Specify a solver to silence this warning.\n",
      "  FutureWarning)\n",
      "/Users/springboard/anaconda3/envs/ProjectEnv/lib/python3.7/site-packages/sklearn/linear_model/logistic.py:433: FutureWarning: Default solver will be changed to 'lbfgs' in 0.22. Specify a solver to silence this warning.\n",
      "  FutureWarning)\n",
      "/Users/springboard/anaconda3/envs/ProjectEnv/lib/python3.7/site-packages/sklearn/linear_model/logistic.py:433: FutureWarning: Default solver will be changed to 'lbfgs' in 0.22. Specify a solver to silence this warning.\n",
      "  FutureWarning)\n",
      "/Users/springboard/anaconda3/envs/ProjectEnv/lib/python3.7/site-packages/sklearn/linear_model/logistic.py:433: FutureWarning: Default solver will be changed to 'lbfgs' in 0.22. Specify a solver to silence this warning.\n",
      "  FutureWarning)\n"
     ]
    },
    {
     "name": "stderr",
     "output_type": "stream",
     "text": [
      "/Users/springboard/anaconda3/envs/ProjectEnv/lib/python3.7/site-packages/sklearn/linear_model/logistic.py:433: FutureWarning: Default solver will be changed to 'lbfgs' in 0.22. Specify a solver to silence this warning.\n",
      "  FutureWarning)\n",
      "/Users/springboard/anaconda3/envs/ProjectEnv/lib/python3.7/site-packages/sklearn/linear_model/logistic.py:433: FutureWarning: Default solver will be changed to 'lbfgs' in 0.22. Specify a solver to silence this warning.\n",
      "  FutureWarning)\n",
      "/Users/springboard/anaconda3/envs/ProjectEnv/lib/python3.7/site-packages/sklearn/linear_model/logistic.py:433: FutureWarning: Default solver will be changed to 'lbfgs' in 0.22. Specify a solver to silence this warning.\n",
      "  FutureWarning)\n",
      "/Users/springboard/anaconda3/envs/ProjectEnv/lib/python3.7/site-packages/sklearn/linear_model/logistic.py:433: FutureWarning: Default solver will be changed to 'lbfgs' in 0.22. Specify a solver to silence this warning.\n",
      "  FutureWarning)\n",
      "/Users/springboard/anaconda3/envs/ProjectEnv/lib/python3.7/site-packages/sklearn/linear_model/logistic.py:433: FutureWarning: Default solver will be changed to 'lbfgs' in 0.22. Specify a solver to silence this warning.\n",
      "  FutureWarning)\n",
      "/Users/springboard/anaconda3/envs/ProjectEnv/lib/python3.7/site-packages/sklearn/linear_model/logistic.py:433: FutureWarning: Default solver will be changed to 'lbfgs' in 0.22. Specify a solver to silence this warning.\n",
      "  FutureWarning)\n",
      "/Users/springboard/anaconda3/envs/ProjectEnv/lib/python3.7/site-packages/sklearn/linear_model/logistic.py:433: FutureWarning: Default solver will be changed to 'lbfgs' in 0.22. Specify a solver to silence this warning.\n",
      "  FutureWarning)\n",
      "/Users/springboard/anaconda3/envs/ProjectEnv/lib/python3.7/site-packages/sklearn/linear_model/logistic.py:433: FutureWarning: Default solver will be changed to 'lbfgs' in 0.22. Specify a solver to silence this warning.\n",
      "  FutureWarning)\n",
      "/Users/springboard/anaconda3/envs/ProjectEnv/lib/python3.7/site-packages/sklearn/linear_model/logistic.py:433: FutureWarning: Default solver will be changed to 'lbfgs' in 0.22. Specify a solver to silence this warning.\n",
      "  FutureWarning)\n",
      "/Users/springboard/anaconda3/envs/ProjectEnv/lib/python3.7/site-packages/sklearn/linear_model/logistic.py:433: FutureWarning: Default solver will be changed to 'lbfgs' in 0.22. Specify a solver to silence this warning.\n",
      "  FutureWarning)\n",
      "/Users/springboard/anaconda3/envs/ProjectEnv/lib/python3.7/site-packages/sklearn/linear_model/logistic.py:433: FutureWarning: Default solver will be changed to 'lbfgs' in 0.22. Specify a solver to silence this warning.\n",
      "  FutureWarning)\n",
      "/Users/springboard/anaconda3/envs/ProjectEnv/lib/python3.7/site-packages/sklearn/linear_model/logistic.py:433: FutureWarning: Default solver will be changed to 'lbfgs' in 0.22. Specify a solver to silence this warning.\n",
      "  FutureWarning)\n",
      "/Users/springboard/anaconda3/envs/ProjectEnv/lib/python3.7/site-packages/sklearn/linear_model/logistic.py:433: FutureWarning: Default solver will be changed to 'lbfgs' in 0.22. Specify a solver to silence this warning.\n",
      "  FutureWarning)\n",
      "/Users/springboard/anaconda3/envs/ProjectEnv/lib/python3.7/site-packages/sklearn/linear_model/logistic.py:433: FutureWarning: Default solver will be changed to 'lbfgs' in 0.22. Specify a solver to silence this warning.\n",
      "  FutureWarning)\n",
      "/Users/springboard/anaconda3/envs/ProjectEnv/lib/python3.7/site-packages/sklearn/linear_model/logistic.py:433: FutureWarning: Default solver will be changed to 'lbfgs' in 0.22. Specify a solver to silence this warning.\n",
      "  FutureWarning)\n",
      "/Users/springboard/anaconda3/envs/ProjectEnv/lib/python3.7/site-packages/sklearn/linear_model/logistic.py:433: FutureWarning: Default solver will be changed to 'lbfgs' in 0.22. Specify a solver to silence this warning.\n",
      "  FutureWarning)\n",
      "/Users/springboard/anaconda3/envs/ProjectEnv/lib/python3.7/site-packages/sklearn/linear_model/logistic.py:433: FutureWarning: Default solver will be changed to 'lbfgs' in 0.22. Specify a solver to silence this warning.\n",
      "  FutureWarning)\n",
      "/Users/springboard/anaconda3/envs/ProjectEnv/lib/python3.7/site-packages/sklearn/linear_model/logistic.py:433: FutureWarning: Default solver will be changed to 'lbfgs' in 0.22. Specify a solver to silence this warning.\n",
      "  FutureWarning)\n",
      "/Users/springboard/anaconda3/envs/ProjectEnv/lib/python3.7/site-packages/sklearn/linear_model/logistic.py:433: FutureWarning: Default solver will be changed to 'lbfgs' in 0.22. Specify a solver to silence this warning.\n",
      "  FutureWarning)\n",
      "/Users/springboard/anaconda3/envs/ProjectEnv/lib/python3.7/site-packages/sklearn/linear_model/logistic.py:433: FutureWarning: Default solver will be changed to 'lbfgs' in 0.22. Specify a solver to silence this warning.\n",
      "  FutureWarning)\n",
      "/Users/springboard/anaconda3/envs/ProjectEnv/lib/python3.7/site-packages/sklearn/linear_model/logistic.py:433: FutureWarning: Default solver will be changed to 'lbfgs' in 0.22. Specify a solver to silence this warning.\n",
      "  FutureWarning)\n",
      "/Users/springboard/anaconda3/envs/ProjectEnv/lib/python3.7/site-packages/sklearn/linear_model/logistic.py:433: FutureWarning: Default solver will be changed to 'lbfgs' in 0.22. Specify a solver to silence this warning.\n",
      "  FutureWarning)\n",
      "/Users/springboard/anaconda3/envs/ProjectEnv/lib/python3.7/site-packages/sklearn/linear_model/logistic.py:433: FutureWarning: Default solver will be changed to 'lbfgs' in 0.22. Specify a solver to silence this warning.\n",
      "  FutureWarning)\n",
      "/Users/springboard/anaconda3/envs/ProjectEnv/lib/python3.7/site-packages/sklearn/linear_model/logistic.py:433: FutureWarning: Default solver will be changed to 'lbfgs' in 0.22. Specify a solver to silence this warning.\n",
      "  FutureWarning)\n",
      "/Users/springboard/anaconda3/envs/ProjectEnv/lib/python3.7/site-packages/sklearn/linear_model/logistic.py:433: FutureWarning: Default solver will be changed to 'lbfgs' in 0.22. Specify a solver to silence this warning.\n",
      "  FutureWarning)\n",
      "/Users/springboard/anaconda3/envs/ProjectEnv/lib/python3.7/site-packages/sklearn/linear_model/logistic.py:433: FutureWarning: Default solver will be changed to 'lbfgs' in 0.22. Specify a solver to silence this warning.\n",
      "  FutureWarning)\n"
     ]
    },
    {
     "name": "stdout",
     "output_type": "stream",
     "text": [
      "Tuned Logistic Regression Parameters: {'C': 0.1, 'penalty': 'l1'}\n",
      "Best score: 0.6591943117155683\n"
     ]
    }
   ],
   "source": [
    "# GridSearching\n",
    "\n",
    "from sklearn.model_selection import GridSearchCV\n",
    "\n",
    "param_grid = {'C': [0.01, 0.1, 1], 'penalty': ['l1', 'l2']}\n",
    "\n",
    "## Instantiate classifier\n",
    "\n",
    "logreg = LogisticRegression()\n",
    "\n",
    "## Split into training and test sets\n",
    "\n",
    "X_train, X_test, y_train, y_test = train_test_split(X, y, test_size=0.3, random_state=42)\n",
    "\n",
    "## Instantiate GridSearchCV object\n",
    "\n",
    "logreg_cv = GridSearchCV(logreg, param_grid, scoring='roc_auc', cv=10)\n",
    "\n",
    "## Fit to training data \n",
    "\n",
    "logreg_cv.fit(X_train, y_train)\n",
    "\n",
    "## Print the optimal parameters and best score\n",
    "\n",
    "print(\"Tuned Logistic Regression Parameters: {}\".format(logreg_cv.best_params_))\n",
    "print(\"Best score: {}\".format(logreg_cv.best_score_))\n",
    "\n",
    "## Predict on the test data\n",
    "\n",
    "y_pred = logreg_cv.predict(X_test)"
   ]
  },
  {
   "cell_type": "code",
   "execution_count": 73,
   "metadata": {},
   "outputs": [
    {
     "name": "stderr",
     "output_type": "stream",
     "text": [
      "/Users/springboard/anaconda3/envs/ProjectEnv/lib/python3.7/site-packages/sklearn/linear_model/logistic.py:433: FutureWarning: Default solver will be changed to 'lbfgs' in 0.22. Specify a solver to silence this warning.\n",
      "  FutureWarning)\n"
     ]
    },
    {
     "name": "stdout",
     "output_type": "stream",
     "text": [
      "Accuracy Score: 0.8762206612986123\n",
      "Balanced Accuracy Score: 0.5117282526633672\n",
      "[[10191    27]\n",
      " [ 1418    38]]\n",
      "              precision    recall  f1-score   support\n",
      "\n",
      "           0       0.88      1.00      0.93     10218\n",
      "           1       0.58      0.03      0.05      1456\n",
      "\n",
      "   micro avg       0.88      0.88      0.88     11674\n",
      "   macro avg       0.73      0.51      0.49     11674\n",
      "weighted avg       0.84      0.88      0.82     11674\n",
      "\n"
     ]
    }
   ],
   "source": [
    "from sklearn.linear_model import LogisticRegression\n",
    "from sklearn.metrics import accuracy_score\n",
    "from sklearn.metrics import confusion_matrix, classification_report\n",
    "from sklearn.metrics import fbeta_score\n",
    "from sklearn.metrics import balanced_accuracy_score\n",
    "\n",
    "# Feature and target DFs\n",
    "\n",
    "X = run1_dummies.drop(['Target'], axis=1)\n",
    "y = run1_dummies['Target']\n",
    "\n",
    "# Split into training and test sets\n",
    "\n",
    "X_train, X_test, y_train, y_test = train_test_split(X, y, test_size=0.3, random_state=42)\n",
    "\n",
    "# Fit the regressor to the training data \n",
    "\n",
    "reg = LogisticRegression(penalty='l1', C=0.1)\n",
    "reg.fit(X_train, y_train)\n",
    "\n",
    "# Predict on the test data\n",
    "\n",
    "y_pred = reg.predict_proba(X_test)[:,1]\n",
    "\n",
    "## Accuracy Score\n",
    "\n",
    "acc_score = reg.score(X_test, y_test)\n",
    "print(\"Accuracy Score: {}\".format(acc_score))\n",
    "\n",
    "## Confusion Matrix, Classification Report, and F-Beta Score\n",
    "\n",
    "predicted = reg.predict(X_test)\n",
    "\n",
    "print(\"Balanced Accuracy Score: {}\".format(balanced_accuracy_score(y_test, predicted)))\n",
    "print(confusion_matrix(y_test, predicted))\n",
    "print(classification_report(y_test, predicted))"
   ]
  },
  {
   "cell_type": "code",
   "execution_count": 72,
   "metadata": {
    "scrolled": true
   },
   "outputs": [
    {
     "name": "stdout",
     "output_type": "stream",
     "text": [
      "\n",
      " ** Threshold = 0.05 **\n",
      "Accuracy Score = 0.12720575638170292\n",
      "Balanced Accuracy Score = 0.5014190643961637\n",
      "[[   29 10189]\n",
      " [    0  1456]]\n",
      "              precision    recall  f1-score   support\n",
      "\n",
      "           0       1.00      0.00      0.01     10218\n",
      "           1       0.13      1.00      0.22      1456\n",
      "\n",
      "   micro avg       0.13      0.13      0.13     11674\n",
      "   macro avg       0.56      0.50      0.11     11674\n",
      "weighted avg       0.89      0.13      0.03     11674\n",
      "\n",
      "\n",
      " ** Threshold = 0.1 **\n",
      "Accuracy Score = 0.4417508994346411\n",
      "Balanced Accuracy Score = 0.5959991821155943\n",
      "[[3990 6228]\n",
      " [ 289 1167]]\n",
      "              precision    recall  f1-score   support\n",
      "\n",
      "           0       0.93      0.39      0.55     10218\n",
      "           1       0.16      0.80      0.26      1456\n",
      "\n",
      "   micro avg       0.44      0.44      0.44     11674\n",
      "   macro avg       0.55      0.60      0.41     11674\n",
      "weighted avg       0.84      0.44      0.51     11674\n",
      "\n",
      "\n",
      " ** Threshold = 0.15 **\n",
      "Accuracy Score = 0.7424190508823025\n",
      "Balanced Accuracy Score = 0.597254844392249\n",
      "[[8079 2139]\n",
      " [ 868  588]]\n"
     ]
    },
    {
     "name": "stderr",
     "output_type": "stream",
     "text": [
      "/Users/springboard/anaconda3/envs/ProjectEnv/lib/python3.7/site-packages/ipykernel_launcher.py:9: FutureWarning: Method .as_matrix will be removed in a future version. Use .values instead.\n",
      "  if __name__ == '__main__':\n"
     ]
    },
    {
     "name": "stdout",
     "output_type": "stream",
     "text": [
      "              precision    recall  f1-score   support\n",
      "\n",
      "           0       0.90      0.79      0.84     10218\n",
      "           1       0.22      0.40      0.28      1456\n",
      "\n",
      "   micro avg       0.74      0.74      0.74     11674\n",
      "   macro avg       0.56      0.60      0.56     11674\n",
      "weighted avg       0.82      0.74      0.77     11674\n",
      "\n",
      "\n",
      " ** Threshold = 0.2 **\n",
      "Accuracy Score = 0.8349323282508138\n",
      "Balanced Accuracy Score = 0.5735396918603025\n",
      "[[9419  799]\n",
      " [1128  328]]\n",
      "              precision    recall  f1-score   support\n",
      "\n",
      "           0       0.89      0.92      0.91     10218\n",
      "           1       0.29      0.23      0.25      1456\n",
      "\n",
      "   micro avg       0.83      0.83      0.83     11674\n",
      "   macro avg       0.59      0.57      0.58     11674\n",
      "weighted avg       0.82      0.83      0.83     11674\n",
      "\n",
      "\n",
      " ** Threshold = 0.25 **\n",
      "Accuracy Score = 0.8554051738906973\n",
      "Balanced Accuracy Score = 0.5543150392864133\n",
      "[[9763  455]\n",
      " [1233  223]]\n",
      "              precision    recall  f1-score   support\n",
      "\n",
      "           0       0.89      0.96      0.92     10218\n",
      "           1       0.33      0.15      0.21      1456\n",
      "\n",
      "   micro avg       0.86      0.86      0.86     11674\n",
      "   macro avg       0.61      0.55      0.56     11674\n",
      "weighted avg       0.82      0.86      0.83     11674\n",
      "\n",
      "\n",
      " ** Threshold = 0.3 **\n",
      "Accuracy Score = 0.8667980126777454\n",
      "Balanced Accuracy Score = 0.5434492352431284\n",
      "[[9955  263]\n",
      " [1292  164]]\n",
      "              precision    recall  f1-score   support\n",
      "\n",
      "           0       0.89      0.97      0.93     10218\n",
      "           1       0.38      0.11      0.17      1456\n",
      "\n",
      "   micro avg       0.87      0.87      0.87     11674\n",
      "   macro avg       0.63      0.54      0.55     11674\n",
      "weighted avg       0.82      0.87      0.83     11674\n",
      "\n",
      "\n",
      " ** Threshold = 0.35 **\n",
      "Accuracy Score = 0.8725372622922735\n",
      "Balanced Accuracy Score = 0.5293538363671951\n",
      "[[10081   137]\n",
      " [ 1351   105]]\n",
      "              precision    recall  f1-score   support\n",
      "\n",
      "           0       0.88      0.99      0.93     10218\n",
      "           1       0.43      0.07      0.12      1456\n",
      "\n",
      "   micro avg       0.87      0.87      0.87     11674\n",
      "   macro avg       0.66      0.53      0.53     11674\n",
      "weighted avg       0.83      0.87      0.83     11674\n",
      "\n",
      "\n",
      " ** Threshold = 0.4 **\n",
      "Accuracy Score = 0.8748500942264862\n",
      "Balanced Accuracy Score = 0.5200739940720857\n",
      "[[10144    74]\n",
      " [ 1387    69]]\n",
      "              precision    recall  f1-score   support\n",
      "\n",
      "           0       0.88      0.99      0.93     10218\n",
      "           1       0.48      0.05      0.09      1456\n",
      "\n",
      "   micro avg       0.87      0.87      0.87     11674\n",
      "   macro avg       0.68      0.52      0.51     11674\n",
      "weighted avg       0.83      0.87      0.83     11674\n",
      "\n",
      "\n",
      " ** Threshold = 0.45 **\n",
      "Accuracy Score = 0.8763063217406202\n",
      "Balanced Accuracy Score = 0.514721919302072\n",
      "[[10182    36]\n",
      " [ 1408    48]]\n",
      "              precision    recall  f1-score   support\n",
      "\n",
      "           0       0.88      1.00      0.93     10218\n",
      "           1       0.57      0.03      0.06      1456\n",
      "\n",
      "   micro avg       0.88      0.88      0.88     11674\n",
      "   macro avg       0.72      0.51      0.50     11674\n",
      "weighted avg       0.84      0.88      0.83     11674\n",
      "\n",
      "\n",
      " ** Threshold = 0.5 **\n",
      "Accuracy Score = 0.8762206612986123\n",
      "Balanced Accuracy Score = 0.5117282526633672\n",
      "[[10191    27]\n",
      " [ 1418    38]]\n",
      "              precision    recall  f1-score   support\n",
      "\n",
      "           0       0.88      1.00      0.93     10218\n",
      "           1       0.58      0.03      0.05      1456\n",
      "\n",
      "   micro avg       0.88      0.88      0.88     11674\n",
      "   macro avg       0.73      0.51      0.49     11674\n",
      "weighted avg       0.84      0.88      0.82     11674\n",
      "\n"
     ]
    }
   ],
   "source": [
    "# Thresholding to maximize recall (LR #1)\n",
    "\n",
    "predicted_df = pd.DataFrame(reg.predict_proba(X_test))\n",
    "thresholds = [0.05, 0.1, 0.15, 0.2, 0.25, 0.3, 0.35, 0.4, 0.45, 0.5]\n",
    "\n",
    "for i in thresholds:\n",
    "    print('\\n ** Threshold = {} **'.format(i))\n",
    "    y_test_pred = predicted_df.applymap(lambda x: 1 if x>i else 0)\n",
    "    test_accuracy = accuracy_score(y_test.as_matrix().reshape(y_test.as_matrix().size,1),\n",
    "                                           y_test_pred.iloc[:,1].as_matrix().reshape(y_test_pred.iloc[:,1].as_matrix().size,1))\n",
    "    print('Accuracy Score = {}'.format(test_accuracy))\n",
    "    print('Balanced Accuracy Score = {}'.format(balanced_accuracy_score(y_test.as_matrix().reshape(y_test.as_matrix().size,1),\n",
    "                           y_test_pred.iloc[:,1].as_matrix().reshape(y_test_pred.iloc[:,1].as_matrix().size,1))))\n",
    "    print(confusion_matrix(y_test.as_matrix().reshape(y_test.as_matrix().size,1),\n",
    "                           y_test_pred.iloc[:,1].as_matrix().reshape(y_test_pred.iloc[:,1].as_matrix().size,1)))\n",
    "    print(classification_report(y_test.as_matrix().reshape(y_test.as_matrix().size,1),\n",
    "                           y_test_pred.iloc[:,1].as_matrix().reshape(y_test_pred.iloc[:,1].as_matrix().size,1)))"
   ]
  },
  {
   "cell_type": "code",
   "execution_count": 49,
   "metadata": {},
   "outputs": [
    {
     "name": "stdout",
     "output_type": "stream",
     "text": [
      "0.6590123091334189\n"
     ]
    },
    {
     "data": {
      "image/png": "[encoded data removed]",
      "text/plain": [
       "<Figure size 432x288 with 1 Axes>"
      ]
     },
     "metadata": {
      "needs_background": "light"
     },
     "output_type": "display_data"
    }
   ],
   "source": [
    "# ROC_AUC Score\n",
    "\n",
    "from sklearn.metrics import roc_auc_score\n",
    "print(roc_auc_score(y_test, y_pred))\n",
    "\n",
    "# ROC Curve\n",
    "\n",
    "from sklearn.metrics import roc_curve\n",
    "\n",
    "roc_auc = roc_auc_score(y_test, y_pred)\n",
    "fpr, tpr, thresholds = roc_curve(y_test, y_pred)\n",
    "plt.figure()\n",
    "\n",
    "plt.plot(fpr, tpr, label='Logistic Regression' % roc_auc)\n",
    "plt.plot([0, 1], [0, 1],'r--')\n",
    "\n",
    "plt.title('ROC')\n",
    "plt.xlabel('False Positive Rate')\n",
    "plt.ylabel('True Positive Rate')\n",
    "\n",
    "plt.xlim([0.0, 1.0])\n",
    "plt.ylim([0.0, 1.05])\n",
    "\n",
    "plt.legend(loc=\"upper left\")\n",
    "plt.show()"
   ]
  },
  {
   "cell_type": "markdown",
   "metadata": {},
   "source": [
    "..."
   ]
  },
  {
   "cell_type": "code",
   "execution_count": 67,
   "metadata": {},
   "outputs": [
    {
     "name": "stderr",
     "output_type": "stream",
     "text": [
      "/Users/springboard/anaconda3/envs/ProjectEnv/lib/python3.7/site-packages/sklearn/linear_model/logistic.py:433: FutureWarning: Default solver will be changed to 'lbfgs' in 0.22. Specify a solver to silence this warning.\n",
      "  FutureWarning)\n"
     ]
    },
    {
     "name": "stdout",
     "output_type": "stream",
     "text": [
      "Accuracy Score: 0.6636114442350523\n",
      "Balanced Accuracy Score: 0.614075650812292\n",
      "[[6949 3269]\n",
      " [ 658  798]]\n",
      "              precision    recall  f1-score   support\n",
      "\n",
      "           0       0.91      0.68      0.78     10218\n",
      "           1       0.20      0.55      0.29      1456\n",
      "\n",
      "   micro avg       0.66      0.66      0.66     11674\n",
      "   macro avg       0.55      0.61      0.53     11674\n",
      "weighted avg       0.82      0.66      0.72     11674\n",
      "\n"
     ]
    }
   ],
   "source": [
    "# Logistic run with class_weight = 'balanced'\n",
    "\n",
    "X = run1_dummies.drop(['Target'], axis=1)\n",
    "y = run1_dummies['Target']\n",
    "\n",
    "X_train1, X_test1, y_train1, y_test1 = train_test_split(X, y, test_size=0.3, random_state=42)\n",
    "\n",
    "new_reg = LogisticRegression(penalty='l1', C=0.1, class_weight='balanced')\n",
    "new_reg.fit(X_train1, y_train1)\n",
    "\n",
    "# Predict on the test data\n",
    "\n",
    "y_pred1 = new_reg.predict_proba(X_test1)[:,1]\n",
    "\n",
    "## Accuracy Score\n",
    "\n",
    "acc_score = new_reg.score(X_test1, y_test1)\n",
    "print(\"Accuracy Score: {}\".format(acc_score))\n",
    "\n",
    "## Confusion Matrix, Classification Report, and F-Beta Score\n",
    "\n",
    "predicted1 = new_reg.predict(X_test1)\n",
    "\n",
    "print(\"Balanced Accuracy Score: {}\".format(balanced_accuracy_score(y_test1, predicted1)))\n",
    "\n",
    "print(confusion_matrix(y_test1, predicted1))\n",
    "print(classification_report(y_test1, predicted1))"
   ]
  },
  {
   "cell_type": "code",
   "execution_count": 74,
   "metadata": {},
   "outputs": [
    {
     "name": "stdout",
     "output_type": "stream",
     "text": [
      "\n",
      " ** Threshold = 0.05 **\n",
      "Accuracy Score = 0.12472160356347439\n",
      "Balanced Accuracy Score = 0.5\n",
      "[[    0 10218]\n",
      " [    0  1456]]\n",
      "              precision    recall  f1-score   support\n",
      "\n",
      "           0       0.00      0.00      0.00     10218\n",
      "           1       0.12      1.00      0.22      1456\n",
      "\n",
      "   micro avg       0.12      0.12      0.12     11674\n",
      "   macro avg       0.06      0.50      0.11     11674\n",
      "weighted avg       0.02      0.12      0.03     11674\n",
      "\n",
      "\n",
      " ** Threshold = 0.1 **\n",
      "Accuracy Score = 0.12472160356347439\n",
      "Balanced Accuracy Score = 0.5\n",
      "[[    0 10218]\n",
      " [    0  1456]]\n",
      "              precision    recall  f1-score   support\n",
      "\n",
      "           0       0.00      0.00      0.00     10218\n",
      "           1       0.12      1.00      0.22      1456\n",
      "\n",
      "   micro avg       0.12      0.12      0.12     11674\n",
      "   macro avg       0.06      0.50      0.11     11674\n",
      "weighted avg       0.02      0.12      0.03     11674\n",
      "\n",
      "\n",
      " ** Threshold = 0.15 **\n",
      "Accuracy Score = 0.12472160356347439\n",
      "Balanced Accuracy Score = 0.5\n",
      "[[    0 10218]\n",
      " [    0  1456]]\n",
      "              precision    recall  f1-score   support\n",
      "\n",
      "           0       0.00      0.00      0.00     10218\n",
      "           1       0.12      1.00      0.22      1456\n",
      "\n",
      "   micro avg       0.12      0.12      0.12     11674\n",
      "   macro avg       0.06      0.50      0.11     11674\n",
      "weighted avg       0.02      0.12      0.03     11674\n",
      "\n",
      "\n",
      " ** Threshold = 0.2 **\n",
      "Accuracy Score = 0.12532122665752957\n",
      "Balanced Accuracy Score = 0.5003425327852808\n"
     ]
    },
    {
     "name": "stderr",
     "output_type": "stream",
     "text": [
      "/Users/springboard/anaconda3/envs/ProjectEnv/lib/python3.7/site-packages/ipykernel_launcher.py:9: FutureWarning: Method .as_matrix will be removed in a future version. Use .values instead.\n",
      "  if __name__ == '__main__':\n",
      "/Users/springboard/anaconda3/envs/ProjectEnv/lib/python3.7/site-packages/sklearn/metrics/classification.py:1143: UndefinedMetricWarning: Precision and F-score are ill-defined and being set to 0.0 in labels with no predicted samples.\n",
      "  'precision', 'predicted', average, warn_for)\n"
     ]
    },
    {
     "name": "stdout",
     "output_type": "stream",
     "text": [
      "[[    7 10211]\n",
      " [    0  1456]]\n",
      "              precision    recall  f1-score   support\n",
      "\n",
      "           0       1.00      0.00      0.00     10218\n",
      "           1       0.12      1.00      0.22      1456\n",
      "\n",
      "   micro avg       0.13      0.13      0.13     11674\n",
      "   macro avg       0.56      0.50      0.11     11674\n",
      "weighted avg       0.89      0.13      0.03     11674\n",
      "\n",
      "\n",
      " ** Threshold = 0.25 **\n",
      "Accuracy Score = 0.13465821483638857\n",
      "Balanced Accuracy Score = 0.5053817842462881\n",
      "[[  117 10101]\n",
      " [    1  1455]]\n",
      "              precision    recall  f1-score   support\n",
      "\n",
      "           0       0.99      0.01      0.02     10218\n",
      "           1       0.13      1.00      0.22      1456\n",
      "\n",
      "   micro avg       0.13      0.13      0.13     11674\n",
      "   macro avg       0.56      0.51      0.12     11674\n",
      "weighted avg       0.88      0.13      0.05     11674\n",
      "\n",
      "\n",
      " ** Threshold = 0.3 **\n",
      "Accuracy Score = 0.17688881274627377\n",
      "Balanced Accuracy Score = 0.5218495721835417\n",
      "[[ 636 9582]\n",
      " [  27 1429]]\n",
      "              precision    recall  f1-score   support\n",
      "\n",
      "           0       0.96      0.06      0.12     10218\n",
      "           1       0.13      0.98      0.23      1456\n",
      "\n",
      "   micro avg       0.18      0.18      0.18     11674\n",
      "   macro avg       0.54      0.52      0.17     11674\n",
      "weighted avg       0.86      0.18      0.13     11674\n",
      "\n",
      "\n",
      " ** Threshold = 0.35 **\n",
      "Accuracy Score = 0.2697447318828165\n",
      "Balanced Accuracy Score = 0.5525132469311859\n",
      "[[1796 8422]\n",
      " [ 103 1353]]\n",
      "              precision    recall  f1-score   support\n",
      "\n",
      "           0       0.95      0.18      0.30     10218\n",
      "           1       0.14      0.93      0.24      1456\n",
      "\n",
      "   micro avg       0.27      0.27      0.27     11674\n",
      "   macro avg       0.54      0.55      0.27     11674\n",
      "weighted avg       0.85      0.27      0.29     11674\n",
      "\n",
      "\n",
      " ** Threshold = 0.4 **\n",
      "Accuracy Score = 0.40226143566900807\n",
      "Balanced Accuracy Score = 0.5905204051673517\n",
      "[[3471 6747]\n",
      " [ 231 1225]]\n",
      "              precision    recall  f1-score   support\n",
      "\n",
      "           0       0.94      0.34      0.50     10218\n",
      "           1       0.15      0.84      0.26      1456\n",
      "\n",
      "   micro avg       0.40      0.40      0.40     11674\n",
      "   macro avg       0.55      0.59      0.38     11674\n",
      "weighted avg       0.84      0.40      0.47     11674\n",
      "\n",
      "\n",
      " ** Threshold = 0.45 **\n",
      "Accuracy Score = 0.5447147507281137\n",
      "Balanced Accuracy Score = 0.6153575273327182\n",
      "[[5326 4892]\n",
      " [ 423 1033]]\n",
      "              precision    recall  f1-score   support\n",
      "\n",
      "           0       0.93      0.52      0.67     10218\n",
      "           1       0.17      0.71      0.28      1456\n",
      "\n",
      "   micro avg       0.54      0.54      0.54     11674\n",
      "   macro avg       0.55      0.62      0.47     11674\n",
      "weighted avg       0.83      0.54      0.62     11674\n",
      "\n",
      "\n",
      " ** Threshold = 0.5 **\n",
      "Accuracy Score = 0.6636114442350523\n",
      "Balanced Accuracy Score = 0.614075650812292\n",
      "[[6949 3269]\n",
      " [ 658  798]]\n",
      "              precision    recall  f1-score   support\n",
      "\n",
      "           0       0.91      0.68      0.78     10218\n",
      "           1       0.20      0.55      0.29      1456\n",
      "\n",
      "   micro avg       0.66      0.66      0.66     11674\n",
      "   macro avg       0.55      0.61      0.53     11674\n",
      "weighted avg       0.82      0.66      0.72     11674\n",
      "\n"
     ]
    }
   ],
   "source": [
    "# Thresholding to maximize recall (LR #2)\n",
    "\n",
    "predicted_df = pd.DataFrame(new_reg.predict_proba(X_test1))\n",
    "thresholds = [0.05, 0.1, 0.15, 0.2, 0.25, 0.3, 0.35, 0.4, 0.45, 0.5]\n",
    "\n",
    "for i in thresholds:\n",
    "    print('\\n ** Threshold = {} **'.format(i))\n",
    "    y_test_pred = predicted_df.applymap(lambda x: 1 if x>i else 0)\n",
    "    test_accuracy = accuracy_score(y_test1.as_matrix().reshape(y_test1.as_matrix().size,1),\n",
    "                                           y_test_pred.iloc[:,1].as_matrix().reshape(y_test_pred.iloc[:,1].as_matrix().size,1))\n",
    "    print('Accuracy Score = {}'.format(test_accuracy))\n",
    "    print('Balanced Accuracy Score = {}'.format(balanced_accuracy_score(y_test1.as_matrix().reshape(y_test1.as_matrix().size,1),\n",
    "                           y_test_pred.iloc[:,1].as_matrix().reshape(y_test_pred.iloc[:,1].as_matrix().size,1))))\n",
    "    print(confusion_matrix(y_test1.as_matrix().reshape(y_test1.as_matrix().size,1),\n",
    "                           y_test_pred.iloc[:,1].as_matrix().reshape(y_test_pred.iloc[:,1].as_matrix().size,1)))\n",
    "    print(classification_report(y_test1.as_matrix().reshape(y_test1.as_matrix().size,1),\n",
    "                           y_test_pred.iloc[:,1].as_matrix().reshape(y_test_pred.iloc[:,1].as_matrix().size,1)))"
   ]
  },
  {
   "cell_type": "code",
   "execution_count": 52,
   "metadata": {
    "scrolled": false
   },
   "outputs": [
    {
     "name": "stdout",
     "output_type": "stream",
     "text": [
      "0.6619765351598881\n"
     ]
    },
    {
     "data": {
      "image/png": "[encoded data removed]",
      "text/plain": [
       "<Figure size 432x288 with 1 Axes>"
      ]
     },
     "metadata": {
      "needs_background": "light"
     },
     "output_type": "display_data"
    }
   ],
   "source": [
    "print(roc_auc_score(y_test1, new_reg.predict_proba(X_test1)[:,1]))\n",
    "\n",
    "# ROC Curve\n",
    "\n",
    "from sklearn.metrics import roc_curve\n",
    "\n",
    "roc_auc = roc_auc_score(y_test1, y_pred1)\n",
    "fpr, tpr, thresholds = roc_curve(y_test1, new_reg.predict_proba(X_test1)[:,1])\n",
    "plt.figure()\n",
    "\n",
    "plt.plot(fpr, tpr, label='Logistic Regression' % roc_auc)\n",
    "plt.plot([0, 1], [0, 1],'r--')\n",
    "\n",
    "plt.title('ROC')\n",
    "plt.xlabel('False Positive Rate')\n",
    "plt.ylabel('True Positive Rate')\n",
    "\n",
    "plt.xlim([0.0, 1.0])\n",
    "plt.ylim([0.0, 1.05])\n",
    "\n",
    "plt.legend(loc=\"upper left\")\n",
    "plt.show()"
   ]
  },
  {
   "cell_type": "markdown",
   "metadata": {},
   "source": [
    "..."
   ]
  },
  {
   "cell_type": "markdown",
   "metadata": {},
   "source": [
    "**k-Nearest Neighbors**"
   ]
  },
  {
   "cell_type": "code",
   "execution_count": 53,
   "metadata": {},
   "outputs": [
    {
     "data": {
      "image/png": "[encoded data removed]",
      "text/plain": [
       "<Figure size 432x288 with 1 Axes>"
      ]
     },
     "metadata": {
      "needs_background": "light"
     },
     "output_type": "display_data"
    }
   ],
   "source": [
    "from sklearn.neighbors import KNeighborsClassifier \n",
    "\n",
    "# Arrays for storing train and test accuracies\n",
    "neighbors = np.arange(1, 9)\n",
    "train_accuracy = np.empty(len(neighbors))\n",
    "test_accuracy = np.empty(len(neighbors))\n",
    "\n",
    "# Looping over different values of k\n",
    "for i, k in enumerate(neighbors):\n",
    "    knn = KNeighborsClassifier(n_neighbors=k)\n",
    "    \n",
    "    knn.fit(X_train, y_train)\n",
    "    \n",
    "    train_accuracy[i] = knn.score(X_train, y_train)\n",
    "\n",
    "    test_accuracy[i] = knn.score(X_test, y_test)\n",
    "\n",
    "# Plot\n",
    "plt.title('k-NN: Varying Number of Neighbors')\n",
    "plt.plot(neighbors, test_accuracy, label = 'Testing Accuracy')\n",
    "plt.plot(neighbors, train_accuracy, label = 'Training Accuracy')\n",
    "plt.legend()\n",
    "plt.xlabel('Number of Neighbors')\n",
    "plt.ylabel('Accuracy')\n",
    "plt.show()"
   ]
  },
  {
   "cell_type": "code",
   "execution_count": 54,
   "metadata": {},
   "outputs": [
    {
     "name": "stdout",
     "output_type": "stream",
     "text": [
      "k-NN Parameters: {'n_neighbors': 8}\n",
      "Best score is 0.8691886613040014\n"
     ]
    }
   ],
   "source": [
    "# GridSearching\n",
    "\n",
    "param_grid_knn = {'n_neighbors': np.arange(1,9)}\n",
    "\n",
    "knn = KNeighborsClassifier()\n",
    "knn_cv = GridSearchCV(knn, param_grid_knn, cv=5)\n",
    "knn_cv.fit(X, y)\n",
    "\n",
    "print(\"k-NN Parameters: {}\".format(knn_cv.best_params_))\n",
    "print(\"Best score is {}\".format(knn_cv.best_score_))"
   ]
  },
  {
   "cell_type": "code",
   "execution_count": 55,
   "metadata": {},
   "outputs": [
    {
     "name": "stdout",
     "output_type": "stream",
     "text": [
      "0.8700531094740449\n"
     ]
    }
   ],
   "source": [
    "X = run1_dummies.drop(['Target'], axis=1)\n",
    "y = run1_dummies['Target']\n",
    "\n",
    "X_train, X_test, y_train, y_test = train_test_split(X, y, test_size=0.3, random_state=42, stratify=y)\n",
    "\n",
    "knn = KNeighborsClassifier(n_neighbors=8)\n",
    "\n",
    "knn.fit(X_train, y_train)\n",
    "print(knn.score(X_test, y_test))"
   ]
  },
  {
   "cell_type": "code",
   "execution_count": 56,
   "metadata": {},
   "outputs": [
    {
     "name": "stdout",
     "output_type": "stream",
     "text": [
      "              precision    recall  f1-score   support\n",
      "\n",
      "           0       0.87      1.00      0.93     10171\n",
      "           1       0.38      0.01      0.03      1503\n",
      "\n",
      "   micro avg       0.87      0.87      0.87     11674\n",
      "   macro avg       0.63      0.51      0.48     11674\n",
      "weighted avg       0.81      0.87      0.81     11674\n",
      "\n",
      "[[10135    36]\n",
      " [ 1481    22]]\n",
      "0.020786394360055232\n"
     ]
    }
   ],
   "source": [
    "# k-NN Classification Report, Confusion Matrix, and F-Beta Score\n",
    "\n",
    "predicted_knn = knn.predict(X_test)\n",
    "knn_report = classification_report(y_test, predicted_knn)\n",
    "\n",
    "print(knn_report)\n",
    "print(confusion_matrix(y_test, predicted_knn))\n",
    "print(fbeta_score(y_test, predicted_knn, beta=1.5))"
   ]
  },
  {
   "cell_type": "code",
   "execution_count": 57,
   "metadata": {
    "scrolled": true
   },
   "outputs": [
    {
     "name": "stdout",
     "output_type": "stream",
     "text": [
      "\n",
      " ** Threshold = 0.1 **\n",
      "Accuracy Score = 0.4396093883844441\n",
      "[[4092 6079]\n",
      " [ 463 1040]]\n",
      "              precision    recall  f1-score   support\n",
      "\n",
      "           0       0.90      0.40      0.56     10171\n",
      "           1       0.15      0.69      0.24      1503\n",
      "\n",
      "   micro avg       0.44      0.44      0.44     11674\n",
      "   macro avg       0.52      0.55      0.40     11674\n",
      "weighted avg       0.80      0.44      0.52     11674\n",
      "\n",
      "F-Beta Score (beta = 1.5) = 0.32188177034973686\n",
      "0.5471348784749512\n",
      "\n",
      " ** Threshold = 0.2 **\n",
      "Accuracy Score = 0.7062703443549768\n",
      "[[7738 2433]\n",
      " [ 996  507]]\n",
      "              precision    recall  f1-score   support\n",
      "\n",
      "           0       0.89      0.76      0.82     10171\n",
      "           1       0.17      0.34      0.23      1503\n",
      "\n",
      "   micro avg       0.71      0.71      0.71     11674\n",
      "   macro avg       0.53      0.55      0.52     11674\n",
      "weighted avg       0.79      0.71      0.74     11674\n",
      "\n",
      "F-Beta Score (beta = 1.5) = 0.2606477636730336\n",
      "0.5490579160232283\n",
      "\n",
      " ** Threshold = 0.3 **\n",
      "Accuracy Score = 0.8271372280280966\n",
      "[[9446  725]\n",
      " [1293  210]]\n",
      "              precision    recall  f1-score   support\n",
      "\n",
      "           0       0.88      0.93      0.90     10171\n",
      "           1       0.22      0.14      0.17      1503\n",
      "\n",
      "   micro avg       0.83      0.83      0.83     11674\n",
      "   macro avg       0.55      0.53      0.54     11674\n",
      "weighted avg       0.80      0.83      0.81     11674\n",
      "\n",
      "F-Beta Score (beta = 1.5) = 0.15810505588695198\n",
      "0.5342197327888711\n",
      "\n",
      " ** Threshold = 0.4 **\n",
      "Accuracy Score = 0.8614870652732568\n"
     ]
    },
    {
     "name": "stderr",
     "output_type": "stream",
     "text": [
      "/Users/springboard/anaconda3/envs/ProjectEnv/lib/python3.7/site-packages/ipykernel_launcher.py:11: FutureWarning: Method .as_matrix will be removed in a future version. Use .values instead.\n",
      "  # This is added back by InteractiveShellApp.init_path()\n"
     ]
    },
    {
     "name": "stdout",
     "output_type": "stream",
     "text": [
      "[[9993  178]\n",
      " [1439   64]]\n",
      "              precision    recall  f1-score   support\n",
      "\n",
      "           0       0.87      0.98      0.93     10171\n",
      "           1       0.26      0.04      0.07      1503\n",
      "\n",
      "   micro avg       0.86      0.86      0.86     11674\n",
      "   macro avg       0.57      0.51      0.50     11674\n",
      "weighted avg       0.80      0.86      0.82     11674\n",
      "\n",
      "F-Beta Score (beta = 1.5) = 0.05739910313901345\n",
      "0.5125403831343638\n",
      "\n",
      " ** Threshold = 0.5 **\n",
      "Accuracy Score = 0.8700531094740449\n",
      "[[10135    36]\n",
      " [ 1481    22]]\n",
      "              precision    recall  f1-score   support\n",
      "\n",
      "           0       0.87      1.00      0.93     10171\n",
      "           1       0.38      0.01      0.03      1503\n",
      "\n",
      "   micro avg       0.87      0.87      0.87     11674\n",
      "   macro avg       0.63      0.51      0.48     11674\n",
      "weighted avg       0.81      0.87      0.81     11674\n",
      "\n",
      "F-Beta Score (beta = 1.5) = 0.020786394360055232\n",
      "0.5055489584525112\n"
     ]
    }
   ],
   "source": [
    "# Thresholding to maximize recall (for kNN)\n",
    "\n",
    "from sklearn.metrics import fbeta_score\n",
    "\n",
    "knn_df = pd.DataFrame(knn.predict_proba(X_test))\n",
    "thresholds = [0.1, 0.2, 0.3, 0.4, 0.5]\n",
    "\n",
    "for i in thresholds:\n",
    "    print('\\n ** Threshold = {} **'.format(i))\n",
    "    knn_test_pred = knn_df.applymap(lambda x: 1 if x>i else 0)\n",
    "    knn_accuracy = accuracy_score(y_test.as_matrix().reshape(y_test.as_matrix().size,1),\n",
    "                                           knn_test_pred.iloc[:,1].as_matrix().reshape(knn_test_pred.iloc[:,1].as_matrix().size,1))\n",
    "    print('Accuracy Score = {}'.format(knn_accuracy))\n",
    "    print(confusion_matrix(y_test.as_matrix().reshape(y_test.as_matrix().size,1),\n",
    "                           knn_test_pred.iloc[:,1].as_matrix().reshape(knn_test_pred.iloc[:,1].as_matrix().size,1)))\n",
    "    print(classification_report(y_test.as_matrix().reshape(y_test.as_matrix().size,1),\n",
    "                           knn_test_pred.iloc[:,1].as_matrix().reshape(knn_test_pred.iloc[:,1].as_matrix().size,1)))\n",
    "    print('F-Beta Score (beta = 1.5) = {}'.format(fbeta_score(y_test.as_matrix().reshape(y_test.as_matrix().size,1),\n",
    "                           knn_test_pred.iloc[:,1].as_matrix().reshape(knn_test_pred.iloc[:,1].as_matrix().size,1), beta=1.5)))\n",
    "    print(balanced_accuracy_score(y_test.as_matrix().reshape(y_test.as_matrix().size,1),\n",
    "                           knn_test_pred.iloc[:,1].as_matrix().reshape(knn_test_pred.iloc[:,1].as_matrix().size,1)))"
   ]
  },
  {
   "cell_type": "markdown",
   "metadata": {},
   "source": [
    "..."
   ]
  },
  {
   "cell_type": "markdown",
   "metadata": {},
   "source": [
    "# Cost Analysis"
   ]
  },
  {
   "cell_type": "code",
   "execution_count": 61,
   "metadata": {},
   "outputs": [],
   "source": [
    "from sklearn.metrics import confusion_matrix\n",
    "\n",
    "def standard_confusion_matrix(y_true, y_pred):\n",
    "    [[TN, FP], [FN, TP]] = confusion_matrix(y_true, y_pred)\n",
    "    FN = np.array(1, 0)\n",
    "    FP = np.array[0, 1]\n",
    "    TP = np.array[0, 0]\n",
    "    profit = ((FN * 500) + (FP * 100) + (TP * 100))\n",
    "    return profit\n",
    "\n",
    "\n",
    "#Profit = FN*cb + FP*ch + TP*ch "
   ]
  },
  {
   "cell_type": "code",
   "execution_count": 59,
   "metadata": {},
   "outputs": [
    {
     "data": {
      "text/plain": [
       "array([[6903, 3315],\n",
       "       [ 648,  808]])"
      ]
     },
     "execution_count": 59,
     "metadata": {},
     "output_type": "execute_result"
    }
   ],
   "source": [
    "confusion_matrix(y_test1, predicted1)"
   ]
  },
  {
   "cell_type": "code",
   "execution_count": 60,
   "metadata": {},
   "outputs": [
    {
     "ename": "TypeError",
     "evalue": "data type not understood",
     "output_type": "error",
     "traceback": [
      "\u001b[0;31m---------------------------------------------------------------------------\u001b[0m",
      "\u001b[0;31mTypeError\u001b[0m                                 Traceback (most recent call last)",
      "\u001b[0;32m<ipython-input-60-b5068b3b1b7e>\u001b[0m in \u001b[0;36m<module>\u001b[0;34m\u001b[0m\n\u001b[0;32m----> 1\u001b[0;31m \u001b[0mstandard_confusion_matrix\u001b[0m\u001b[0;34m(\u001b[0m\u001b[0my_test1\u001b[0m\u001b[0;34m,\u001b[0m \u001b[0mpredicted1\u001b[0m\u001b[0;34m)\u001b[0m\u001b[0;34m\u001b[0m\u001b[0;34m\u001b[0m\u001b[0m\n\u001b[0m",
      "\u001b[0;32m<ipython-input-58-fba0d0f0b676>\u001b[0m in \u001b[0;36mstandard_confusion_matrix\u001b[0;34m(y_true, y_pred)\u001b[0m\n\u001b[1;32m      5\u001b[0m \u001b[0;32mdef\u001b[0m \u001b[0mstandard_confusion_matrix\u001b[0m\u001b[0;34m(\u001b[0m\u001b[0my_true\u001b[0m\u001b[0;34m,\u001b[0m \u001b[0my_pred\u001b[0m\u001b[0;34m)\u001b[0m\u001b[0;34m:\u001b[0m\u001b[0;34m\u001b[0m\u001b[0;34m\u001b[0m\u001b[0m\n\u001b[1;32m      6\u001b[0m     \u001b[0;34m[\u001b[0m\u001b[0;34m[\u001b[0m\u001b[0mtn\u001b[0m\u001b[0;34m,\u001b[0m \u001b[0mfp\u001b[0m\u001b[0;34m]\u001b[0m\u001b[0;34m,\u001b[0m \u001b[0;34m[\u001b[0m\u001b[0mfn\u001b[0m\u001b[0;34m,\u001b[0m \u001b[0mtp\u001b[0m\u001b[0;34m]\u001b[0m\u001b[0;34m]\u001b[0m \u001b[0;34m=\u001b[0m \u001b[0mconfusion_matrix\u001b[0m\u001b[0;34m(\u001b[0m\u001b[0my_true\u001b[0m\u001b[0;34m,\u001b[0m \u001b[0my_pred\u001b[0m\u001b[0;34m)\u001b[0m\u001b[0;34m\u001b[0m\u001b[0;34m\u001b[0m\u001b[0m\n\u001b[0;32m----> 7\u001b[0;31m     \u001b[0mFN\u001b[0m \u001b[0;34m=\u001b[0m \u001b[0mnp\u001b[0m\u001b[0;34m.\u001b[0m\u001b[0marray\u001b[0m\u001b[0;34m(\u001b[0m\u001b[0;36m1\u001b[0m\u001b[0;34m,\u001b[0m \u001b[0;36m0\u001b[0m\u001b[0;34m)\u001b[0m\u001b[0;34m\u001b[0m\u001b[0;34m\u001b[0m\u001b[0m\n\u001b[0m\u001b[1;32m      8\u001b[0m     \u001b[0mprint\u001b[0m\u001b[0;34m(\u001b[0m\u001b[0mFN\u001b[0m\u001b[0;34m)\u001b[0m\u001b[0;34m\u001b[0m\u001b[0;34m\u001b[0m\u001b[0m\n\u001b[1;32m      9\u001b[0m     \u001b[0mFP\u001b[0m \u001b[0;34m=\u001b[0m \u001b[0mnp\u001b[0m\u001b[0;34m.\u001b[0m\u001b[0marray\u001b[0m\u001b[0;34m[\u001b[0m\u001b[0;36m0\u001b[0m\u001b[0;34m,\u001b[0m \u001b[0;36m1\u001b[0m\u001b[0;34m]\u001b[0m\u001b[0;34m\u001b[0m\u001b[0;34m\u001b[0m\u001b[0m\n",
      "\u001b[0;31mTypeError\u001b[0m: data type not understood"
     ]
    }
   ],
   "source": [
    "standard_confusion_matrix(y_test1, predicted1)"
   ]
  }
 ],
 "metadata": {
  "kernelspec": {
   "display_name": "Python 3",
   "language": "python",
   "name": "python3"
  },
  "language_info": {
   "codemirror_mode": {
    "name": "ipython",
    "version": 3
   },
   "file_extension": ".py",
   "mimetype": "text/x-python",
   "name": "python",
   "nbconvert_exporter": "python",
   "pygments_lexer": "ipython3",
   "version": "3.7.3"
  }
 },
 "nbformat": 4,
 "nbformat_minor": 2
}
